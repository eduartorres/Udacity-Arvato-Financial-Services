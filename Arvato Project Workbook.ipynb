{
 "cells": [
  {
   "cell_type": "markdown",
   "metadata": {},
   "source": [
    "# Capstone Project: Create a Customer Segmentation Report for Arvato Financial Services\n",
    "\n",
    "In this project, you will analyze demographics data for customers of a mail-order sales company in Germany, comparing it against demographics information for the general population. You'll use unsupervised learning techniques to perform customer segmentation, identifying the parts of the population that best describe the core customer base of the company. Then, you'll apply what you've learned on a third dataset with demographics information for targets of a marketing campaign for the company, and use a model to predict which individuals are most likely to convert into becoming customers for the company. The data that you will use has been provided by our partners at Bertelsmann Arvato Analytics, and represents a real-life data science task.\n",
    "\n",
    "If you completed the first term of this program, you will be familiar with the first part of this project, from the unsupervised learning project. The versions of those two datasets used in this project will include many more features and has not been pre-cleaned. You are also free to choose whatever approach you'd like to analyzing the data rather than follow pre-determined steps. In your work on this project, make sure that you carefully document your steps and decisions, since your main deliverable for this project will be a blog post reporting your findings."
   ]
  },
  {
   "cell_type": "code",
   "execution_count": 1,
   "metadata": {},
   "outputs": [],
   "source": [
    "# import libraries here; add more as necessary\n",
    "import numpy as np\n",
    "import pandas as pd\n",
    "import matplotlib.pyplot as plt\n",
    "import seaborn as sns\n",
    "import pickle\n",
    "import matplotlib.pyplot as plt\n",
    "import seaborn as sns\n",
    "from scipy.stats import skew\n",
    "from scipy import stats\n",
    "from time import time\n",
    "\n",
    "from sklearn.pipeline import Pipeline\n",
    "from sklearn.preprocessing import Imputer\n",
    "from sklearn.preprocessing import StandardScaler, FunctionTransformer, OneHotEncoder, MinMaxScaler\n",
    "#from sklearn.compose import ColumnTransformer\n",
    "from sklearn.preprocessing import Imputer\n",
    "from sklearn.decomposition import PCA\n",
    "from sklearn.cluster import KMeans\n",
    "from sklearn.cluster import DBSCAN\n",
    "from sklearn.cluster import MeanShift\n",
    "\n",
    "from sklearn.ensemble import RandomForestClassifier, AdaBoostClassifier, GradientBoostingClassifier\n",
    "from sklearn.ensemble import AdaBoostRegressor\n",
    "from sklearn.ensemble import GradientBoostingRegressor \n",
    "from sklearn.svm import SVC\n",
    "from sklearn.linear_model import LogisticRegression, SGDClassifier\n",
    "from sklearn.neighbors import KNeighborsClassifier\n",
    "from sklearn.tree import DecisionTreeClassifier\n",
    "#from xgboost.sklearn import XGBRegressor\n",
    "#import xgboost as xgb\n",
    "from sklearn.model_selection import train_test_split\n",
    "from sklearn.model_selection import StratifiedKFold\n",
    "from sklearn.model_selection import learning_curve\n",
    "from sklearn.model_selection import GridSearchCV\n",
    "from sklearn.metrics import roc_auc_score, fbeta_score, accuracy_score, precision_score, recall_score\n",
    "from sklearn.metrics import f1_score, confusion_matrix, classification_report, roc_curve, auc, roc_auc_score, make_scorer\n",
    "from sklearn.model_selection import RepeatedStratifiedKFold\n",
    "\n",
    "# magic word for producing visualizations in notebook\n",
    "%matplotlib inline"
   ]
  },
  {
   "cell_type": "markdown",
   "metadata": {},
   "source": [
    "## Part 0: Get to Know the Data\n",
    "\n",
    "There are four data files associated with this project:\n",
    "\n",
    "- `Udacity_AZDIAS_052018.csv`: Demographics data for the general population of Germany; 891 211 persons (rows) x 366 features (columns).\n",
    "- `Udacity_CUSTOMERS_052018.csv`: Demographics data for customers of a mail-order company; 191 652 persons (rows) x 369 features (columns).\n",
    "- `Udacity_MAILOUT_052018_TRAIN.csv`: Demographics data for individuals who were targets of a marketing campaign; 42 982 persons (rows) x 367 (columns).\n",
    "- `Udacity_MAILOUT_052018_TEST.csv`: Demographics data for individuals who were targets of a marketing campaign; 42 833 persons (rows) x 366 (columns).\n",
    "\n",
    "Each row of the demographics files represents a single person, but also includes information outside of individuals, including information about their household, building, and neighborhood. Use the information from the first two files to figure out how customers (\"CUSTOMERS\") are similar to or differ from the general population at large (\"AZDIAS\"), then use your analysis to make predictions on the other two files (\"MAILOUT\"), predicting which recipients are most likely to become a customer for the mail-order company.\n",
    "\n",
    "The \"CUSTOMERS\" file contains three extra columns ('CUSTOMER_GROUP', 'ONLINE_PURCHASE', and 'PRODUCT_GROUP'), which provide broad information about the customers depicted in the file. The original \"MAILOUT\" file included one additional column, \"RESPONSE\", which indicated whether or not each recipient became a customer of the company. For the \"TRAIN\" subset, this column has been retained, but in the \"TEST\" subset it has been removed; it is against that withheld column that your final predictions will be assessed in the Kaggle competition.\n",
    "\n",
    "Otherwise, all of the remaining columns are the same between the three data files. For more information about the columns depicted in the files, you can refer to two Excel spreadsheets provided in the workspace. [One of them](./DIAS Information Levels - Attributes 2017.xlsx) is a top-level list of attributes and descriptions, organized by informational category. [The other](./DIAS Attributes - Values 2017.xlsx) is a detailed mapping of data values for each feature in alphabetical order.\n",
    "\n",
    "In the below cell, we've provided some initial code to load in the first two datasets. Note for all of the `.csv` data files in this project that they're semicolon (`;`) delimited, so an additional argument in the [`read_csv()`](https://pandas.pydata.org/pandas-docs/stable/generated/pandas.read_csv.html) call has been included to read in the data properly. Also, considering the size of the datasets, it may take some time for them to load completely.\n",
    "\n",
    "You'll notice when the data is loaded in that a warning message will immediately pop up. Before you really start digging into the modeling and analysis, you're going to need to perform some cleaning. Take some time to browse the structure of the data and look over the informational spreadsheets to understand the data values. Make some decisions on which features to keep, which features to drop, and if any revisions need to be made on data formats. It'll be a good idea to create a function with pre-processing steps, since you'll need to clean all of the datasets before you work with them."
   ]
  },
  {
   "cell_type": "code",
   "execution_count": 2,
   "metadata": {},
   "outputs": [
    {
     "name": "stderr",
     "output_type": "stream",
     "text": [
      "<string>:2: DtypeWarning: Columns (18,19) have mixed types. Specify dtype option on import or set low_memory=False.\n"
     ]
    },
    {
     "name": "stdout",
     "output_type": "stream",
     "text": [
      "CPU times: user 57 s, sys: 16.4 s, total: 1min 13s\n",
      "Wall time: 12min 59s\n"
     ]
    }
   ],
   "source": [
    "%%time\n",
    "# load in the data\n",
    "azdias = pd.read_csv('../../data/Term2/capstone/arvato_data/Udacity_AZDIAS_052018.csv', sep=';')\n",
    "customers = pd.read_csv('../../data/Term2/capstone/arvato_data/Udacity_CUSTOMERS_052018.csv', sep=';')"
   ]
  },
  {
   "cell_type": "code",
   "execution_count": 3,
   "metadata": {},
   "outputs": [],
   "source": [
    "# Be sure to add in a lot more cells (both markdown and code) to document your\n",
    "# approach and findings!"
   ]
  },
  {
   "cell_type": "code",
   "execution_count": 4,
   "metadata": {},
   "outputs": [],
   "source": [
    "# Due the loading process takes its time\n",
    "# Back up of data for future analysis with raw data\n",
    "azdias_copy = azdias.copy()\n",
    "customers_copy = customers.copy()"
   ]
  },
  {
   "cell_type": "code",
   "execution_count": 5,
   "metadata": {},
   "outputs": [],
   "source": [
    "azdias = azdias_copy \n",
    "customers = customers_copy"
   ]
  },
  {
   "cell_type": "markdown",
   "metadata": {},
   "source": [
    "### Exploratory Data Analysis"
   ]
  },
  {
   "cell_type": "code",
   "execution_count": 6,
   "metadata": {},
   "outputs": [
    {
     "name": "stdout",
     "output_type": "stream",
     "text": [
      "Number of rows and columns in the azdias dataset are: 891221 and 366\n"
     ]
    }
   ],
   "source": [
    "print('Number of rows and columns in the azdias dataset are: {} and {}'.format(azdias.shape[0],azdias.shape[1]))"
   ]
  },
  {
   "cell_type": "code",
   "execution_count": 7,
   "metadata": {},
   "outputs": [
    {
     "data": {
      "text/html": [
       "<div>\n",
       "<style scoped>\n",
       "    .dataframe tbody tr th:only-of-type {\n",
       "        vertical-align: middle;\n",
       "    }\n",
       "\n",
       "    .dataframe tbody tr th {\n",
       "        vertical-align: top;\n",
       "    }\n",
       "\n",
       "    .dataframe thead th {\n",
       "        text-align: right;\n",
       "    }\n",
       "</style>\n",
       "<table border=\"1\" class=\"dataframe\">\n",
       "  <thead>\n",
       "    <tr style=\"text-align: right;\">\n",
       "      <th></th>\n",
       "      <th>LNR</th>\n",
       "      <th>AGER_TYP</th>\n",
       "      <th>AKT_DAT_KL</th>\n",
       "      <th>ALTER_HH</th>\n",
       "      <th>ALTER_KIND1</th>\n",
       "      <th>ALTER_KIND2</th>\n",
       "      <th>ALTER_KIND3</th>\n",
       "      <th>ALTER_KIND4</th>\n",
       "      <th>ALTERSKATEGORIE_FEIN</th>\n",
       "      <th>ANZ_HAUSHALTE_AKTIV</th>\n",
       "      <th>...</th>\n",
       "      <th>VHN</th>\n",
       "      <th>VK_DHT4A</th>\n",
       "      <th>VK_DISTANZ</th>\n",
       "      <th>VK_ZG11</th>\n",
       "      <th>W_KEIT_KIND_HH</th>\n",
       "      <th>WOHNDAUER_2008</th>\n",
       "      <th>WOHNLAGE</th>\n",
       "      <th>ZABEOTYP</th>\n",
       "      <th>ANREDE_KZ</th>\n",
       "      <th>ALTERSKATEGORIE_GROB</th>\n",
       "    </tr>\n",
       "  </thead>\n",
       "  <tbody>\n",
       "    <tr>\n",
       "      <th>546266</th>\n",
       "      <td>237480</td>\n",
       "      <td>-1</td>\n",
       "      <td>8.0</td>\n",
       "      <td>18.0</td>\n",
       "      <td>NaN</td>\n",
       "      <td>NaN</td>\n",
       "      <td>NaN</td>\n",
       "      <td>NaN</td>\n",
       "      <td>18.0</td>\n",
       "      <td>8.0</td>\n",
       "      <td>...</td>\n",
       "      <td>4.0</td>\n",
       "      <td>7.0</td>\n",
       "      <td>8.0</td>\n",
       "      <td>5.0</td>\n",
       "      <td>4.0</td>\n",
       "      <td>4.0</td>\n",
       "      <td>7.0</td>\n",
       "      <td>5</td>\n",
       "      <td>2</td>\n",
       "      <td>1</td>\n",
       "    </tr>\n",
       "    <tr>\n",
       "      <th>680110</th>\n",
       "      <td>401630</td>\n",
       "      <td>-1</td>\n",
       "      <td>NaN</td>\n",
       "      <td>NaN</td>\n",
       "      <td>NaN</td>\n",
       "      <td>NaN</td>\n",
       "      <td>NaN</td>\n",
       "      <td>NaN</td>\n",
       "      <td>NaN</td>\n",
       "      <td>NaN</td>\n",
       "      <td>...</td>\n",
       "      <td>NaN</td>\n",
       "      <td>NaN</td>\n",
       "      <td>NaN</td>\n",
       "      <td>NaN</td>\n",
       "      <td>NaN</td>\n",
       "      <td>NaN</td>\n",
       "      <td>NaN</td>\n",
       "      <td>3</td>\n",
       "      <td>2</td>\n",
       "      <td>3</td>\n",
       "    </tr>\n",
       "    <tr>\n",
       "      <th>202500</th>\n",
       "      <td>889391</td>\n",
       "      <td>-1</td>\n",
       "      <td>9.0</td>\n",
       "      <td>0.0</td>\n",
       "      <td>NaN</td>\n",
       "      <td>NaN</td>\n",
       "      <td>NaN</td>\n",
       "      <td>NaN</td>\n",
       "      <td>NaN</td>\n",
       "      <td>3.0</td>\n",
       "      <td>...</td>\n",
       "      <td>3.0</td>\n",
       "      <td>9.0</td>\n",
       "      <td>12.0</td>\n",
       "      <td>9.0</td>\n",
       "      <td>5.0</td>\n",
       "      <td>9.0</td>\n",
       "      <td>2.0</td>\n",
       "      <td>4</td>\n",
       "      <td>2</td>\n",
       "      <td>3</td>\n",
       "    </tr>\n",
       "    <tr>\n",
       "      <th>105304</th>\n",
       "      <td>297682</td>\n",
       "      <td>2</td>\n",
       "      <td>1.0</td>\n",
       "      <td>10.0</td>\n",
       "      <td>NaN</td>\n",
       "      <td>NaN</td>\n",
       "      <td>NaN</td>\n",
       "      <td>NaN</td>\n",
       "      <td>10.0</td>\n",
       "      <td>9.0</td>\n",
       "      <td>...</td>\n",
       "      <td>3.0</td>\n",
       "      <td>6.0</td>\n",
       "      <td>7.0</td>\n",
       "      <td>4.0</td>\n",
       "      <td>6.0</td>\n",
       "      <td>9.0</td>\n",
       "      <td>4.0</td>\n",
       "      <td>3</td>\n",
       "      <td>2</td>\n",
       "      <td>4</td>\n",
       "    </tr>\n",
       "    <tr>\n",
       "      <th>110043</th>\n",
       "      <td>249889</td>\n",
       "      <td>-1</td>\n",
       "      <td>1.0</td>\n",
       "      <td>9.0</td>\n",
       "      <td>NaN</td>\n",
       "      <td>NaN</td>\n",
       "      <td>NaN</td>\n",
       "      <td>NaN</td>\n",
       "      <td>NaN</td>\n",
       "      <td>1.0</td>\n",
       "      <td>...</td>\n",
       "      <td>2.0</td>\n",
       "      <td>6.0</td>\n",
       "      <td>6.0</td>\n",
       "      <td>3.0</td>\n",
       "      <td>6.0</td>\n",
       "      <td>9.0</td>\n",
       "      <td>7.0</td>\n",
       "      <td>1</td>\n",
       "      <td>2</td>\n",
       "      <td>4</td>\n",
       "    </tr>\n",
       "    <tr>\n",
       "      <th>579218</th>\n",
       "      <td>393511</td>\n",
       "      <td>2</td>\n",
       "      <td>1.0</td>\n",
       "      <td>10.0</td>\n",
       "      <td>NaN</td>\n",
       "      <td>NaN</td>\n",
       "      <td>NaN</td>\n",
       "      <td>NaN</td>\n",
       "      <td>10.0</td>\n",
       "      <td>1.0</td>\n",
       "      <td>...</td>\n",
       "      <td>3.0</td>\n",
       "      <td>9.0</td>\n",
       "      <td>6.0</td>\n",
       "      <td>3.0</td>\n",
       "      <td>6.0</td>\n",
       "      <td>9.0</td>\n",
       "      <td>3.0</td>\n",
       "      <td>3</td>\n",
       "      <td>2</td>\n",
       "      <td>4</td>\n",
       "    </tr>\n",
       "    <tr>\n",
       "      <th>863617</th>\n",
       "      <td>203575</td>\n",
       "      <td>-1</td>\n",
       "      <td>NaN</td>\n",
       "      <td>NaN</td>\n",
       "      <td>NaN</td>\n",
       "      <td>NaN</td>\n",
       "      <td>NaN</td>\n",
       "      <td>NaN</td>\n",
       "      <td>NaN</td>\n",
       "      <td>NaN</td>\n",
       "      <td>...</td>\n",
       "      <td>NaN</td>\n",
       "      <td>NaN</td>\n",
       "      <td>NaN</td>\n",
       "      <td>NaN</td>\n",
       "      <td>NaN</td>\n",
       "      <td>NaN</td>\n",
       "      <td>NaN</td>\n",
       "      <td>3</td>\n",
       "      <td>2</td>\n",
       "      <td>3</td>\n",
       "    </tr>\n",
       "    <tr>\n",
       "      <th>554381</th>\n",
       "      <td>790504</td>\n",
       "      <td>3</td>\n",
       "      <td>1.0</td>\n",
       "      <td>12.0</td>\n",
       "      <td>NaN</td>\n",
       "      <td>NaN</td>\n",
       "      <td>NaN</td>\n",
       "      <td>NaN</td>\n",
       "      <td>12.0</td>\n",
       "      <td>25.0</td>\n",
       "      <td>...</td>\n",
       "      <td>4.0</td>\n",
       "      <td>1.0</td>\n",
       "      <td>1.0</td>\n",
       "      <td>1.0</td>\n",
       "      <td>6.0</td>\n",
       "      <td>8.0</td>\n",
       "      <td>3.0</td>\n",
       "      <td>6</td>\n",
       "      <td>1</td>\n",
       "      <td>3</td>\n",
       "    </tr>\n",
       "  </tbody>\n",
       "</table>\n",
       "<p>8 rows × 366 columns</p>\n",
       "</div>"
      ],
      "text/plain": [
       "           LNR  AGER_TYP  AKT_DAT_KL  ALTER_HH  ALTER_KIND1  ALTER_KIND2  \\\n",
       "546266  237480        -1         8.0      18.0          NaN          NaN   \n",
       "680110  401630        -1         NaN       NaN          NaN          NaN   \n",
       "202500  889391        -1         9.0       0.0          NaN          NaN   \n",
       "105304  297682         2         1.0      10.0          NaN          NaN   \n",
       "110043  249889        -1         1.0       9.0          NaN          NaN   \n",
       "579218  393511         2         1.0      10.0          NaN          NaN   \n",
       "863617  203575        -1         NaN       NaN          NaN          NaN   \n",
       "554381  790504         3         1.0      12.0          NaN          NaN   \n",
       "\n",
       "        ALTER_KIND3  ALTER_KIND4  ALTERSKATEGORIE_FEIN  ANZ_HAUSHALTE_AKTIV  \\\n",
       "546266          NaN          NaN                  18.0                  8.0   \n",
       "680110          NaN          NaN                   NaN                  NaN   \n",
       "202500          NaN          NaN                   NaN                  3.0   \n",
       "105304          NaN          NaN                  10.0                  9.0   \n",
       "110043          NaN          NaN                   NaN                  1.0   \n",
       "579218          NaN          NaN                  10.0                  1.0   \n",
       "863617          NaN          NaN                   NaN                  NaN   \n",
       "554381          NaN          NaN                  12.0                 25.0   \n",
       "\n",
       "               ...           VHN  VK_DHT4A  VK_DISTANZ  VK_ZG11  \\\n",
       "546266         ...           4.0       7.0         8.0      5.0   \n",
       "680110         ...           NaN       NaN         NaN      NaN   \n",
       "202500         ...           3.0       9.0        12.0      9.0   \n",
       "105304         ...           3.0       6.0         7.0      4.0   \n",
       "110043         ...           2.0       6.0         6.0      3.0   \n",
       "579218         ...           3.0       9.0         6.0      3.0   \n",
       "863617         ...           NaN       NaN         NaN      NaN   \n",
       "554381         ...           4.0       1.0         1.0      1.0   \n",
       "\n",
       "        W_KEIT_KIND_HH  WOHNDAUER_2008  WOHNLAGE ZABEOTYP ANREDE_KZ  \\\n",
       "546266             4.0             4.0       7.0        5         2   \n",
       "680110             NaN             NaN       NaN        3         2   \n",
       "202500             5.0             9.0       2.0        4         2   \n",
       "105304             6.0             9.0       4.0        3         2   \n",
       "110043             6.0             9.0       7.0        1         2   \n",
       "579218             6.0             9.0       3.0        3         2   \n",
       "863617             NaN             NaN       NaN        3         2   \n",
       "554381             6.0             8.0       3.0        6         1   \n",
       "\n",
       "       ALTERSKATEGORIE_GROB  \n",
       "546266                    1  \n",
       "680110                    3  \n",
       "202500                    3  \n",
       "105304                    4  \n",
       "110043                    4  \n",
       "579218                    4  \n",
       "863617                    3  \n",
       "554381                    3  \n",
       "\n",
       "[8 rows x 366 columns]"
      ]
     },
     "execution_count": 7,
     "metadata": {},
     "output_type": "execute_result"
    }
   ],
   "source": [
    "azdias.sample(8)"
   ]
  },
  {
   "cell_type": "code",
   "execution_count": 8,
   "metadata": {},
   "outputs": [
    {
     "name": "stdout",
     "output_type": "stream",
     "text": [
      "Number of rows and columns in the customers dataset are: 191652 and 369\n"
     ]
    }
   ],
   "source": [
    "print('Number of rows and columns in the customers dataset are: {} and {}'.format(customers.shape[0],customers.shape[1]))"
   ]
  },
  {
   "cell_type": "code",
   "execution_count": 9,
   "metadata": {},
   "outputs": [
    {
     "data": {
      "text/html": [
       "<div>\n",
       "<style scoped>\n",
       "    .dataframe tbody tr th:only-of-type {\n",
       "        vertical-align: middle;\n",
       "    }\n",
       "\n",
       "    .dataframe tbody tr th {\n",
       "        vertical-align: top;\n",
       "    }\n",
       "\n",
       "    .dataframe thead th {\n",
       "        text-align: right;\n",
       "    }\n",
       "</style>\n",
       "<table border=\"1\" class=\"dataframe\">\n",
       "  <thead>\n",
       "    <tr style=\"text-align: right;\">\n",
       "      <th></th>\n",
       "      <th>LNR</th>\n",
       "      <th>AGER_TYP</th>\n",
       "      <th>AKT_DAT_KL</th>\n",
       "      <th>ALTER_HH</th>\n",
       "      <th>ALTER_KIND1</th>\n",
       "      <th>ALTER_KIND2</th>\n",
       "      <th>ALTER_KIND3</th>\n",
       "      <th>ALTER_KIND4</th>\n",
       "      <th>ALTERSKATEGORIE_FEIN</th>\n",
       "      <th>ANZ_HAUSHALTE_AKTIV</th>\n",
       "      <th>...</th>\n",
       "      <th>VK_ZG11</th>\n",
       "      <th>W_KEIT_KIND_HH</th>\n",
       "      <th>WOHNDAUER_2008</th>\n",
       "      <th>WOHNLAGE</th>\n",
       "      <th>ZABEOTYP</th>\n",
       "      <th>PRODUCT_GROUP</th>\n",
       "      <th>CUSTOMER_GROUP</th>\n",
       "      <th>ONLINE_PURCHASE</th>\n",
       "      <th>ANREDE_KZ</th>\n",
       "      <th>ALTERSKATEGORIE_GROB</th>\n",
       "    </tr>\n",
       "  </thead>\n",
       "  <tbody>\n",
       "    <tr>\n",
       "      <th>97255</th>\n",
       "      <td>108294</td>\n",
       "      <td>1</td>\n",
       "      <td>1.0</td>\n",
       "      <td>12.0</td>\n",
       "      <td>NaN</td>\n",
       "      <td>NaN</td>\n",
       "      <td>NaN</td>\n",
       "      <td>NaN</td>\n",
       "      <td>12.0</td>\n",
       "      <td>1.0</td>\n",
       "      <td>...</td>\n",
       "      <td>6.0</td>\n",
       "      <td>3.0</td>\n",
       "      <td>9.0</td>\n",
       "      <td>4.0</td>\n",
       "      <td>3</td>\n",
       "      <td>FOOD</td>\n",
       "      <td>SINGLE_BUYER</td>\n",
       "      <td>1</td>\n",
       "      <td>1</td>\n",
       "      <td>4</td>\n",
       "    </tr>\n",
       "    <tr>\n",
       "      <th>9865</th>\n",
       "      <td>166508</td>\n",
       "      <td>-1</td>\n",
       "      <td>1.0</td>\n",
       "      <td>16.0</td>\n",
       "      <td>NaN</td>\n",
       "      <td>NaN</td>\n",
       "      <td>NaN</td>\n",
       "      <td>NaN</td>\n",
       "      <td>0.0</td>\n",
       "      <td>1.0</td>\n",
       "      <td>...</td>\n",
       "      <td>5.0</td>\n",
       "      <td>2.0</td>\n",
       "      <td>9.0</td>\n",
       "      <td>3.0</td>\n",
       "      <td>1</td>\n",
       "      <td>COSMETIC_AND_FOOD</td>\n",
       "      <td>MULTI_BUYER</td>\n",
       "      <td>0</td>\n",
       "      <td>2</td>\n",
       "      <td>4</td>\n",
       "    </tr>\n",
       "    <tr>\n",
       "      <th>158432</th>\n",
       "      <td>88468</td>\n",
       "      <td>1</td>\n",
       "      <td>1.0</td>\n",
       "      <td>10.0</td>\n",
       "      <td>NaN</td>\n",
       "      <td>NaN</td>\n",
       "      <td>NaN</td>\n",
       "      <td>NaN</td>\n",
       "      <td>10.0</td>\n",
       "      <td>2.0</td>\n",
       "      <td>...</td>\n",
       "      <td>4.0</td>\n",
       "      <td>6.0</td>\n",
       "      <td>9.0</td>\n",
       "      <td>7.0</td>\n",
       "      <td>4</td>\n",
       "      <td>COSMETIC_AND_FOOD</td>\n",
       "      <td>MULTI_BUYER</td>\n",
       "      <td>0</td>\n",
       "      <td>2</td>\n",
       "      <td>4</td>\n",
       "    </tr>\n",
       "    <tr>\n",
       "      <th>111718</th>\n",
       "      <td>114423</td>\n",
       "      <td>2</td>\n",
       "      <td>1.0</td>\n",
       "      <td>12.0</td>\n",
       "      <td>NaN</td>\n",
       "      <td>NaN</td>\n",
       "      <td>NaN</td>\n",
       "      <td>NaN</td>\n",
       "      <td>12.0</td>\n",
       "      <td>22.0</td>\n",
       "      <td>...</td>\n",
       "      <td>2.0</td>\n",
       "      <td>6.0</td>\n",
       "      <td>9.0</td>\n",
       "      <td>2.0</td>\n",
       "      <td>3</td>\n",
       "      <td>COSMETIC_AND_FOOD</td>\n",
       "      <td>MULTI_BUYER</td>\n",
       "      <td>0</td>\n",
       "      <td>2</td>\n",
       "      <td>3</td>\n",
       "    </tr>\n",
       "    <tr>\n",
       "      <th>2188</th>\n",
       "      <td>81272</td>\n",
       "      <td>1</td>\n",
       "      <td>1.0</td>\n",
       "      <td>17.0</td>\n",
       "      <td>NaN</td>\n",
       "      <td>NaN</td>\n",
       "      <td>NaN</td>\n",
       "      <td>NaN</td>\n",
       "      <td>10.0</td>\n",
       "      <td>3.0</td>\n",
       "      <td>...</td>\n",
       "      <td>1.0</td>\n",
       "      <td>2.0</td>\n",
       "      <td>9.0</td>\n",
       "      <td>4.0</td>\n",
       "      <td>3</td>\n",
       "      <td>COSMETIC</td>\n",
       "      <td>MULTI_BUYER</td>\n",
       "      <td>0</td>\n",
       "      <td>1</td>\n",
       "      <td>4</td>\n",
       "    </tr>\n",
       "    <tr>\n",
       "      <th>55994</th>\n",
       "      <td>45803</td>\n",
       "      <td>3</td>\n",
       "      <td>1.0</td>\n",
       "      <td>10.0</td>\n",
       "      <td>NaN</td>\n",
       "      <td>NaN</td>\n",
       "      <td>NaN</td>\n",
       "      <td>NaN</td>\n",
       "      <td>10.0</td>\n",
       "      <td>1.0</td>\n",
       "      <td>...</td>\n",
       "      <td>1.0</td>\n",
       "      <td>6.0</td>\n",
       "      <td>9.0</td>\n",
       "      <td>2.0</td>\n",
       "      <td>1</td>\n",
       "      <td>COSMETIC_AND_FOOD</td>\n",
       "      <td>MULTI_BUYER</td>\n",
       "      <td>0</td>\n",
       "      <td>1</td>\n",
       "      <td>2</td>\n",
       "    </tr>\n",
       "    <tr>\n",
       "      <th>40081</th>\n",
       "      <td>127513</td>\n",
       "      <td>-1</td>\n",
       "      <td>NaN</td>\n",
       "      <td>NaN</td>\n",
       "      <td>NaN</td>\n",
       "      <td>NaN</td>\n",
       "      <td>NaN</td>\n",
       "      <td>NaN</td>\n",
       "      <td>NaN</td>\n",
       "      <td>NaN</td>\n",
       "      <td>...</td>\n",
       "      <td>NaN</td>\n",
       "      <td>NaN</td>\n",
       "      <td>NaN</td>\n",
       "      <td>NaN</td>\n",
       "      <td>3</td>\n",
       "      <td>FOOD</td>\n",
       "      <td>SINGLE_BUYER</td>\n",
       "      <td>0</td>\n",
       "      <td>2</td>\n",
       "      <td>1</td>\n",
       "    </tr>\n",
       "    <tr>\n",
       "      <th>95587</th>\n",
       "      <td>63325</td>\n",
       "      <td>2</td>\n",
       "      <td>2.0</td>\n",
       "      <td>9.0</td>\n",
       "      <td>NaN</td>\n",
       "      <td>NaN</td>\n",
       "      <td>NaN</td>\n",
       "      <td>NaN</td>\n",
       "      <td>9.0</td>\n",
       "      <td>3.0</td>\n",
       "      <td>...</td>\n",
       "      <td>3.0</td>\n",
       "      <td>4.0</td>\n",
       "      <td>9.0</td>\n",
       "      <td>3.0</td>\n",
       "      <td>1</td>\n",
       "      <td>COSMETIC_AND_FOOD</td>\n",
       "      <td>MULTI_BUYER</td>\n",
       "      <td>0</td>\n",
       "      <td>1</td>\n",
       "      <td>4</td>\n",
       "    </tr>\n",
       "  </tbody>\n",
       "</table>\n",
       "<p>8 rows × 369 columns</p>\n",
       "</div>"
      ],
      "text/plain": [
       "           LNR  AGER_TYP  AKT_DAT_KL  ALTER_HH  ALTER_KIND1  ALTER_KIND2  \\\n",
       "97255   108294         1         1.0      12.0          NaN          NaN   \n",
       "9865    166508        -1         1.0      16.0          NaN          NaN   \n",
       "158432   88468         1         1.0      10.0          NaN          NaN   \n",
       "111718  114423         2         1.0      12.0          NaN          NaN   \n",
       "2188     81272         1         1.0      17.0          NaN          NaN   \n",
       "55994    45803         3         1.0      10.0          NaN          NaN   \n",
       "40081   127513        -1         NaN       NaN          NaN          NaN   \n",
       "95587    63325         2         2.0       9.0          NaN          NaN   \n",
       "\n",
       "        ALTER_KIND3  ALTER_KIND4  ALTERSKATEGORIE_FEIN  ANZ_HAUSHALTE_AKTIV  \\\n",
       "97255           NaN          NaN                  12.0                  1.0   \n",
       "9865            NaN          NaN                   0.0                  1.0   \n",
       "158432          NaN          NaN                  10.0                  2.0   \n",
       "111718          NaN          NaN                  12.0                 22.0   \n",
       "2188            NaN          NaN                  10.0                  3.0   \n",
       "55994           NaN          NaN                  10.0                  1.0   \n",
       "40081           NaN          NaN                   NaN                  NaN   \n",
       "95587           NaN          NaN                   9.0                  3.0   \n",
       "\n",
       "               ...           VK_ZG11  W_KEIT_KIND_HH  WOHNDAUER_2008  \\\n",
       "97255          ...               6.0             3.0             9.0   \n",
       "9865           ...               5.0             2.0             9.0   \n",
       "158432         ...               4.0             6.0             9.0   \n",
       "111718         ...               2.0             6.0             9.0   \n",
       "2188           ...               1.0             2.0             9.0   \n",
       "55994          ...               1.0             6.0             9.0   \n",
       "40081          ...               NaN             NaN             NaN   \n",
       "95587          ...               3.0             4.0             9.0   \n",
       "\n",
       "        WOHNLAGE  ZABEOTYP      PRODUCT_GROUP  CUSTOMER_GROUP ONLINE_PURCHASE  \\\n",
       "97255        4.0         3               FOOD    SINGLE_BUYER               1   \n",
       "9865         3.0         1  COSMETIC_AND_FOOD     MULTI_BUYER               0   \n",
       "158432       7.0         4  COSMETIC_AND_FOOD     MULTI_BUYER               0   \n",
       "111718       2.0         3  COSMETIC_AND_FOOD     MULTI_BUYER               0   \n",
       "2188         4.0         3           COSMETIC     MULTI_BUYER               0   \n",
       "55994        2.0         1  COSMETIC_AND_FOOD     MULTI_BUYER               0   \n",
       "40081        NaN         3               FOOD    SINGLE_BUYER               0   \n",
       "95587        3.0         1  COSMETIC_AND_FOOD     MULTI_BUYER               0   \n",
       "\n",
       "       ANREDE_KZ ALTERSKATEGORIE_GROB  \n",
       "97255          1                    4  \n",
       "9865           2                    4  \n",
       "158432         2                    4  \n",
       "111718         2                    3  \n",
       "2188           1                    4  \n",
       "55994          1                    2  \n",
       "40081          2                    1  \n",
       "95587          1                    4  \n",
       "\n",
       "[8 rows x 369 columns]"
      ]
     },
     "execution_count": 9,
     "metadata": {},
     "output_type": "execute_result"
    }
   ],
   "source": [
    "customers.sample(8)"
   ]
  },
  {
   "cell_type": "code",
   "execution_count": 10,
   "metadata": {},
   "outputs": [
    {
     "data": {
      "text/html": [
       "<div>\n",
       "<style scoped>\n",
       "    .dataframe tbody tr th:only-of-type {\n",
       "        vertical-align: middle;\n",
       "    }\n",
       "\n",
       "    .dataframe tbody tr th {\n",
       "        vertical-align: top;\n",
       "    }\n",
       "\n",
       "    .dataframe thead th {\n",
       "        text-align: right;\n",
       "    }\n",
       "</style>\n",
       "<table border=\"1\" class=\"dataframe\">\n",
       "  <thead>\n",
       "    <tr style=\"text-align: right;\">\n",
       "      <th></th>\n",
       "      <th>LNR</th>\n",
       "      <th>AGER_TYP</th>\n",
       "      <th>AKT_DAT_KL</th>\n",
       "      <th>ALTER_HH</th>\n",
       "      <th>ALTER_KIND1</th>\n",
       "      <th>ALTER_KIND2</th>\n",
       "      <th>ALTER_KIND3</th>\n",
       "      <th>ALTER_KIND4</th>\n",
       "      <th>ALTERSKATEGORIE_FEIN</th>\n",
       "      <th>ANZ_HAUSHALTE_AKTIV</th>\n",
       "      <th>...</th>\n",
       "      <th>VHN</th>\n",
       "      <th>VK_DHT4A</th>\n",
       "      <th>VK_DISTANZ</th>\n",
       "      <th>VK_ZG11</th>\n",
       "      <th>W_KEIT_KIND_HH</th>\n",
       "      <th>WOHNDAUER_2008</th>\n",
       "      <th>WOHNLAGE</th>\n",
       "      <th>ZABEOTYP</th>\n",
       "      <th>ANREDE_KZ</th>\n",
       "      <th>ALTERSKATEGORIE_GROB</th>\n",
       "    </tr>\n",
       "  </thead>\n",
       "  <tbody>\n",
       "    <tr>\n",
       "      <th>count</th>\n",
       "      <td>8.912210e+05</td>\n",
       "      <td>891221.000000</td>\n",
       "      <td>817722.000000</td>\n",
       "      <td>817722.000000</td>\n",
       "      <td>81058.000000</td>\n",
       "      <td>29499.000000</td>\n",
       "      <td>6170.000000</td>\n",
       "      <td>1205.000000</td>\n",
       "      <td>628274.000000</td>\n",
       "      <td>798073.000000</td>\n",
       "      <td>...</td>\n",
       "      <td>770025.000000</td>\n",
       "      <td>815304.000000</td>\n",
       "      <td>815304.000000</td>\n",
       "      <td>815304.000000</td>\n",
       "      <td>783619.000000</td>\n",
       "      <td>817722.000000</td>\n",
       "      <td>798073.000000</td>\n",
       "      <td>891221.000000</td>\n",
       "      <td>891221.000000</td>\n",
       "      <td>891221.000000</td>\n",
       "    </tr>\n",
       "    <tr>\n",
       "      <th>mean</th>\n",
       "      <td>6.372630e+05</td>\n",
       "      <td>-0.358435</td>\n",
       "      <td>4.421928</td>\n",
       "      <td>10.864126</td>\n",
       "      <td>11.745392</td>\n",
       "      <td>13.402658</td>\n",
       "      <td>14.476013</td>\n",
       "      <td>15.089627</td>\n",
       "      <td>13.700717</td>\n",
       "      <td>8.287263</td>\n",
       "      <td>...</td>\n",
       "      <td>2.417322</td>\n",
       "      <td>6.001214</td>\n",
       "      <td>7.532130</td>\n",
       "      <td>5.945972</td>\n",
       "      <td>3.933406</td>\n",
       "      <td>7.908791</td>\n",
       "      <td>4.052836</td>\n",
       "      <td>3.362438</td>\n",
       "      <td>1.522098</td>\n",
       "      <td>2.777398</td>\n",
       "    </tr>\n",
       "    <tr>\n",
       "      <th>std</th>\n",
       "      <td>2.572735e+05</td>\n",
       "      <td>1.198724</td>\n",
       "      <td>3.638805</td>\n",
       "      <td>7.639683</td>\n",
       "      <td>4.097660</td>\n",
       "      <td>3.243300</td>\n",
       "      <td>2.712427</td>\n",
       "      <td>2.452932</td>\n",
       "      <td>5.079849</td>\n",
       "      <td>15.628087</td>\n",
       "      <td>...</td>\n",
       "      <td>1.166572</td>\n",
       "      <td>2.856091</td>\n",
       "      <td>3.247789</td>\n",
       "      <td>2.771464</td>\n",
       "      <td>1.964701</td>\n",
       "      <td>1.923137</td>\n",
       "      <td>1.949539</td>\n",
       "      <td>1.352704</td>\n",
       "      <td>0.499512</td>\n",
       "      <td>1.068775</td>\n",
       "    </tr>\n",
       "    <tr>\n",
       "      <th>min</th>\n",
       "      <td>1.916530e+05</td>\n",
       "      <td>-1.000000</td>\n",
       "      <td>1.000000</td>\n",
       "      <td>0.000000</td>\n",
       "      <td>2.000000</td>\n",
       "      <td>2.000000</td>\n",
       "      <td>4.000000</td>\n",
       "      <td>7.000000</td>\n",
       "      <td>0.000000</td>\n",
       "      <td>0.000000</td>\n",
       "      <td>...</td>\n",
       "      <td>0.000000</td>\n",
       "      <td>1.000000</td>\n",
       "      <td>1.000000</td>\n",
       "      <td>1.000000</td>\n",
       "      <td>0.000000</td>\n",
       "      <td>1.000000</td>\n",
       "      <td>0.000000</td>\n",
       "      <td>1.000000</td>\n",
       "      <td>1.000000</td>\n",
       "      <td>1.000000</td>\n",
       "    </tr>\n",
       "    <tr>\n",
       "      <th>25%</th>\n",
       "      <td>4.144580e+05</td>\n",
       "      <td>-1.000000</td>\n",
       "      <td>1.000000</td>\n",
       "      <td>0.000000</td>\n",
       "      <td>8.000000</td>\n",
       "      <td>11.000000</td>\n",
       "      <td>13.000000</td>\n",
       "      <td>14.000000</td>\n",
       "      <td>11.000000</td>\n",
       "      <td>1.000000</td>\n",
       "      <td>...</td>\n",
       "      <td>2.000000</td>\n",
       "      <td>3.000000</td>\n",
       "      <td>5.000000</td>\n",
       "      <td>4.000000</td>\n",
       "      <td>2.000000</td>\n",
       "      <td>8.000000</td>\n",
       "      <td>3.000000</td>\n",
       "      <td>3.000000</td>\n",
       "      <td>1.000000</td>\n",
       "      <td>2.000000</td>\n",
       "    </tr>\n",
       "    <tr>\n",
       "      <th>50%</th>\n",
       "      <td>6.372630e+05</td>\n",
       "      <td>-1.000000</td>\n",
       "      <td>3.000000</td>\n",
       "      <td>13.000000</td>\n",
       "      <td>12.000000</td>\n",
       "      <td>14.000000</td>\n",
       "      <td>15.000000</td>\n",
       "      <td>15.000000</td>\n",
       "      <td>14.000000</td>\n",
       "      <td>4.000000</td>\n",
       "      <td>...</td>\n",
       "      <td>2.000000</td>\n",
       "      <td>6.000000</td>\n",
       "      <td>8.000000</td>\n",
       "      <td>6.000000</td>\n",
       "      <td>4.000000</td>\n",
       "      <td>9.000000</td>\n",
       "      <td>3.000000</td>\n",
       "      <td>3.000000</td>\n",
       "      <td>2.000000</td>\n",
       "      <td>3.000000</td>\n",
       "    </tr>\n",
       "    <tr>\n",
       "      <th>75%</th>\n",
       "      <td>8.600680e+05</td>\n",
       "      <td>-1.000000</td>\n",
       "      <td>9.000000</td>\n",
       "      <td>17.000000</td>\n",
       "      <td>15.000000</td>\n",
       "      <td>16.000000</td>\n",
       "      <td>17.000000</td>\n",
       "      <td>17.000000</td>\n",
       "      <td>17.000000</td>\n",
       "      <td>9.000000</td>\n",
       "      <td>...</td>\n",
       "      <td>3.000000</td>\n",
       "      <td>9.000000</td>\n",
       "      <td>10.000000</td>\n",
       "      <td>8.000000</td>\n",
       "      <td>6.000000</td>\n",
       "      <td>9.000000</td>\n",
       "      <td>5.000000</td>\n",
       "      <td>4.000000</td>\n",
       "      <td>2.000000</td>\n",
       "      <td>4.000000</td>\n",
       "    </tr>\n",
       "    <tr>\n",
       "      <th>max</th>\n",
       "      <td>1.082873e+06</td>\n",
       "      <td>3.000000</td>\n",
       "      <td>9.000000</td>\n",
       "      <td>21.000000</td>\n",
       "      <td>18.000000</td>\n",
       "      <td>18.000000</td>\n",
       "      <td>18.000000</td>\n",
       "      <td>18.000000</td>\n",
       "      <td>25.000000</td>\n",
       "      <td>595.000000</td>\n",
       "      <td>...</td>\n",
       "      <td>4.000000</td>\n",
       "      <td>11.000000</td>\n",
       "      <td>13.000000</td>\n",
       "      <td>11.000000</td>\n",
       "      <td>6.000000</td>\n",
       "      <td>9.000000</td>\n",
       "      <td>8.000000</td>\n",
       "      <td>6.000000</td>\n",
       "      <td>2.000000</td>\n",
       "      <td>9.000000</td>\n",
       "    </tr>\n",
       "  </tbody>\n",
       "</table>\n",
       "<p>8 rows × 360 columns</p>\n",
       "</div>"
      ],
      "text/plain": [
       "                LNR       AGER_TYP     AKT_DAT_KL       ALTER_HH  \\\n",
       "count  8.912210e+05  891221.000000  817722.000000  817722.000000   \n",
       "mean   6.372630e+05      -0.358435       4.421928      10.864126   \n",
       "std    2.572735e+05       1.198724       3.638805       7.639683   \n",
       "min    1.916530e+05      -1.000000       1.000000       0.000000   \n",
       "25%    4.144580e+05      -1.000000       1.000000       0.000000   \n",
       "50%    6.372630e+05      -1.000000       3.000000      13.000000   \n",
       "75%    8.600680e+05      -1.000000       9.000000      17.000000   \n",
       "max    1.082873e+06       3.000000       9.000000      21.000000   \n",
       "\n",
       "        ALTER_KIND1   ALTER_KIND2  ALTER_KIND3  ALTER_KIND4  \\\n",
       "count  81058.000000  29499.000000  6170.000000  1205.000000   \n",
       "mean      11.745392     13.402658    14.476013    15.089627   \n",
       "std        4.097660      3.243300     2.712427     2.452932   \n",
       "min        2.000000      2.000000     4.000000     7.000000   \n",
       "25%        8.000000     11.000000    13.000000    14.000000   \n",
       "50%       12.000000     14.000000    15.000000    15.000000   \n",
       "75%       15.000000     16.000000    17.000000    17.000000   \n",
       "max       18.000000     18.000000    18.000000    18.000000   \n",
       "\n",
       "       ALTERSKATEGORIE_FEIN  ANZ_HAUSHALTE_AKTIV          ...           \\\n",
       "count         628274.000000        798073.000000          ...            \n",
       "mean              13.700717             8.287263          ...            \n",
       "std                5.079849            15.628087          ...            \n",
       "min                0.000000             0.000000          ...            \n",
       "25%               11.000000             1.000000          ...            \n",
       "50%               14.000000             4.000000          ...            \n",
       "75%               17.000000             9.000000          ...            \n",
       "max               25.000000           595.000000          ...            \n",
       "\n",
       "                 VHN       VK_DHT4A     VK_DISTANZ        VK_ZG11  \\\n",
       "count  770025.000000  815304.000000  815304.000000  815304.000000   \n",
       "mean        2.417322       6.001214       7.532130       5.945972   \n",
       "std         1.166572       2.856091       3.247789       2.771464   \n",
       "min         0.000000       1.000000       1.000000       1.000000   \n",
       "25%         2.000000       3.000000       5.000000       4.000000   \n",
       "50%         2.000000       6.000000       8.000000       6.000000   \n",
       "75%         3.000000       9.000000      10.000000       8.000000   \n",
       "max         4.000000      11.000000      13.000000      11.000000   \n",
       "\n",
       "       W_KEIT_KIND_HH  WOHNDAUER_2008       WOHNLAGE       ZABEOTYP  \\\n",
       "count   783619.000000   817722.000000  798073.000000  891221.000000   \n",
       "mean         3.933406        7.908791       4.052836       3.362438   \n",
       "std          1.964701        1.923137       1.949539       1.352704   \n",
       "min          0.000000        1.000000       0.000000       1.000000   \n",
       "25%          2.000000        8.000000       3.000000       3.000000   \n",
       "50%          4.000000        9.000000       3.000000       3.000000   \n",
       "75%          6.000000        9.000000       5.000000       4.000000   \n",
       "max          6.000000        9.000000       8.000000       6.000000   \n",
       "\n",
       "           ANREDE_KZ  ALTERSKATEGORIE_GROB  \n",
       "count  891221.000000         891221.000000  \n",
       "mean        1.522098              2.777398  \n",
       "std         0.499512              1.068775  \n",
       "min         1.000000              1.000000  \n",
       "25%         1.000000              2.000000  \n",
       "50%         2.000000              3.000000  \n",
       "75%         2.000000              4.000000  \n",
       "max         2.000000              9.000000  \n",
       "\n",
       "[8 rows x 360 columns]"
      ]
     },
     "execution_count": 10,
     "metadata": {},
     "output_type": "execute_result"
    }
   ],
   "source": [
    "azdias.describe()"
   ]
  },
  {
   "cell_type": "code",
   "execution_count": 11,
   "metadata": {},
   "outputs": [
    {
     "data": {
      "text/html": [
       "<div>\n",
       "<style scoped>\n",
       "    .dataframe tbody tr th:only-of-type {\n",
       "        vertical-align: middle;\n",
       "    }\n",
       "\n",
       "    .dataframe tbody tr th {\n",
       "        vertical-align: top;\n",
       "    }\n",
       "\n",
       "    .dataframe thead th {\n",
       "        text-align: right;\n",
       "    }\n",
       "</style>\n",
       "<table border=\"1\" class=\"dataframe\">\n",
       "  <thead>\n",
       "    <tr style=\"text-align: right;\">\n",
       "      <th></th>\n",
       "      <th>LNR</th>\n",
       "      <th>AGER_TYP</th>\n",
       "      <th>AKT_DAT_KL</th>\n",
       "      <th>ALTER_HH</th>\n",
       "      <th>ALTER_KIND1</th>\n",
       "      <th>ALTER_KIND2</th>\n",
       "      <th>ALTER_KIND3</th>\n",
       "      <th>ALTER_KIND4</th>\n",
       "      <th>ALTERSKATEGORIE_FEIN</th>\n",
       "      <th>ANZ_HAUSHALTE_AKTIV</th>\n",
       "      <th>...</th>\n",
       "      <th>VK_DHT4A</th>\n",
       "      <th>VK_DISTANZ</th>\n",
       "      <th>VK_ZG11</th>\n",
       "      <th>W_KEIT_KIND_HH</th>\n",
       "      <th>WOHNDAUER_2008</th>\n",
       "      <th>WOHNLAGE</th>\n",
       "      <th>ZABEOTYP</th>\n",
       "      <th>ONLINE_PURCHASE</th>\n",
       "      <th>ANREDE_KZ</th>\n",
       "      <th>ALTERSKATEGORIE_GROB</th>\n",
       "    </tr>\n",
       "  </thead>\n",
       "  <tbody>\n",
       "    <tr>\n",
       "      <th>count</th>\n",
       "      <td>191652.000000</td>\n",
       "      <td>191652.000000</td>\n",
       "      <td>145056.000000</td>\n",
       "      <td>145056.000000</td>\n",
       "      <td>11766.000000</td>\n",
       "      <td>5100.000000</td>\n",
       "      <td>1275.000000</td>\n",
       "      <td>236.000000</td>\n",
       "      <td>139810.000000</td>\n",
       "      <td>141725.000000</td>\n",
       "      <td>...</td>\n",
       "      <td>143781.000000</td>\n",
       "      <td>143781.000000</td>\n",
       "      <td>143781.000000</td>\n",
       "      <td>137910.000000</td>\n",
       "      <td>145056.000000</td>\n",
       "      <td>141725.000000</td>\n",
       "      <td>191652.000000</td>\n",
       "      <td>191652.000000</td>\n",
       "      <td>191652.000000</td>\n",
       "      <td>191652.000000</td>\n",
       "    </tr>\n",
       "    <tr>\n",
       "      <th>mean</th>\n",
       "      <td>95826.500000</td>\n",
       "      <td>0.344359</td>\n",
       "      <td>1.747525</td>\n",
       "      <td>11.352009</td>\n",
       "      <td>12.337243</td>\n",
       "      <td>13.672353</td>\n",
       "      <td>14.647059</td>\n",
       "      <td>15.377119</td>\n",
       "      <td>10.331579</td>\n",
       "      <td>4.965863</td>\n",
       "      <td>...</td>\n",
       "      <td>4.374417</td>\n",
       "      <td>4.564769</td>\n",
       "      <td>3.168868</td>\n",
       "      <td>4.152716</td>\n",
       "      <td>8.646371</td>\n",
       "      <td>3.723133</td>\n",
       "      <td>2.576806</td>\n",
       "      <td>0.090247</td>\n",
       "      <td>1.376432</td>\n",
       "      <td>3.060907</td>\n",
       "    </tr>\n",
       "    <tr>\n",
       "      <th>std</th>\n",
       "      <td>55325.311233</td>\n",
       "      <td>1.391672</td>\n",
       "      <td>1.966334</td>\n",
       "      <td>6.275026</td>\n",
       "      <td>4.006050</td>\n",
       "      <td>3.243335</td>\n",
       "      <td>2.753787</td>\n",
       "      <td>2.307653</td>\n",
       "      <td>4.134828</td>\n",
       "      <td>14.309694</td>\n",
       "      <td>...</td>\n",
       "      <td>2.924355</td>\n",
       "      <td>2.887035</td>\n",
       "      <td>2.233516</td>\n",
       "      <td>1.974375</td>\n",
       "      <td>1.154001</td>\n",
       "      <td>2.095540</td>\n",
       "      <td>1.168486</td>\n",
       "      <td>0.286536</td>\n",
       "      <td>0.484492</td>\n",
       "      <td>1.086254</td>\n",
       "    </tr>\n",
       "    <tr>\n",
       "      <th>min</th>\n",
       "      <td>1.000000</td>\n",
       "      <td>-1.000000</td>\n",
       "      <td>1.000000</td>\n",
       "      <td>0.000000</td>\n",
       "      <td>2.000000</td>\n",
       "      <td>2.000000</td>\n",
       "      <td>5.000000</td>\n",
       "      <td>8.000000</td>\n",
       "      <td>0.000000</td>\n",
       "      <td>0.000000</td>\n",
       "      <td>...</td>\n",
       "      <td>1.000000</td>\n",
       "      <td>1.000000</td>\n",
       "      <td>1.000000</td>\n",
       "      <td>0.000000</td>\n",
       "      <td>1.000000</td>\n",
       "      <td>0.000000</td>\n",
       "      <td>1.000000</td>\n",
       "      <td>0.000000</td>\n",
       "      <td>1.000000</td>\n",
       "      <td>1.000000</td>\n",
       "    </tr>\n",
       "    <tr>\n",
       "      <th>25%</th>\n",
       "      <td>47913.750000</td>\n",
       "      <td>-1.000000</td>\n",
       "      <td>1.000000</td>\n",
       "      <td>8.000000</td>\n",
       "      <td>9.000000</td>\n",
       "      <td>11.000000</td>\n",
       "      <td>13.000000</td>\n",
       "      <td>14.000000</td>\n",
       "      <td>9.000000</td>\n",
       "      <td>1.000000</td>\n",
       "      <td>...</td>\n",
       "      <td>2.000000</td>\n",
       "      <td>2.000000</td>\n",
       "      <td>1.000000</td>\n",
       "      <td>2.000000</td>\n",
       "      <td>9.000000</td>\n",
       "      <td>2.000000</td>\n",
       "      <td>1.000000</td>\n",
       "      <td>0.000000</td>\n",
       "      <td>1.000000</td>\n",
       "      <td>3.000000</td>\n",
       "    </tr>\n",
       "    <tr>\n",
       "      <th>50%</th>\n",
       "      <td>95826.500000</td>\n",
       "      <td>0.000000</td>\n",
       "      <td>1.000000</td>\n",
       "      <td>11.000000</td>\n",
       "      <td>13.000000</td>\n",
       "      <td>14.000000</td>\n",
       "      <td>15.000000</td>\n",
       "      <td>16.000000</td>\n",
       "      <td>10.000000</td>\n",
       "      <td>1.000000</td>\n",
       "      <td>...</td>\n",
       "      <td>4.000000</td>\n",
       "      <td>4.000000</td>\n",
       "      <td>3.000000</td>\n",
       "      <td>5.000000</td>\n",
       "      <td>9.000000</td>\n",
       "      <td>3.000000</td>\n",
       "      <td>3.000000</td>\n",
       "      <td>0.000000</td>\n",
       "      <td>1.000000</td>\n",
       "      <td>3.000000</td>\n",
       "    </tr>\n",
       "    <tr>\n",
       "      <th>75%</th>\n",
       "      <td>143739.250000</td>\n",
       "      <td>2.000000</td>\n",
       "      <td>1.000000</td>\n",
       "      <td>16.000000</td>\n",
       "      <td>16.000000</td>\n",
       "      <td>16.000000</td>\n",
       "      <td>17.000000</td>\n",
       "      <td>17.000000</td>\n",
       "      <td>13.000000</td>\n",
       "      <td>4.000000</td>\n",
       "      <td>...</td>\n",
       "      <td>7.000000</td>\n",
       "      <td>7.000000</td>\n",
       "      <td>4.000000</td>\n",
       "      <td>6.000000</td>\n",
       "      <td>9.000000</td>\n",
       "      <td>5.000000</td>\n",
       "      <td>3.000000</td>\n",
       "      <td>0.000000</td>\n",
       "      <td>2.000000</td>\n",
       "      <td>4.000000</td>\n",
       "    </tr>\n",
       "    <tr>\n",
       "      <th>max</th>\n",
       "      <td>191652.000000</td>\n",
       "      <td>3.000000</td>\n",
       "      <td>9.000000</td>\n",
       "      <td>21.000000</td>\n",
       "      <td>18.000000</td>\n",
       "      <td>18.000000</td>\n",
       "      <td>18.000000</td>\n",
       "      <td>18.000000</td>\n",
       "      <td>25.000000</td>\n",
       "      <td>523.000000</td>\n",
       "      <td>...</td>\n",
       "      <td>11.000000</td>\n",
       "      <td>13.000000</td>\n",
       "      <td>11.000000</td>\n",
       "      <td>6.000000</td>\n",
       "      <td>9.000000</td>\n",
       "      <td>8.000000</td>\n",
       "      <td>6.000000</td>\n",
       "      <td>1.000000</td>\n",
       "      <td>2.000000</td>\n",
       "      <td>9.000000</td>\n",
       "    </tr>\n",
       "  </tbody>\n",
       "</table>\n",
       "<p>8 rows × 361 columns</p>\n",
       "</div>"
      ],
      "text/plain": [
       "                 LNR       AGER_TYP     AKT_DAT_KL       ALTER_HH  \\\n",
       "count  191652.000000  191652.000000  145056.000000  145056.000000   \n",
       "mean    95826.500000       0.344359       1.747525      11.352009   \n",
       "std     55325.311233       1.391672       1.966334       6.275026   \n",
       "min         1.000000      -1.000000       1.000000       0.000000   \n",
       "25%     47913.750000      -1.000000       1.000000       8.000000   \n",
       "50%     95826.500000       0.000000       1.000000      11.000000   \n",
       "75%    143739.250000       2.000000       1.000000      16.000000   \n",
       "max    191652.000000       3.000000       9.000000      21.000000   \n",
       "\n",
       "        ALTER_KIND1  ALTER_KIND2  ALTER_KIND3  ALTER_KIND4  \\\n",
       "count  11766.000000  5100.000000  1275.000000   236.000000   \n",
       "mean      12.337243    13.672353    14.647059    15.377119   \n",
       "std        4.006050     3.243335     2.753787     2.307653   \n",
       "min        2.000000     2.000000     5.000000     8.000000   \n",
       "25%        9.000000    11.000000    13.000000    14.000000   \n",
       "50%       13.000000    14.000000    15.000000    16.000000   \n",
       "75%       16.000000    16.000000    17.000000    17.000000   \n",
       "max       18.000000    18.000000    18.000000    18.000000   \n",
       "\n",
       "       ALTERSKATEGORIE_FEIN  ANZ_HAUSHALTE_AKTIV          ...           \\\n",
       "count         139810.000000        141725.000000          ...            \n",
       "mean              10.331579             4.965863          ...            \n",
       "std                4.134828            14.309694          ...            \n",
       "min                0.000000             0.000000          ...            \n",
       "25%                9.000000             1.000000          ...            \n",
       "50%               10.000000             1.000000          ...            \n",
       "75%               13.000000             4.000000          ...            \n",
       "max               25.000000           523.000000          ...            \n",
       "\n",
       "            VK_DHT4A     VK_DISTANZ        VK_ZG11  W_KEIT_KIND_HH  \\\n",
       "count  143781.000000  143781.000000  143781.000000   137910.000000   \n",
       "mean        4.374417       4.564769       3.168868        4.152716   \n",
       "std         2.924355       2.887035       2.233516        1.974375   \n",
       "min         1.000000       1.000000       1.000000        0.000000   \n",
       "25%         2.000000       2.000000       1.000000        2.000000   \n",
       "50%         4.000000       4.000000       3.000000        5.000000   \n",
       "75%         7.000000       7.000000       4.000000        6.000000   \n",
       "max        11.000000      13.000000      11.000000        6.000000   \n",
       "\n",
       "       WOHNDAUER_2008       WOHNLAGE       ZABEOTYP  ONLINE_PURCHASE  \\\n",
       "count   145056.000000  141725.000000  191652.000000    191652.000000   \n",
       "mean         8.646371       3.723133       2.576806         0.090247   \n",
       "std          1.154001       2.095540       1.168486         0.286536   \n",
       "min          1.000000       0.000000       1.000000         0.000000   \n",
       "25%          9.000000       2.000000       1.000000         0.000000   \n",
       "50%          9.000000       3.000000       3.000000         0.000000   \n",
       "75%          9.000000       5.000000       3.000000         0.000000   \n",
       "max          9.000000       8.000000       6.000000         1.000000   \n",
       "\n",
       "           ANREDE_KZ  ALTERSKATEGORIE_GROB  \n",
       "count  191652.000000         191652.000000  \n",
       "mean        1.376432              3.060907  \n",
       "std         0.484492              1.086254  \n",
       "min         1.000000              1.000000  \n",
       "25%         1.000000              3.000000  \n",
       "50%         1.000000              3.000000  \n",
       "75%         2.000000              4.000000  \n",
       "max         2.000000              9.000000  \n",
       "\n",
       "[8 rows x 361 columns]"
      ]
     },
     "execution_count": 11,
     "metadata": {},
     "output_type": "execute_result"
    }
   ],
   "source": [
    "customers.describe()"
   ]
  },
  {
   "cell_type": "code",
   "execution_count": 12,
   "metadata": {},
   "outputs": [
    {
     "data": {
      "text/plain": [
       "{'CUSTOMER_GROUP', 'ONLINE_PURCHASE', 'PRODUCT_GROUP'}"
      ]
     },
     "execution_count": 12,
     "metadata": {},
     "output_type": "execute_result"
    }
   ],
   "source": [
    "# Differences in columns\n",
    "azdias_cols = set(azdias.columns)\n",
    "customers_cols = set(customers.columns)\n",
    "customers_cols - azdias_cols"
   ]
  },
  {
   "cell_type": "code",
   "execution_count": 13,
   "metadata": {},
   "outputs": [
    {
     "name": "stdout",
     "output_type": "stream",
     "text": [
      "Customers dataset has three columns more: {'PRODUCT_GROUP', 'CUSTOMER_GROUP', 'ONLINE_PURCHASE'} \n"
     ]
    }
   ],
   "source": [
    "print(\"Customers dataset has three columns more: {} \".format(customers_cols - azdias_cols))"
   ]
  },
  {
   "cell_type": "code",
   "execution_count": 14,
   "metadata": {},
   "outputs": [
    {
     "data": {
      "text/plain": [
       "array(['COSMETIC_AND_FOOD', 'FOOD', 'COSMETIC'], dtype=object)"
      ]
     },
     "execution_count": 14,
     "metadata": {},
     "output_type": "execute_result"
    }
   ],
   "source": [
    "customers['PRODUCT_GROUP'].unique()"
   ]
  },
  {
   "cell_type": "code",
   "execution_count": 15,
   "metadata": {},
   "outputs": [
    {
     "data": {
      "text/plain": [
       "COSMETIC_AND_FOOD    100860\n",
       "FOOD                  47382\n",
       "COSMETIC              43410\n",
       "Name: PRODUCT_GROUP, dtype: int64"
      ]
     },
     "execution_count": 15,
     "metadata": {},
     "output_type": "execute_result"
    }
   ],
   "source": [
    "customers['PRODUCT_GROUP'].value_counts()"
   ]
  },
  {
   "cell_type": "code",
   "execution_count": 16,
   "metadata": {},
   "outputs": [
    {
     "data": {
      "text/plain": [
       "<matplotlib.axes._subplots.AxesSubplot at 0x7f8aba03ffd0>"
      ]
     },
     "execution_count": 16,
     "metadata": {},
     "output_type": "execute_result"
    },
    {
     "data": {
      "image/png": "[encoded data removed]",
      "text/plain": [
       "<matplotlib.figure.Figure at 0x7f8aba278a20>"
      ]
     },
     "metadata": {
      "needs_background": "light"
     },
     "output_type": "display_data"
    }
   ],
   "source": [
    "customers['PRODUCT_GROUP'].value_counts().plot(kind='bar', figsize=(7,5))"
   ]
  },
  {
   "cell_type": "code",
   "execution_count": 17,
   "metadata": {},
   "outputs": [
    {
     "data": {
      "text/plain": [
       "array(['MULTI_BUYER', 'SINGLE_BUYER'], dtype=object)"
      ]
     },
     "execution_count": 17,
     "metadata": {},
     "output_type": "execute_result"
    }
   ],
   "source": [
    "customers['CUSTOMER_GROUP'].unique()"
   ]
  },
  {
   "cell_type": "code",
   "execution_count": 18,
   "metadata": {},
   "outputs": [
    {
     "data": {
      "text/plain": [
       "MULTI_BUYER     132238\n",
       "SINGLE_BUYER     59414\n",
       "Name: CUSTOMER_GROUP, dtype: int64"
      ]
     },
     "execution_count": 18,
     "metadata": {},
     "output_type": "execute_result"
    }
   ],
   "source": [
    "customers['CUSTOMER_GROUP'].value_counts()"
   ]
  },
  {
   "cell_type": "code",
   "execution_count": 19,
   "metadata": {},
   "outputs": [
    {
     "data": {
      "text/plain": [
       "<matplotlib.axes._subplots.AxesSubplot at 0x7f8abd136fd0>"
      ]
     },
     "execution_count": 19,
     "metadata": {},
     "output_type": "execute_result"
    },
    {
     "data": {
      "image/png": "[encoded data removed]",
      "text/plain": [
       "<matplotlib.figure.Figure at 0x7f8ab9981be0>"
      ]
     },
     "metadata": {
      "needs_background": "light"
     },
     "output_type": "display_data"
    }
   ],
   "source": [
    "customers['CUSTOMER_GROUP'].value_counts().plot(kind='bar', figsize=(7,5))"
   ]
  },
  {
   "cell_type": "code",
   "execution_count": 20,
   "metadata": {},
   "outputs": [
    {
     "data": {
      "text/plain": [
       "array([0, 1])"
      ]
     },
     "execution_count": 20,
     "metadata": {},
     "output_type": "execute_result"
    }
   ],
   "source": [
    "customers['ONLINE_PURCHASE'].unique()"
   ]
  },
  {
   "cell_type": "code",
   "execution_count": 21,
   "metadata": {},
   "outputs": [
    {
     "data": {
      "text/plain": [
       "0    174356\n",
       "1     17296\n",
       "Name: ONLINE_PURCHASE, dtype: int64"
      ]
     },
     "execution_count": 21,
     "metadata": {},
     "output_type": "execute_result"
    }
   ],
   "source": [
    "customers['ONLINE_PURCHASE'].value_counts()"
   ]
  },
  {
   "cell_type": "code",
   "execution_count": 22,
   "metadata": {},
   "outputs": [
    {
     "data": {
      "text/plain": [
       "<matplotlib.axes._subplots.AxesSubplot at 0x7f8abd1369b0>"
      ]
     },
     "execution_count": 22,
     "metadata": {},
     "output_type": "execute_result"
    },
    {
     "data": {
      "image/png": "[encoded data removed]",
      "text/plain": [
       "<matplotlib.figure.Figure at 0x7f8ab99ee5f8>"
      ]
     },
     "metadata": {
      "needs_background": "light"
     },
     "output_type": "display_data"
    }
   ],
   "source": [
    "# Graph \n",
    "customers['ONLINE_PURCHASE'].value_counts().plot(kind='bar', figsize=(7,5))"
   ]
  },
  {
   "cell_type": "markdown",
   "metadata": {},
   "source": [
    "The different columns are:\n",
    "- PRODUCT_GROUP': Indicating the product group preferences of the client\n",
    "- 'CUSTOMER_GROUP': Indicating the customer group the client is classified in\n",
    "- 'ONLINE_PURCHASE': Indicating whether or not the customer made a purchase online"
   ]
  },
  {
   "cell_type": "code",
   "execution_count": 23,
   "metadata": {},
   "outputs": [
    {
     "data": {
      "text/plain": [
       "float64    267\n",
       "int64       93\n",
       "object       6\n",
       "dtype: int64"
      ]
     },
     "execution_count": 23,
     "metadata": {},
     "output_type": "execute_result"
    }
   ],
   "source": [
    "# Data types of azdias dataset\n",
    "azdias.get_dtype_counts()"
   ]
  },
  {
   "cell_type": "code",
   "execution_count": 24,
   "metadata": {},
   "outputs": [
    {
     "data": {
      "text/html": [
       "<div>\n",
       "<style scoped>\n",
       "    .dataframe tbody tr th:only-of-type {\n",
       "        vertical-align: middle;\n",
       "    }\n",
       "\n",
       "    .dataframe tbody tr th {\n",
       "        vertical-align: top;\n",
       "    }\n",
       "\n",
       "    .dataframe thead th {\n",
       "        text-align: right;\n",
       "    }\n",
       "</style>\n",
       "<table border=\"1\" class=\"dataframe\">\n",
       "  <thead>\n",
       "    <tr style=\"text-align: right;\">\n",
       "      <th></th>\n",
       "      <th>CAMEO_DEU_2015</th>\n",
       "      <th>CAMEO_DEUG_2015</th>\n",
       "      <th>CAMEO_INTL_2015</th>\n",
       "      <th>D19_LETZTER_KAUF_BRANCHE</th>\n",
       "      <th>EINGEFUEGT_AM</th>\n",
       "      <th>OST_WEST_KZ</th>\n",
       "    </tr>\n",
       "  </thead>\n",
       "  <tbody>\n",
       "    <tr>\n",
       "      <th>149902</th>\n",
       "      <td>2A</td>\n",
       "      <td>2</td>\n",
       "      <td>12</td>\n",
       "      <td>D19_SONSTIGE</td>\n",
       "      <td>1992-02-12 00:00:00</td>\n",
       "      <td>W</td>\n",
       "    </tr>\n",
       "    <tr>\n",
       "      <th>200929</th>\n",
       "      <td>9D</td>\n",
       "      <td>9</td>\n",
       "      <td>51</td>\n",
       "      <td>NaN</td>\n",
       "      <td>1992-02-10 00:00:00</td>\n",
       "      <td>W</td>\n",
       "    </tr>\n",
       "    <tr>\n",
       "      <th>612043</th>\n",
       "      <td>4D</td>\n",
       "      <td>4</td>\n",
       "      <td>24</td>\n",
       "      <td>D19_UNBEKANNT</td>\n",
       "      <td>1992-02-10 00:00:00</td>\n",
       "      <td>W</td>\n",
       "    </tr>\n",
       "    <tr>\n",
       "      <th>523677</th>\n",
       "      <td>7A</td>\n",
       "      <td>7</td>\n",
       "      <td>41</td>\n",
       "      <td>D19_VERSAND_REST</td>\n",
       "      <td>1992-02-12 00:00:00</td>\n",
       "      <td>W</td>\n",
       "    </tr>\n",
       "    <tr>\n",
       "      <th>62132</th>\n",
       "      <td>3D</td>\n",
       "      <td>3</td>\n",
       "      <td>25</td>\n",
       "      <td>D19_UNBEKANNT</td>\n",
       "      <td>1992-02-10 00:00:00</td>\n",
       "      <td>W</td>\n",
       "    </tr>\n",
       "    <tr>\n",
       "      <th>615714</th>\n",
       "      <td>2D</td>\n",
       "      <td>2</td>\n",
       "      <td>14</td>\n",
       "      <td>NaN</td>\n",
       "      <td>1992-02-12 00:00:00</td>\n",
       "      <td>W</td>\n",
       "    </tr>\n",
       "    <tr>\n",
       "      <th>583909</th>\n",
       "      <td>2D</td>\n",
       "      <td>2</td>\n",
       "      <td>14</td>\n",
       "      <td>D19_RATGEBER</td>\n",
       "      <td>1992-02-12 00:00:00</td>\n",
       "      <td>W</td>\n",
       "    </tr>\n",
       "    <tr>\n",
       "      <th>406818</th>\n",
       "      <td>1A</td>\n",
       "      <td>1</td>\n",
       "      <td>13</td>\n",
       "      <td>D19_VERSICHERUNGEN</td>\n",
       "      <td>1993-11-03 00:00:00</td>\n",
       "      <td>W</td>\n",
       "    </tr>\n",
       "  </tbody>\n",
       "</table>\n",
       "</div>"
      ],
      "text/plain": [
       "       CAMEO_DEU_2015 CAMEO_DEUG_2015 CAMEO_INTL_2015  \\\n",
       "149902             2A               2              12   \n",
       "200929             9D               9              51   \n",
       "612043             4D               4              24   \n",
       "523677             7A               7              41   \n",
       "62132              3D               3              25   \n",
       "615714             2D               2              14   \n",
       "583909             2D               2              14   \n",
       "406818             1A               1              13   \n",
       "\n",
       "       D19_LETZTER_KAUF_BRANCHE        EINGEFUEGT_AM OST_WEST_KZ  \n",
       "149902             D19_SONSTIGE  1992-02-12 00:00:00           W  \n",
       "200929                      NaN  1992-02-10 00:00:00           W  \n",
       "612043            D19_UNBEKANNT  1992-02-10 00:00:00           W  \n",
       "523677         D19_VERSAND_REST  1992-02-12 00:00:00           W  \n",
       "62132             D19_UNBEKANNT  1992-02-10 00:00:00           W  \n",
       "615714                      NaN  1992-02-12 00:00:00           W  \n",
       "583909             D19_RATGEBER  1992-02-12 00:00:00           W  \n",
       "406818       D19_VERSICHERUNGEN  1993-11-03 00:00:00           W  "
      ]
     },
     "execution_count": 24,
     "metadata": {},
     "output_type": "execute_result"
    }
   ],
   "source": [
    "azdias.select_dtypes(['object']).sample(8)"
   ]
  },
  {
   "cell_type": "code",
   "execution_count": 25,
   "metadata": {},
   "outputs": [
    {
     "data": {
      "text/plain": [
       "float64    267\n",
       "int64       94\n",
       "object       8\n",
       "dtype: int64"
      ]
     },
     "execution_count": 25,
     "metadata": {},
     "output_type": "execute_result"
    }
   ],
   "source": [
    "# Data types of customers dataset\n",
    "customers.get_dtype_counts()"
   ]
  },
  {
   "cell_type": "code",
   "execution_count": 26,
   "metadata": {},
   "outputs": [
    {
     "data": {
      "text/html": [
       "<div>\n",
       "<style scoped>\n",
       "    .dataframe tbody tr th:only-of-type {\n",
       "        vertical-align: middle;\n",
       "    }\n",
       "\n",
       "    .dataframe tbody tr th {\n",
       "        vertical-align: top;\n",
       "    }\n",
       "\n",
       "    .dataframe thead th {\n",
       "        text-align: right;\n",
       "    }\n",
       "</style>\n",
       "<table border=\"1\" class=\"dataframe\">\n",
       "  <thead>\n",
       "    <tr style=\"text-align: right;\">\n",
       "      <th></th>\n",
       "      <th>CAMEO_DEU_2015</th>\n",
       "      <th>CAMEO_DEUG_2015</th>\n",
       "      <th>CAMEO_INTL_2015</th>\n",
       "      <th>D19_LETZTER_KAUF_BRANCHE</th>\n",
       "      <th>EINGEFUEGT_AM</th>\n",
       "      <th>OST_WEST_KZ</th>\n",
       "      <th>PRODUCT_GROUP</th>\n",
       "      <th>CUSTOMER_GROUP</th>\n",
       "    </tr>\n",
       "  </thead>\n",
       "  <tbody>\n",
       "    <tr>\n",
       "      <th>164094</th>\n",
       "      <td>NaN</td>\n",
       "      <td>NaN</td>\n",
       "      <td>NaN</td>\n",
       "      <td>NaN</td>\n",
       "      <td>NaN</td>\n",
       "      <td>NaN</td>\n",
       "      <td>COSMETIC_AND_FOOD</td>\n",
       "      <td>MULTI_BUYER</td>\n",
       "    </tr>\n",
       "    <tr>\n",
       "      <th>15426</th>\n",
       "      <td>8A</td>\n",
       "      <td>8</td>\n",
       "      <td>51</td>\n",
       "      <td>D19_VOLLSORTIMENT</td>\n",
       "      <td>1992-02-12 00:00:00</td>\n",
       "      <td>W</td>\n",
       "      <td>FOOD</td>\n",
       "      <td>SINGLE_BUYER</td>\n",
       "    </tr>\n",
       "    <tr>\n",
       "      <th>126145</th>\n",
       "      <td>NaN</td>\n",
       "      <td>NaN</td>\n",
       "      <td>NaN</td>\n",
       "      <td>D19_BEKLEIDUNG_GEH</td>\n",
       "      <td>NaN</td>\n",
       "      <td>NaN</td>\n",
       "      <td>COSMETIC</td>\n",
       "      <td>MULTI_BUYER</td>\n",
       "    </tr>\n",
       "    <tr>\n",
       "      <th>86474</th>\n",
       "      <td>1C</td>\n",
       "      <td>1</td>\n",
       "      <td>14</td>\n",
       "      <td>D19_WEIN_FEINKOST</td>\n",
       "      <td>1992-02-10 00:00:00</td>\n",
       "      <td>W</td>\n",
       "      <td>COSMETIC_AND_FOOD</td>\n",
       "      <td>MULTI_BUYER</td>\n",
       "    </tr>\n",
       "    <tr>\n",
       "      <th>103107</th>\n",
       "      <td>7A</td>\n",
       "      <td>7</td>\n",
       "      <td>41</td>\n",
       "      <td>D19_WEIN_FEINKOST</td>\n",
       "      <td>1995-08-03 00:00:00</td>\n",
       "      <td>W</td>\n",
       "      <td>COSMETIC</td>\n",
       "      <td>MULTI_BUYER</td>\n",
       "    </tr>\n",
       "    <tr>\n",
       "      <th>90254</th>\n",
       "      <td>3D</td>\n",
       "      <td>3</td>\n",
       "      <td>25</td>\n",
       "      <td>D19_DROGERIEARTIKEL</td>\n",
       "      <td>1992-02-10 00:00:00</td>\n",
       "      <td>W</td>\n",
       "      <td>COSMETIC</td>\n",
       "      <td>SINGLE_BUYER</td>\n",
       "    </tr>\n",
       "    <tr>\n",
       "      <th>42089</th>\n",
       "      <td>6E</td>\n",
       "      <td>6</td>\n",
       "      <td>45</td>\n",
       "      <td>D19_UNBEKANNT</td>\n",
       "      <td>1992-02-10 00:00:00</td>\n",
       "      <td>W</td>\n",
       "      <td>COSMETIC_AND_FOOD</td>\n",
       "      <td>MULTI_BUYER</td>\n",
       "    </tr>\n",
       "    <tr>\n",
       "      <th>168492</th>\n",
       "      <td>7A</td>\n",
       "      <td>7</td>\n",
       "      <td>41</td>\n",
       "      <td>D19_BEKLEIDUNG_REST</td>\n",
       "      <td>1992-02-12 00:00:00</td>\n",
       "      <td>W</td>\n",
       "      <td>COSMETIC</td>\n",
       "      <td>MULTI_BUYER</td>\n",
       "    </tr>\n",
       "  </tbody>\n",
       "</table>\n",
       "</div>"
      ],
      "text/plain": [
       "       CAMEO_DEU_2015 CAMEO_DEUG_2015 CAMEO_INTL_2015  \\\n",
       "164094            NaN             NaN             NaN   \n",
       "15426              8A               8              51   \n",
       "126145            NaN             NaN             NaN   \n",
       "86474              1C               1              14   \n",
       "103107             7A               7              41   \n",
       "90254              3D               3              25   \n",
       "42089              6E               6              45   \n",
       "168492             7A               7              41   \n",
       "\n",
       "       D19_LETZTER_KAUF_BRANCHE        EINGEFUEGT_AM OST_WEST_KZ  \\\n",
       "164094                      NaN                  NaN         NaN   \n",
       "15426         D19_VOLLSORTIMENT  1992-02-12 00:00:00           W   \n",
       "126145       D19_BEKLEIDUNG_GEH                  NaN         NaN   \n",
       "86474         D19_WEIN_FEINKOST  1992-02-10 00:00:00           W   \n",
       "103107        D19_WEIN_FEINKOST  1995-08-03 00:00:00           W   \n",
       "90254       D19_DROGERIEARTIKEL  1992-02-10 00:00:00           W   \n",
       "42089             D19_UNBEKANNT  1992-02-10 00:00:00           W   \n",
       "168492      D19_BEKLEIDUNG_REST  1992-02-12 00:00:00           W   \n",
       "\n",
       "            PRODUCT_GROUP CUSTOMER_GROUP  \n",
       "164094  COSMETIC_AND_FOOD    MULTI_BUYER  \n",
       "15426                FOOD   SINGLE_BUYER  \n",
       "126145           COSMETIC    MULTI_BUYER  \n",
       "86474   COSMETIC_AND_FOOD    MULTI_BUYER  \n",
       "103107           COSMETIC    MULTI_BUYER  \n",
       "90254            COSMETIC   SINGLE_BUYER  \n",
       "42089   COSMETIC_AND_FOOD    MULTI_BUYER  \n",
       "168492           COSMETIC    MULTI_BUYER  "
      ]
     },
     "execution_count": 26,
     "metadata": {},
     "output_type": "execute_result"
    }
   ],
   "source": [
    "customers.select_dtypes(['object']).sample(8)"
   ]
  },
  {
   "cell_type": "code",
   "execution_count": 27,
   "metadata": {},
   "outputs": [
    {
     "data": {
      "text/plain": [
       "179571    0\n",
       "167640    0\n",
       "147112    0\n",
       "143437    0\n",
       "66642     0\n",
       "112371    0\n",
       "144001    0\n",
       "14181     0\n",
       "Name: ONLINE_PURCHASE, dtype: int64"
      ]
     },
     "execution_count": 27,
     "metadata": {},
     "output_type": "execute_result"
    }
   ],
   "source": [
    "customers['ONLINE_PURCHASE'].sample(8)"
   ]
  },
  {
   "cell_type": "markdown",
   "metadata": {},
   "source": [
    "Azdias dataframe has six categorical columns, one of those columns is a date column (EINGEFUEGT_AM). In the same way, Customers dataset has two more categorical columns which are not in the Azdias dataset."
   ]
  },
  {
   "cell_type": "code",
   "execution_count": 28,
   "metadata": {},
   "outputs": [
    {
     "data": {
      "text/plain": [
       "array(['COSMETIC_AND_FOOD', 'FOOD', 'COSMETIC'], dtype=object)"
      ]
     },
     "execution_count": 28,
     "metadata": {},
     "output_type": "execute_result"
    }
   ],
   "source": [
    "customers['PRODUCT_GROUP'].unique()"
   ]
  },
  {
   "cell_type": "code",
   "execution_count": 29,
   "metadata": {},
   "outputs": [],
   "source": [
    "# Missing values\n",
    "azdias_missing = azdias.isnull().sum().sort_values(ascending = False)\n",
    "azdias_missing_pct = (azdias_missing / len(azdias)) * 100 "
   ]
  },
  {
   "cell_type": "code",
   "execution_count": 30,
   "metadata": {},
   "outputs": [
    {
     "data": {
      "text/plain": [
       "<matplotlib.axes._subplots.AxesSubplot at 0x7f8abcd608d0>"
      ]
     },
     "execution_count": 30,
     "metadata": {},
     "output_type": "execute_result"
    },
    {
     "data": {
      "image/png": "[encoded data removed]",
      "text/plain": [
       "<matplotlib.figure.Figure at 0x7f8abd216f28>"
      ]
     },
     "metadata": {
      "needs_background": "light"
     },
     "output_type": "display_data"
    }
   ],
   "source": [
    "# Graph of missing data\n",
    "azdias_missing[:42].plot(kind='bar', figsize=(20,7), fontsize=12)"
   ]
  },
  {
   "cell_type": "code",
   "execution_count": 31,
   "metadata": {},
   "outputs": [
    {
     "data": {
      "image/png": "[encoded data removed]",
      "text/plain": [
       "<matplotlib.figure.Figure at 0x7f8ab99ef080>"
      ]
     },
     "metadata": {
      "needs_background": "light"
     },
     "output_type": "display_data"
    }
   ],
   "source": [
    "# Dsitribution of missing data\n",
    "plt.figure(figsize=(15,7))\n",
    "plt.hist(azdias_missing_pct, bins=np.linspace(10,100,19), alpha=0.65, facecolor='dodgerblue')\n",
    "\n",
    "plt.xlabel('Percentage of missing data')\n",
    "plt.ylabel('Number of columns')\n",
    "plt.title('Distribution of missing data in each variable')\n",
    "plt.grid(True)\n",
    "\n",
    "plt.show()"
   ]
  },
  {
   "cell_type": "code",
   "execution_count": 32,
   "metadata": {},
   "outputs": [
    {
     "name": "stdout",
     "output_type": "stream",
     "text": [
      "Percentage of missing values per column\n"
     ]
    },
    {
     "data": {
      "text/plain": [
       "ALTER_KIND4                    99.864792\n",
       "ALTER_KIND3                    99.307691\n",
       "ALTER_KIND2                    96.690047\n",
       "ALTER_KIND1                    90.904837\n",
       "EXTSEL992                      73.399639\n",
       "KK_KUNDENTYP                   65.596749\n",
       "ALTERSKATEGORIE_FEIN           29.504130\n",
       "D19_LETZTER_KAUF_BRANCHE       28.849522\n",
       "D19_LOTTO                      28.849522\n",
       "D19_VERSI_ONLINE_QUOTE_12      28.849522\n",
       "D19_BANKEN_ONLINE_QUOTE_12     28.849522\n",
       "D19_SOZIALES                   28.849522\n",
       "D19_GESAMT_ONLINE_QUOTE_12     28.849522\n",
       "D19_KONSUMTYP                  28.849522\n",
       "D19_TELKO_ONLINE_QUOTE_12      28.849522\n",
       "D19_VERSAND_ONLINE_QUOTE_12    28.849522\n",
       "KBA05_MOTOR                    14.959701\n",
       "KBA05_MOD8                     14.959701\n",
       "KBA05_MOD4                     14.959701\n",
       "KBA05_MOD3                     14.959701\n",
       "KBA05_MOD2                     14.959701\n",
       "KBA05_SEG1                     14.959701\n",
       "KBA05_MOD1                     14.959701\n",
       "KBA05_MAXVORB                  14.959701\n",
       "KBA05_MAXSEG                   14.959701\n",
       "KBA05_MAXHERST                 14.959701\n",
       "KBA05_MAXBJ                    14.959701\n",
       "KBA05_MAXAH                    14.959701\n",
       "KBA05_KW3                      14.959701\n",
       "KBA05_MOTRAD                   14.959701\n",
       "                                 ...    \n",
       "D19_RATGEBER                    0.000000\n",
       "FINANZ_ANLEGER                  0.000000\n",
       "D19_REISEN                      0.000000\n",
       "D19_SAMMELARTIKEL               0.000000\n",
       "D19_SCHUHE                      0.000000\n",
       "D19_SONSTIGE                    0.000000\n",
       "D19_TECHNIK                     0.000000\n",
       "D19_TELKO_ANZ_12                0.000000\n",
       "D19_TELKO_ANZ_24                0.000000\n",
       "D19_TELKO_DATUM                 0.000000\n",
       "D19_TELKO_MOBILE                0.000000\n",
       "D19_TELKO_OFFLINE_DATUM         0.000000\n",
       "D19_TELKO_ONLINE_DATUM          0.000000\n",
       "D19_TELKO_REST                  0.000000\n",
       "D19_TIERARTIKEL                 0.000000\n",
       "D19_VERSAND_ANZ_12              0.000000\n",
       "D19_VERSAND_ANZ_24              0.000000\n",
       "D19_VERSAND_DATUM               0.000000\n",
       "D19_VERSAND_OFFLINE_DATUM       0.000000\n",
       "D19_VERSAND_ONLINE_DATUM        0.000000\n",
       "D19_VERSAND_REST                0.000000\n",
       "D19_VERSI_ANZ_12                0.000000\n",
       "D19_VERSI_ANZ_24                0.000000\n",
       "D19_VERSI_DATUM                 0.000000\n",
       "D19_VERSI_OFFLINE_DATUM         0.000000\n",
       "D19_VERSI_ONLINE_DATUM          0.000000\n",
       "D19_VERSICHERUNGEN              0.000000\n",
       "D19_VOLLSORTIMENT               0.000000\n",
       "D19_WEIN_FEINKOST               0.000000\n",
       "LNR                             0.000000\n",
       "Length: 366, dtype: float64"
      ]
     },
     "execution_count": 32,
     "metadata": {},
     "output_type": "execute_result"
    }
   ],
   "source": [
    "# Missing values percentage\n",
    "print('Percentage of missing values per column')\n",
    "azdias_missing_pct"
   ]
  },
  {
   "cell_type": "code",
   "execution_count": 33,
   "metadata": {},
   "outputs": [],
   "source": [
    "na_variables = azdias.isnull().mean()"
   ]
  },
  {
   "cell_type": "code",
   "execution_count": 34,
   "metadata": {},
   "outputs": [
    {
     "data": {
      "image/png": "[encoded data removed]",
      "text/plain": [
       "<matplotlib.figure.Figure at 0x7f8aba379d68>"
      ]
     },
     "metadata": {
      "needs_background": "light"
     },
     "output_type": "display_data"
    }
   ],
   "source": [
    "# Distribution of nan values\n",
    "plt.figure(figsize=(10,6))\n",
    "plt.hist(na_variables, bins=np.arange(0,1+0.05, 0.05), alpha=0.65, facecolor='dodgerblue')\n",
    "plt.xlabel('Number of columns')\n",
    "plt.ylabel('Proportion of missing values')\n",
    "plt.grid(True);"
   ]
  },
  {
   "cell_type": "code",
   "execution_count": 35,
   "metadata": {},
   "outputs": [
    {
     "name": "stdout",
     "output_type": "stream",
     "text": [
      "Columns having  missing values > 0%:  273\n",
      "Columns having  missing values > 10%:  237\n",
      "Columns having  missing values > 20%:  16\n",
      "Columns having  missing values > 30%:  6\n",
      "Columns having  missing values > 40%:  6\n",
      "Columns having  missing values > 50%:  6\n",
      "Columns having  missing values > 60%:  6\n",
      "Columns having  missing values > 70%:  5\n",
      "Columns having  missing values > 80%:  4\n",
      "Columns having  missing values > 90%:  4\n",
      "Columns having  missing values > 100%:  0\n"
     ]
    }
   ],
   "source": [
    "value = 0\n",
    "for x in range(11):\n",
    "    print(f'Columns having  missing values > {value}%: ',len(azdias_missing_pct[azdias_missing_pct>value].index))\n",
    "    value = value + 10"
   ]
  },
  {
   "cell_type": "code",
   "execution_count": 36,
   "metadata": {},
   "outputs": [],
   "source": [
    "azdias_null_rows = azdias.isnull().sum(axis=1)"
   ]
  },
  {
   "cell_type": "code",
   "execution_count": 37,
   "metadata": {},
   "outputs": [
    {
     "data": {
      "text/plain": [
       "count    891221.000000\n",
       "mean         37.580940\n",
       "std          75.290108\n",
       "min           0.000000\n",
       "25%           5.000000\n",
       "50%           6.000000\n",
       "75%          16.000000\n",
       "max         259.000000\n",
       "dtype: float64"
      ]
     },
     "execution_count": 37,
     "metadata": {},
     "output_type": "execute_result"
    }
   ],
   "source": [
    "azdias_null_rows.describe()"
   ]
  },
  {
   "cell_type": "code",
   "execution_count": 38,
   "metadata": {},
   "outputs": [
    {
     "data": {
      "image/png": "[encoded data removed]",
      "text/plain": [
       "<matplotlib.figure.Figure at 0x7f8abcc72828>"
      ]
     },
     "metadata": {
      "needs_background": "light"
     },
     "output_type": "display_data"
    }
   ],
   "source": [
    "# Plotting distribution of missing values\n",
    "plt.figure(figsize=(15,6))\n",
    "plt.hist(azdias_null_rows, bins=np.linspace(min(azdias_null_rows), max(azdias_null_rows)+1))\n",
    "\n",
    "plt.xticks(np.arange(min(azdias_null_rows), max(azdias_null_rows)+1, 10))\n",
    "plt.ylabel('Number of rows')\n",
    "plt.xlabel('Number of missing values')\n",
    "plt.title('Distribution of missing values')\n",
    "plt.grid(True);"
   ]
  },
  {
   "cell_type": "code",
   "execution_count": 39,
   "metadata": {},
   "outputs": [],
   "source": [
    "x = (azdias_null_rows.value_counts().sort_index().cumsum()/len(azdias))*100"
   ]
  },
  {
   "cell_type": "code",
   "execution_count": 40,
   "metadata": {},
   "outputs": [
    {
     "data": {
      "image/png": "[encoded data removed]",
      "text/plain": [
       "<matplotlib.figure.Figure at 0x7f8abcfb4978>"
      ]
     },
     "metadata": {
      "needs_background": "light"
     },
     "output_type": "display_data"
    }
   ],
   "source": [
    "plt.figure(figsize=(9,5))\n",
    "plt.plot(x)\n",
    "plt.axhline(y=82, color='r', linestyle='-')\n",
    "\n",
    "plt.yticks(np.arange(0, 110, 5))\n",
    "plt.xticks(np.arange(min(x.index), max(x.index)+1, 10))\n",
    "plt.ylabel('Share of rows percentage')\n",
    "plt.xlabel('Number of missing values')\n",
    "plt.title('Cumulative distribution of missing values')\n",
    "plt.grid(True);"
   ]
  },
  {
   "cell_type": "code",
   "execution_count": 41,
   "metadata": {},
   "outputs": [
    {
     "data": {
      "text/plain": [
       "15    72.662336\n",
       "16    82.272186\n",
       "17    82.839498\n",
       "18    83.348126\n",
       "19    83.452589\n",
       "20    83.515200\n",
       "21    83.628752\n",
       "22    83.731420\n",
       "23    83.807271\n",
       "24    83.888957\n",
       "25    83.976702\n",
       "26    84.033814\n",
       "27    84.070057\n",
       "28    84.145234\n",
       "29    84.207733\n",
       "30    84.219739\n",
       "dtype: float64"
      ]
     },
     "execution_count": 41,
     "metadata": {},
     "output_type": "execute_result"
    }
   ],
   "source": [
    "x.iloc[15:31]"
   ]
  },
  {
   "cell_type": "markdown",
   "metadata": {},
   "source": [
    "About 82% of the rows contain 16 or fewer empty rows. Looking at the horizontal line that is drawn in the graph above shows that deleting rows that have 16 or more missing values results in at least 18% of the information being lost. "
   ]
  },
  {
   "cell_type": "markdown",
   "metadata": {},
   "source": [
    "### Data Preprocessing"
   ]
  },
  {
   "cell_type": "code",
   "execution_count": 42,
   "metadata": {},
   "outputs": [
    {
     "name": "stdout",
     "output_type": "stream",
     "text": [
      "skipping\n"
     ]
    }
   ],
   "source": [
    "%%script echo skipping\n",
    "azdias = azdias[azdias.isnull().sum(axis=1) <= 16].reset_index(drop=True)"
   ]
  },
  {
   "cell_type": "code",
   "execution_count": 43,
   "metadata": {},
   "outputs": [
    {
     "name": "stdout",
     "output_type": "stream",
     "text": [
      "skipping\n"
     ]
    }
   ],
   "source": [
    "%%script echo skipping\n",
    "print('The new number of rows and columns in the azdias dataset are: {} and {}'.format(azdias.shape[0],azdias.shape[1]))"
   ]
  },
  {
   "cell_type": "markdown",
   "metadata": {},
   "source": [
    "According to the following analysis, 6 columns have more than 65% of the missing information, so we will proceed to eliminate these columns"
   ]
  },
  {
   "cell_type": "code",
   "execution_count": 44,
   "metadata": {},
   "outputs": [
    {
     "name": "stdout",
     "output_type": "stream",
     "text": [
      "skipping\n"
     ]
    }
   ],
   "source": [
    "%%script echo skipping\n",
    "drop_columns = azdias.columns[na_variables > 0.65]"
   ]
  },
  {
   "cell_type": "code",
   "execution_count": 45,
   "metadata": {},
   "outputs": [
    {
     "name": "stdout",
     "output_type": "stream",
     "text": [
      "skipping\n"
     ]
    }
   ],
   "source": [
    "%%script echo skipping\n",
    "print('The columns to drop are: ', drop_columns)"
   ]
  },
  {
   "cell_type": "code",
   "execution_count": 46,
   "metadata": {},
   "outputs": [
    {
     "name": "stdout",
     "output_type": "stream",
     "text": [
      "skipping\n"
     ]
    }
   ],
   "source": [
    "%%script echo skipping\n",
    "# Drop the extra column of customers dataset\n",
    "customers.drop(columns=['CUSTOMER_GROUP', 'ONLINE_PURCHASE', 'PRODUCT_GROUP'], inplace=True)"
   ]
  },
  {
   "cell_type": "code",
   "execution_count": 47,
   "metadata": {},
   "outputs": [
    {
     "name": "stdout",
     "output_type": "stream",
     "text": [
      "skipping\n"
     ]
    }
   ],
   "source": [
    "%%script echo skipping\n",
    "customers.shape"
   ]
  },
  {
   "cell_type": "code",
   "execution_count": 48,
   "metadata": {},
   "outputs": [
    {
     "name": "stdout",
     "output_type": "stream",
     "text": [
      "skipping\n"
     ]
    }
   ],
   "source": [
    "%%script echo skipping\n",
    "# Dropping 6 columns\n",
    "azdias = azdias.drop(drop_columns,axis=1)\n",
    "customers = customers.drop(drop_columns,axis=1)"
   ]
  },
  {
   "cell_type": "code",
   "execution_count": 49,
   "metadata": {},
   "outputs": [
    {
     "name": "stdout",
     "output_type": "stream",
     "text": [
      "skipping\n"
     ]
    }
   ],
   "source": [
    "%%script echo skipping\n",
    "# Variable EINGEFUEGT_AM has too many different items\n",
    "\n",
    "azdias = azdias.drop(['EINGEFUEGT_AM'],axis=1)\n",
    "customers = customers.drop(['EINGEFUEGT_AM'],axis=1)"
   ]
  },
  {
   "cell_type": "code",
   "execution_count": 50,
   "metadata": {},
   "outputs": [
    {
     "name": "stdout",
     "output_type": "stream",
     "text": [
      "skipping\n"
     ]
    }
   ],
   "source": [
    "%%script echo skipping\n",
    "# Variable D19_LETZTER_KAUF_BRANCHE has many different items\n",
    "\n",
    "azdias = azdias.drop(['D19_LETZTER_KAUF_BRANCHE'],axis=1)\n",
    "customers = customers.drop(['D19_LETZTER_KAUF_BRANCHE'],axis=1)"
   ]
  },
  {
   "cell_type": "code",
   "execution_count": 51,
   "metadata": {},
   "outputs": [
    {
     "name": "stdout",
     "output_type": "stream",
     "text": [
      "skipping\n"
     ]
    }
   ],
   "source": [
    "%%script echo skipping\n",
    "print('The new number of rows and columns in the azdias dataset are: {} and {}'.format(azdias.shape[0],azdias.shape[1]))"
   ]
  },
  {
   "cell_type": "code",
   "execution_count": 52,
   "metadata": {},
   "outputs": [
    {
     "name": "stdout",
     "output_type": "stream",
     "text": [
      "skipping\n"
     ]
    }
   ],
   "source": [
    "%%script echo skipping\n",
    "print('The new number of rows and columns in the customers dataset are: {} and {}'.format(customers.shape[0],customers.shape[1]))"
   ]
  },
  {
   "cell_type": "code",
   "execution_count": 53,
   "metadata": {},
   "outputs": [
    {
     "name": "stdout",
     "output_type": "stream",
     "text": [
      "skipping\n"
     ]
    }
   ],
   "source": [
    "%%script echo skipping\n",
    "# Through the analysis of highly correlated variables, the size of the dataframe is reduced\n",
    "\n",
    "# 1. Correlation Matrix\n",
    "# azdias\n",
    "corr_matrix = azdias.corr().abs()\n",
    "upper_limit = corr_matrix.where(np.triu(np.ones(corr_matrix.shape), k=1).astype(np.bool))\n",
    "\n",
    "# 2. Columns to drop based on threshold limit\n",
    "# azdias\n",
    "drop_columns = [column for column in upper_limit.columns if any(upper_limit[column] > .7)]\n",
    "\n",
    "# 3. Dropping columns from azdias dataset\n",
    "# azdias\n",
    "azdias = azdias.drop(drop_columns, axis=1)\n",
    "print('Number of columns of azdias dataset', len(azdias.columns))\n",
    "\n",
    "\n",
    "# 1. Correlation Matrix\n",
    "# customers\n",
    "corr_matrix = customers.corr().abs()\n",
    "upper_limit = corr_matrix.where(np.triu(np.ones(corr_matrix.shape), k=1).astype(np.bool))\n",
    "\n",
    "# 2. Columns to drop based on threshold limit\n",
    "# customers\n",
    "drop_columns = [column for column in upper_limit.columns if any(upper_limit[column] > .7)]\n",
    "\n",
    "# 3. Dropping columns from customers dataset\n",
    "# customers\n",
    "customers = customers.drop(drop_columns, axis=1)\n",
    "print('Number of columns of customers dataset', len(customers.columns))"
   ]
  },
  {
   "cell_type": "code",
   "execution_count": 54,
   "metadata": {},
   "outputs": [
    {
     "name": "stdout",
     "output_type": "stream",
     "text": [
      "skipping\n"
     ]
    }
   ],
   "source": [
    "%%script echo skipping\n",
    "print('The new number of rows and columns in the azdias dataset are: {} and {}'.format(azdias.shape[0],azdias.shape[1]))"
   ]
  },
  {
   "cell_type": "code",
   "execution_count": 55,
   "metadata": {},
   "outputs": [
    {
     "name": "stdout",
     "output_type": "stream",
     "text": [
      "skipping\n"
     ]
    }
   ],
   "source": [
    "%%script echo skipping\n",
    "print('The new number of rows and columns in the customers dataset are: {} and {}'.format(customers.shape[0],customers.shape[1]))"
   ]
  },
  {
   "cell_type": "code",
   "execution_count": 56,
   "metadata": {},
   "outputs": [
    {
     "name": "stdout",
     "output_type": "stream",
     "text": [
      "skipping\n"
     ]
    }
   ],
   "source": [
    "%%script echo skipping\n",
    "# Exploring variables with object data type\n",
    "azdias.select_dtypes(include=['object']).sample(8)"
   ]
  },
  {
   "cell_type": "code",
   "execution_count": 57,
   "metadata": {},
   "outputs": [
    {
     "name": "stdout",
     "output_type": "stream",
     "text": [
      "skipping\n"
     ]
    }
   ],
   "source": [
    "%%script echo skipping\n",
    "customers.select_dtypes(include=['object']).sample(8)"
   ]
  },
  {
   "cell_type": "code",
   "execution_count": 58,
   "metadata": {},
   "outputs": [
    {
     "name": "stdout",
     "output_type": "stream",
     "text": [
      "skipping\n"
     ]
    }
   ],
   "source": [
    "%%script echo skipping\n",
    "#  Finding categorical fields\n",
    "cols = azdias.columns\n",
    "num_cols = azdias._get_numeric_data().columns\n",
    "print('Number of columns: ',num_cols)\n",
    "print('Categorical variables: ',list(set(cols) - set(num_cols)))"
   ]
  },
  {
   "cell_type": "code",
   "execution_count": 59,
   "metadata": {},
   "outputs": [
    {
     "name": "stdout",
     "output_type": "stream",
     "text": [
      "skipping\n"
     ]
    }
   ],
   "source": [
    "%%script echo skipping\n",
    "# Imputing missing values with -1 indicating unknown as in the description\n",
    "azdias[['CAMEO_DEUG_2015','CAMEO_INTL_2015']] = azdias[['CAMEO_DEUG_2015','CAMEO_INTL_2015']].replace(['X','XX'],-1)\n",
    "customers[['CAMEO_DEUG_2015','CAMEO_INTL_2015']] = customers[['CAMEO_DEUG_2015','CAMEO_INTL_2015']].replace(['X','XX'],-1)\n",
    "\n",
    "azdias[['CAMEO_DEUG_2015','CAMEO_INTL_2015']] = azdias[['CAMEO_DEUG_2015','CAMEO_INTL_2015']].fillna(-1)\n",
    "customers[['CAMEO_DEUG_2015','CAMEO_INTL_2015']] = customers[['CAMEO_DEUG_2015','CAMEO_INTL_2015']].fillna(-1)\n",
    "\n",
    "azdias[['CAMEO_DEUG_2015','CAMEO_INTL_2015']] = azdias[['CAMEO_DEUG_2015','CAMEO_INTL_2015']].astype(int)\n",
    "customers[['CAMEO_DEUG_2015','CAMEO_INTL_2015']] = customers[['CAMEO_DEUG_2015','CAMEO_INTL_2015']].astype(int)\n",
    "\n",
    "azdias[['CAMEO_DEU_2015','OST_WEST_KZ']]=azdias[['CAMEO_DEU_2015','OST_WEST_KZ']].fillna(-1)\n",
    "customers[['CAMEO_DEU_2015','OST_WEST_KZ']]=customers[['CAMEO_DEU_2015','OST_WEST_KZ']].fillna(-1)"
   ]
  },
  {
   "cell_type": "code",
   "execution_count": 60,
   "metadata": {},
   "outputs": [
    {
     "name": "stdout",
     "output_type": "stream",
     "text": [
      "skipping\n"
     ]
    }
   ],
   "source": [
    "%%script echo skipping\n",
    "azdias.isnull().sum().sort_values(ascending=False).head(15)"
   ]
  },
  {
   "cell_type": "code",
   "execution_count": 61,
   "metadata": {
    "scrolled": true
   },
   "outputs": [
    {
     "name": "stdout",
     "output_type": "stream",
     "text": [
      "skipping\n"
     ]
    }
   ],
   "source": [
    "%%script echo skipping\n",
    "customers.isnull().sum().sort_values(ascending=False).head(15)"
   ]
  },
  {
   "cell_type": "code",
   "execution_count": 62,
   "metadata": {},
   "outputs": [
    {
     "name": "stdout",
     "output_type": "stream",
     "text": [
      "skipping\n"
     ]
    }
   ],
   "source": [
    "%%script echo skipping\n",
    "# Using fillna with 9 for fields that has 9 marked as unknown\n",
    "azdias[azdias.columns[(azdias==9).any()]] = azdias[azdias.columns[(azdias==9).any()]].fillna(9)\n",
    "customers[customers.columns[(customers==9).any()]] = customers[customers.columns[(customers==9).any()]].fillna(9)"
   ]
  },
  {
   "cell_type": "code",
   "execution_count": 63,
   "metadata": {},
   "outputs": [
    {
     "name": "stdout",
     "output_type": "stream",
     "text": [
      "skipping\n"
     ]
    }
   ],
   "source": [
    "%%script echo skipping\n",
    "# Using fillna with 0 for fields that has 0 marked as unknown\n",
    "azdias[azdias.columns[(azdias==0).any()]] = azdias[azdias.columns[(azdias==0).any()]].fillna(0)\n",
    "customers[customers.columns[(customers==0).any()]] = customers[customers.columns[(customers==0).any()]].fillna(0)"
   ]
  },
  {
   "cell_type": "code",
   "execution_count": 64,
   "metadata": {},
   "outputs": [
    {
     "name": "stdout",
     "output_type": "stream",
     "text": [
      "skipping\n"
     ]
    }
   ],
   "source": [
    "%%script echo skipping\n",
    "# Using fillna with -1 for fields that has 0 marked as unknown\n",
    "azdias[azdias.columns[(azdias==-1).any()]] = azdias[azdias.columns[(azdias==-1).any()]].fillna(-1)\n",
    "customers[customers.columns[(customers==-1).any()]] = customers[customers.columns[(customers==-1).any()]].fillna(-1)"
   ]
  },
  {
   "cell_type": "code",
   "execution_count": 65,
   "metadata": {},
   "outputs": [
    {
     "name": "stdout",
     "output_type": "stream",
     "text": [
      "skipping\n"
     ]
    }
   ],
   "source": [
    "%%script echo skipping\n",
    "# One Hot Encoding for categorical variables\n",
    "azdias = pd.get_dummies(azdias)\n",
    "customers = pd.get_dummies(customers)"
   ]
  },
  {
   "cell_type": "code",
   "execution_count": 66,
   "metadata": {},
   "outputs": [
    {
     "name": "stdout",
     "output_type": "stream",
     "text": [
      "skipping\n"
     ]
    }
   ],
   "source": [
    "%%script echo skipping\n",
    "azdias.columns"
   ]
  },
  {
   "cell_type": "code",
   "execution_count": 67,
   "metadata": {},
   "outputs": [
    {
     "name": "stdout",
     "output_type": "stream",
     "text": [
      "skipping\n"
     ]
    }
   ],
   "source": [
    "%%script echo skipping\n",
    "customers.columns"
   ]
  },
  {
   "cell_type": "code",
   "execution_count": 68,
   "metadata": {},
   "outputs": [
    {
     "name": "stdout",
     "output_type": "stream",
     "text": [
      "skipping\n"
     ]
    }
   ],
   "source": [
    "%%script echo skipping\n",
    "azdias_columns = azdias.columns\n",
    "customers_columns = customers.columns"
   ]
  },
  {
   "cell_type": "code",
   "execution_count": 69,
   "metadata": {},
   "outputs": [
    {
     "name": "stdout",
     "output_type": "stream",
     "text": [
      "skipping\n"
     ]
    }
   ],
   "source": [
    "%%script echo skipping\n",
    "print('The new number of rows and columns in the azdias dataset are: {} and {}'.format(azdias.shape[0],azdias.shape[1]))"
   ]
  },
  {
   "cell_type": "code",
   "execution_count": 70,
   "metadata": {},
   "outputs": [
    {
     "name": "stdout",
     "output_type": "stream",
     "text": [
      "skipping\n"
     ]
    }
   ],
   "source": [
    "%%script echo skipping\n",
    "print('The new number of rows and columns in the customers dataset are: {} and {}'.format(customers.shape[0],customers.shape[1]))"
   ]
  },
  {
   "cell_type": "code",
   "execution_count": 71,
   "metadata": {},
   "outputs": [
    {
     "name": "stdout",
     "output_type": "stream",
     "text": [
      "skipping\n"
     ]
    }
   ],
   "source": [
    "%%script echo skipping\n",
    "# Imputing missing values with mode through the sklearn method\n",
    "imputer = Imputer(missing_values='NaN',strategy='most_frequent',axis=0)\n",
    "\n",
    "azdias = imputer.fit_transform(azdias)\n",
    "azdias = pd.DataFrame(azdias)\n",
    "print('imputed azdias: ', azdias.head(5))\n",
    "\n",
    "customers = imputer.fit_transform(customers)\n",
    "customers = pd.DataFrame(customers)\n",
    "print('imputed customers: ', customers.head(5))"
   ]
  },
  {
   "cell_type": "code",
   "execution_count": 72,
   "metadata": {},
   "outputs": [
    {
     "name": "stdout",
     "output_type": "stream",
     "text": [
      "skipping\n"
     ]
    }
   ],
   "source": [
    "%%script echo skipping\n",
    "# Converting to int\n",
    "azdias = azdias.astype(int)\n",
    "customers = customers.astype(int)"
   ]
  },
  {
   "cell_type": "markdown",
   "metadata": {},
   "source": [
    "### Outliers detection and removal"
   ]
  },
  {
   "cell_type": "code",
   "execution_count": 73,
   "metadata": {},
   "outputs": [
    {
     "name": "stdout",
     "output_type": "stream",
     "text": [
      "skipping\n"
     ]
    }
   ],
   "source": [
    "%%script echo skipping\n",
    "# Detect and exclude outliers in a pandas DataFrame\n",
    "azdias = azdias[(np.abs(stats.zscore(azdias)) < 6).all(axis=1)]\n",
    "customers = customers[(np.abs(stats.zscore(customers)) < 6).all(axis=1)]"
   ]
  },
  {
   "cell_type": "code",
   "execution_count": 74,
   "metadata": {},
   "outputs": [
    {
     "name": "stdout",
     "output_type": "stream",
     "text": [
      "skipping\n"
     ]
    }
   ],
   "source": [
    "%%script echo skipping\n",
    "print('The new number of rows and columns in the azdias dataset are: {} and {}'.format(azdias.shape[0],azdias.shape[1]))"
   ]
  },
  {
   "cell_type": "code",
   "execution_count": 75,
   "metadata": {},
   "outputs": [
    {
     "name": "stdout",
     "output_type": "stream",
     "text": [
      "skipping\n"
     ]
    }
   ],
   "source": [
    "%%script echo skipping\n",
    "print('The new number of rows and columns in the customers dataset are: {} and {}'.format(customers.shape[0],customers.shape[1]))"
   ]
  },
  {
   "cell_type": "code",
   "execution_count": 76,
   "metadata": {},
   "outputs": [
    {
     "name": "stdout",
     "output_type": "stream",
     "text": [
      "skipping\n"
     ]
    }
   ],
   "source": [
    "%%script echo skipping\n",
    "# Checking missing values\n",
    "azdias.isnull().any().sum()\n",
    "customers.isnull().any().sum()"
   ]
  },
  {
   "cell_type": "code",
   "execution_count": 77,
   "metadata": {},
   "outputs": [],
   "source": [
    "#azdias.to_pickle('azdias_before_scaling')\n",
    "#customers.to_pickle('customers_before_scaling')"
   ]
  },
  {
   "cell_type": "markdown",
   "metadata": {},
   "source": [
    "### Data standardization "
   ]
  },
  {
   "cell_type": "code",
   "execution_count": 78,
   "metadata": {},
   "outputs": [
    {
     "name": "stdout",
     "output_type": "stream",
     "text": [
      "skipping\n"
     ]
    }
   ],
   "source": [
    "%%script echo skipping\n",
    "# Feature scaling\n",
    "scale = StandardScaler(copy=False)\n",
    "azdias[azdias.columns] = scale.fit_transform(azdias)"
   ]
  },
  {
   "cell_type": "code",
   "execution_count": 79,
   "metadata": {},
   "outputs": [
    {
     "name": "stdout",
     "output_type": "stream",
     "text": [
      "skipping\n"
     ]
    }
   ],
   "source": [
    "%%script echo skipping\n",
    "np.size((azdias_columns == azdias_columns))-np.sum((azdias_columns == azdias_columns))"
   ]
  },
  {
   "cell_type": "code",
   "execution_count": 80,
   "metadata": {},
   "outputs": [
    {
     "name": "stdout",
     "output_type": "stream",
     "text": [
      "skipping\n"
     ]
    }
   ],
   "source": [
    "%%script echo skipping\n",
    "customers[customers.columns] = scale.fit_transform(customers)"
   ]
  },
  {
   "cell_type": "code",
   "execution_count": 81,
   "metadata": {},
   "outputs": [],
   "source": [
    "#azdias.to_pickle('azdias_scaled')\n",
    "#customers.to_pickle('customers_scaled')"
   ]
  },
  {
   "cell_type": "code",
   "execution_count": 82,
   "metadata": {},
   "outputs": [
    {
     "name": "stdout",
     "output_type": "stream",
     "text": [
      "skipping\n"
     ]
    }
   ],
   "source": [
    "%%script echo skipping\n",
    "azdias_columns"
   ]
  },
  {
   "cell_type": "markdown",
   "metadata": {},
   "source": [
    "### Implementation"
   ]
  },
  {
   "cell_type": "markdown",
   "metadata": {},
   "source": [
    "Previously different analyses have been performed on the data sets in question, however, these analyses will now be encapsulated in a single function which cleans and organizes the data."
   ]
  },
  {
   "cell_type": "code",
   "execution_count": 83,
   "metadata": {},
   "outputs": [],
   "source": [
    "def data_preprocess(df, for_clustering, df_name=None):\n",
    "    \"\"\"Function to processing of the data in order to have it ready for segmentation\n",
    "\n",
    "    Parameters:\n",
    "    df: Dataframe to which processing will be performed \n",
    "    for_clustering: True if dataframe is for clustering\n",
    "    df_name: Dataframe name \n",
    "\n",
    "    Returns:\n",
    "    df: Dataframe with preprocessing applied\n",
    "\n",
    "   \"\"\"\n",
    "    \n",
    "    if for_clustering:\n",
    "        if df_name == 'azdias':\n",
    "            df = df[df.isnull().sum(axis=1) <= 16].reset_index(drop=True)\n",
    "        elif df_name == 'customers':            \n",
    "            df.drop(columns=['CUSTOMER_GROUP', 'ONLINE_PURCHASE', 'PRODUCT_GROUP'], inplace=True)\n",
    "        \n",
    "    drop_cols = ['ALTER_KIND1', 'ALTER_KIND2', 'ALTER_KIND3', 'ALTER_KIND4', 'EXTSEL992','KK_KUNDENTYP']\n",
    "    \n",
    "    df = df.drop(drop_cols,axis=1)\n",
    "    df = df.drop(['EINGEFUEGT_AM'],axis=1)\n",
    "    df = df.drop(['D19_LETZTER_KAUF_BRANCHE'],axis=1)\n",
    "\n",
    "    # Correlation Matrix    \n",
    "    corr_matrix = df.corr().abs()\n",
    "    upper_limit = corr_matrix.where(np.triu(np.ones(corr_matrix.shape), k=1).astype(np.bool))\n",
    "    # Columns to drop based on threshold limit\n",
    "    drop_columns = [column for column in upper_limit.columns if any(upper_limit[column] > .7)]\n",
    "    # Dropping columns from customers dataset\n",
    "    df = df.drop(drop_columns, axis=1)\n",
    "    print('Shape of dataframe after correlation analysis', df.shape)\n",
    "\n",
    "\n",
    "    # Imputing missing values with -1 indicating unknown as in the description\n",
    "    df[['CAMEO_DEUG_2015','CAMEO_INTL_2015']] = df[['CAMEO_DEUG_2015','CAMEO_INTL_2015']].replace(['X','XX'],-1)\n",
    "    df[['CAMEO_DEUG_2015','CAMEO_INTL_2015']] = df[['CAMEO_DEUG_2015','CAMEO_INTL_2015']].fillna(-1)\n",
    "    df[['CAMEO_DEUG_2015','CAMEO_INTL_2015']] = df[['CAMEO_DEUG_2015','CAMEO_INTL_2015']].astype(int)\n",
    "    df[['CAMEO_DEU_2015','OST_WEST_KZ']]=df[['CAMEO_DEU_2015','OST_WEST_KZ']].fillna(-1)\n",
    "\n",
    "\n",
    "    # Using fillna with 9 for fields that has 9 marked as unknown\n",
    "    df[df.columns[(df==9).any()]] = df[df.columns[(df==9).any()]].fillna(9)\n",
    "    # Using fillna with 0 for fields that has 0 marked as unknown\n",
    "    df[df.columns[(df==0).any()]] = df[df.columns[(df==0).any()]].fillna(0)\n",
    "    # Using fillna with -1 for fields that has 0 marked as unknown\n",
    "    df[df.columns[(df==-1).any()]] = df[df.columns[(df==-1).any()]].fillna(-1)\n",
    "\n",
    "\n",
    "    # One Hot Encoding for categorical variables\n",
    "    df = pd.get_dummies(df)\n",
    "    print('Shape of dataframe after One Hot Encoding', df.shape)\n",
    "    \n",
    "    df_columns = list(df.columns.values)\n",
    "\n",
    "    # Imputing missing values with mode through the sklearn method\n",
    "    imputer = Imputer(missing_values='NaN',strategy='most_frequent',axis=0)\n",
    "    df = imputer.fit_transform(df)\n",
    "    df = pd.DataFrame(df)\n",
    "    print('Shape of dataframe after impute', df.shape)\n",
    "    \n",
    "    # Convert dataframe to int\n",
    "    df = df.astype(int)\n",
    "\n",
    "    # Detect and exclude outliers in a pandas DataFrame\n",
    "    if for_clustering:\n",
    "        print('Inside outliers if')\n",
    "        df = df[(np.abs(stats.zscore(df)) < 6).all(axis=1)] \n",
    "        print('Shape of dataframe before scaling', df.shape)\n",
    "    \n",
    "    # Feature scaling\n",
    "    scale = StandardScaler(copy=False)\n",
    "    scaled = scale.fit_transform(df)\n",
    "    df = pd.DataFrame(scaled,columns= df_columns)\n",
    "    print('Shape of dataframe after scaling', df.shape)\n",
    "    \n",
    "    # else:\n",
    "    # df.columns = df_columns\n",
    "        \n",
    "    df = df.set_index('LNR')\n",
    "    return df"
   ]
  },
  {
   "cell_type": "markdown",
   "metadata": {},
   "source": [
    "### azdias dataframe processed"
   ]
  },
  {
   "cell_type": "code",
   "execution_count": 84,
   "metadata": {},
   "outputs": [
    {
     "name": "stdout",
     "output_type": "stream",
     "text": [
      "Shape of dataframe after correlation analysis (733227, 238)\n",
      "Shape of dataframe after One Hot Encoding (733227, 284)\n",
      "Shape of dataframe after impute (733227, 284)\n",
      "Inside outliers if\n",
      "Shape of dataframe before scaling (415405, 284)\n",
      "Shape of dataframe after scaling (415405, 284)\n",
      "CPU times: user 4min 45s, sys: 1min 22s, total: 6min 7s\n",
      "Wall time: 50min 45s\n"
     ]
    }
   ],
   "source": [
    "%%time\n",
    "azdias = data_preprocess(azdias, True, 'azdias')"
   ]
  },
  {
   "cell_type": "code",
   "execution_count": 85,
   "metadata": {},
   "outputs": [
    {
     "name": "stdout",
     "output_type": "stream",
     "text": [
      "The number of rows and columns in the azdias dataset are: 415405 and 283\n"
     ]
    }
   ],
   "source": [
    "print('The number of rows and columns in the azdias dataset are: {} and {}'.format(azdias.shape[0],azdias.shape[1]))"
   ]
  },
  {
   "cell_type": "code",
   "execution_count": 86,
   "metadata": {},
   "outputs": [
    {
     "name": "stdout",
     "output_type": "stream",
     "text": [
      "           AGER_TYP  AKT_DAT_KL  ALTER_HH  ALTERSKATEGORIE_FEIN  \\\n",
      "LNR                                                               \n",
      " 1.044527 -0.549413    1.155132  0.831893              0.911269   \n",
      " 1.044589 -0.549413   -1.017213  1.223909              0.285868   \n",
      " 1.044600  2.747309   -1.017213 -0.082810             -0.547999   \n",
      " 1.044616 -0.549413    1.155132 -1.389529             -0.756466   \n",
      " 1.044666 -0.549413   -1.017213  0.439878              0.285868   \n",
      " 0.016048  0.274768   -1.017213 -0.082810             -0.547999   \n",
      "-0.110411 -0.549413   -1.017213  1.093237              1.328203   \n",
      "-0.110365 -0.549413    1.155132 -1.389529             -0.756466   \n",
      "\n",
      "           ANZ_HAUSHALTE_AKTIV  ANZ_HH_TITEL  ANZ_KINDER  ANZ_PERSONEN  \\\n",
      "LNR                                                                      \n",
      " 1.044527             0.170790     -0.142864   -0.281792     -0.610158   \n",
      " 1.044589            -0.488492     -0.142864   -0.281792      2.240974   \n",
      " 1.044600            -0.300126     -0.142864   -0.281792     -0.610158   \n",
      " 1.044616            -0.394309     -0.142864   -0.281792     -0.610158   \n",
      " 1.044666            -0.205943     -0.142864   -0.281792     -0.610158   \n",
      " 0.016048            -0.205943     -0.142864   -0.281792     -0.610158   \n",
      "-0.110411            -0.771042     -0.142864   -0.281792     -1.560536   \n",
      "-0.110365            -0.582676     -0.142864   -0.281792     -0.610158   \n",
      "\n",
      "           ANZ_TITEL    ARBEIT      ...        CAMEO_DEU_2015_8C  \\\n",
      "LNR                                 ...                            \n",
      " 1.044527        0.0 -0.255250      ...                -0.263318   \n",
      " 1.044589        0.0  0.716291      ...                -0.263318   \n",
      " 1.044600        0.0 -1.226790      ...                 3.797696   \n",
      " 1.044616        0.0  0.716291      ...                -0.263318   \n",
      " 1.044666        0.0 -1.226790      ...                -0.263318   \n",
      " 0.016048        0.0  0.716291      ...                -0.263318   \n",
      "-0.110411        0.0 -2.198331      ...                -0.263318   \n",
      "-0.110365        0.0 -0.255250      ...                -0.263318   \n",
      "\n",
      "           CAMEO_DEU_2015_8D  CAMEO_DEU_2015_9A  CAMEO_DEU_2015_9B  \\\n",
      "LNR                                                                  \n",
      " 1.044527                0.0                0.0          -0.243513   \n",
      " 1.044589                0.0                0.0          -0.243513   \n",
      " 1.044600                0.0                0.0          -0.243513   \n",
      " 1.044616                0.0                0.0          -0.243513   \n",
      " 1.044666                0.0                0.0          -0.243513   \n",
      " 0.016048                0.0                0.0          -0.243513   \n",
      "-0.110411                0.0                0.0          -0.243513   \n",
      "-0.110365                0.0                0.0          -0.243513   \n",
      "\n",
      "           CAMEO_DEU_2015_9C  CAMEO_DEU_2015_9D  CAMEO_DEU_2015_9E  \\\n",
      "LNR                                                                  \n",
      " 1.044527          -0.228966          -0.248766                0.0   \n",
      " 1.044589          -0.228966          -0.248766                0.0   \n",
      " 1.044600          -0.228966          -0.248766                0.0   \n",
      " 1.044616          -0.228966          -0.248766                0.0   \n",
      " 1.044666          -0.228966          -0.248766                0.0   \n",
      " 0.016048          -0.228966           4.019840                0.0   \n",
      "-0.110411          -0.228966          -0.248766                0.0   \n",
      "-0.110365          -0.228966          -0.248766                0.0   \n",
      "\n",
      "           CAMEO_DEU_2015_XX  OST_WEST_KZ_O  OST_WEST_KZ_W  \n",
      "LNR                                                         \n",
      " 1.044527                0.0      -0.509642       0.509642  \n",
      " 1.044589                0.0      -0.509642       0.509642  \n",
      " 1.044600                0.0      -0.509642       0.509642  \n",
      " 1.044616                0.0      -0.509642       0.509642  \n",
      " 1.044666                0.0      -0.509642       0.509642  \n",
      " 0.016048                0.0      -0.509642       0.509642  \n",
      "-0.110411                0.0      -0.509642       0.509642  \n",
      "-0.110365                0.0      -0.509642       0.509642  \n",
      "\n",
      "[8 rows x 283 columns]\n"
     ]
    }
   ],
   "source": [
    "print(azdias.head(8))"
   ]
  },
  {
   "cell_type": "markdown",
   "metadata": {},
   "source": [
    "### customers dataframe processed"
   ]
  },
  {
   "cell_type": "code",
   "execution_count": 87,
   "metadata": {},
   "outputs": [
    {
     "name": "stdout",
     "output_type": "stream",
     "text": [
      "Shape of dataframe after correlation analysis (191652, 256)\n",
      "Shape of dataframe after One Hot Encoding (191652, 303)\n",
      "Shape of dataframe after impute (191652, 303)\n",
      "Inside outliers if\n",
      "Shape of dataframe before scaling (100341, 303)\n",
      "Shape of dataframe after scaling (100341, 303)\n",
      "CPU times: user 1min 29s, sys: 7.14 s, total: 1min 36s\n",
      "Wall time: 4min 16s\n"
     ]
    }
   ],
   "source": [
    "%%time\n",
    "customers = data_preprocess(customers, True, 'customers')"
   ]
  },
  {
   "cell_type": "code",
   "execution_count": 88,
   "metadata": {},
   "outputs": [
    {
     "name": "stdout",
     "output_type": "stream",
     "text": [
      "The number of rows and columns in the customers dataset are: 100341 and 302\n"
     ]
    }
   ],
   "source": [
    "print('The number of rows and columns in the customers dataset are: {} and {}'.format(customers.shape[0],customers.shape[1]))"
   ]
  },
  {
   "cell_type": "code",
   "execution_count": 89,
   "metadata": {},
   "outputs": [
    {
     "name": "stdout",
     "output_type": "stream",
     "text": [
      "           AGER_TYP  AKT_DAT_KL  ALTER_HH  ALTERSKATEGORIE_FEIN  \\\n",
      "LNR                                                               \n",
      "-1.556361 -0.738505    1.010105  0.168897             -0.209002   \n",
      " 0.872952  0.777112   -1.037635 -0.468300             -0.545546   \n",
      " 0.873622  0.777112   -1.037635 -0.043502             -0.209002   \n",
      " 0.118344  0.777112   -1.037635  2.080488              1.137176   \n",
      " 0.118561  0.777112   -1.037635 -0.043502              0.127543   \n",
      " 0.119321 -0.738505   -1.037635  2.292887              1.473721   \n",
      " 0.119375 -0.738505   -1.037635  1.018493              1.473721   \n",
      " 0.265013  1.534920   -0.013765  1.443291              0.800632   \n",
      "\n",
      "           ANZ_HAUSHALTE_AKTIV  ANZ_HH_TITEL  ANZ_KINDER  ANZ_PERSONEN  \\\n",
      "LNR                                                                      \n",
      "-1.556361             0.808794      0.992832   -0.193253     -0.686881   \n",
      " 0.872952            -1.330334      0.992832   -0.193253     -1.545501   \n",
      " 0.873622            -1.092653     -1.008534   -0.193253     -0.973088   \n",
      " 0.118344            -1.092653     -1.008534   -0.193253     -0.686881   \n",
      " 0.118561            -1.092653     -1.008534   -0.193253     -1.259294   \n",
      " 0.119321            -1.092653     -1.008534   -0.193253     -0.686881   \n",
      " 0.119375            -1.092653     -1.008534    3.373269     -0.973088   \n",
      " 0.265013            -1.092653     -1.008534   -0.193253     -0.114467   \n",
      "\n",
      "           ANZ_TITEL    ARBEIT      ...        CAMEO_DEU_2015_8D  \\\n",
      "LNR                                 ...                            \n",
      "-1.556361        0.0  0.985621      ...                      0.0   \n",
      " 0.872952        0.0 -1.487406      ...                      0.0   \n",
      " 0.873622        0.0 -0.869149      ...                      0.0   \n",
      " 0.118344        0.0 -0.869149      ...                      0.0   \n",
      " 0.118561        0.0 -1.178277      ...                      0.0   \n",
      " 0.119321        0.0 -1.487406      ...                      0.0   \n",
      " 0.119375        0.0 -0.560021      ...                      0.0   \n",
      " 0.265013        0.0 -0.869149      ...                      0.0   \n",
      "\n",
      "           CAMEO_DEU_2015_9A  CAMEO_DEU_2015_9B  CAMEO_DEU_2015_9C  \\\n",
      "LNR                                                                  \n",
      "-1.556361                0.0                0.0                0.0   \n",
      " 0.872952                0.0                0.0                0.0   \n",
      " 0.873622                0.0                0.0                0.0   \n",
      " 0.118344                0.0                0.0                0.0   \n",
      " 0.118561                0.0                0.0                0.0   \n",
      " 0.119321                0.0                0.0                0.0   \n",
      " 0.119375                0.0                0.0                0.0   \n",
      " 0.265013                0.0                0.0                0.0   \n",
      "\n",
      "           CAMEO_DEU_2015_9D  CAMEO_DEU_2015_9E  CAMEO_DEU_2015_XX  \\\n",
      "LNR                                                                  \n",
      "-1.556361                0.0                0.0                0.0   \n",
      " 0.872952                0.0                0.0                0.0   \n",
      " 0.873622                0.0                0.0                0.0   \n",
      " 0.118344                0.0                0.0                0.0   \n",
      " 0.118561                0.0                0.0                0.0   \n",
      " 0.119321                0.0                0.0                0.0   \n",
      " 0.119375                0.0                0.0                0.0   \n",
      " 0.265013                0.0                0.0                0.0   \n",
      "\n",
      "           OST_WEST_KZ_-1  OST_WEST_KZ_O  OST_WEST_KZ_W  \n",
      "LNR                                                      \n",
      "-1.556361        1.013798      -0.164221      -0.961907  \n",
      " 0.872952       -0.986389      -0.164221       1.039601  \n",
      " 0.873622       -0.986389      -0.164221       1.039601  \n",
      " 0.118344       -0.986389      -0.164221       1.039601  \n",
      " 0.118561       -0.986389      -0.164221       1.039601  \n",
      " 0.119321       -0.986389      -0.164221       1.039601  \n",
      " 0.119375       -0.986389      -0.164221       1.039601  \n",
      " 0.265013       -0.986389      -0.164221       1.039601  \n",
      "\n",
      "[8 rows x 302 columns]\n"
     ]
    }
   ],
   "source": [
    "print(customers.head(8))"
   ]
  },
  {
   "cell_type": "markdown",
   "metadata": {},
   "source": [
    "## Part 1: Customer Segmentation Report\n",
    "\n",
    "The main bulk of your analysis will come in this part of the project. Here, you should use unsupervised learning techniques to describe the relationship between the demographics of the company's existing customers and the general population of Germany. By the end of this part, you should be able to describe parts of the general population that are more likely to be part of the mail-order company's main customer base, and which parts of the general population are less so."
   ]
  },
  {
   "cell_type": "markdown",
   "metadata": {},
   "source": [
    "### Dimensionality reduction - Principal component analysis (PCA)"
   ]
  },
  {
   "cell_type": "markdown",
   "metadata": {},
   "source": [
    "The cleaned and transformed Azdias dataset has 283 different features. The feature range can be reduced by applying PCA or Principal component analysis (PCA). According to The Royal Society Publishing is a technique for reducing the dimensionality of such datasets, increasing interpretability but at the same time minimizing information loss."
   ]
  },
  {
   "cell_type": "code",
   "execution_count": 90,
   "metadata": {},
   "outputs": [
    {
     "data": {
      "image/png": "[encoded data removed]",
      "text/plain": [
       "<matplotlib.figure.Figure at 0x7f8ab9dcf4a8>"
      ]
     },
     "metadata": {
      "needs_background": "light"
     },
     "output_type": "display_data"
    }
   ],
   "source": [
    "# Reducing the dimensionality of azdias dataset\n",
    "pca = PCA().fit(azdias)\n",
    "plt.figure(figsize=(18,8))\n",
    "plt.plot(np.cumsum(pca.explained_variance_ratio_))\n",
    "plt.xlabel('Number of components')\n",
    "plt.ylabel('Cumulative explained variance')\n",
    "plt.axhline(y=0.95, color='r', linestyle='-')\n",
    "plt.text(0.5, 0.85, '95% cut-off threshold', color = 'red', fontsize=15)\n",
    "plt.grid(True)\n",
    "plt.show()"
   ]
  },
  {
   "cell_type": "code",
   "execution_count": 91,
   "metadata": {},
   "outputs": [],
   "source": [
    "cum_variance = pd.DataFrame(np.cumsum(pca.explained_variance_ratio_), columns=['cumulative_variance'])\n",
    "cum_variance.set_index(cum_variance.index+1, inplace=True)"
   ]
  },
  {
   "cell_type": "code",
   "execution_count": 92,
   "metadata": {},
   "outputs": [
    {
     "name": "stdout",
     "output_type": "stream",
     "text": [
      "186 components explain 95% of variance in the dataset.\n"
     ]
    }
   ],
   "source": [
    "num_components = cum_variance[cum_variance['cumulative_variance']>.95].index[0]\n",
    "print('{} components explain 95% of variance in the dataset.'.format(num_components))"
   ]
  },
  {
   "cell_type": "markdown",
   "metadata": {},
   "source": [
    "Of the close to 300 features in the dataset there are 186 that explain 95% of the variance. The dataset can be reduced to almost 66% approximately of its feature range while only losing 5% of variance.\n",
    "In the same way, with PCA we want to make our data has high variance but we do not lose critical information from dataset while reducing dimensions.\n",
    "\n",
    "So we are going to leave a larger number of variables, i.e. a total of 220 variables remaining."
   ]
  },
  {
   "cell_type": "code",
   "execution_count": 93,
   "metadata": {},
   "outputs": [],
   "source": [
    "def reduced_dataframe(df,n=220):\n",
    "    \"\"\"Function to reduced dataframe size through PCA function\n",
    "\n",
    "    Parameters:\n",
    "    df (dataframe): Pandas dataframe\n",
    "    n (int): Number of components to keep\n",
    "\n",
    "    Returns:\n",
    "    reduced_data: Returning a Pandas dataframe with dimension reduction\n",
    "\n",
    "   \"\"\"\n",
    "    pca = PCA(n_components=n).fit(df)\n",
    "    reduced_data = pca.transform(df)\n",
    "    reduced_data = pd.DataFrame(reduced_data)\n",
    "    print(pca.explained_variance_ratio_.sum())\n",
    "    return reduced_data"
   ]
  },
  {
   "cell_type": "code",
   "execution_count": 94,
   "metadata": {},
   "outputs": [
    {
     "name": "stdout",
     "output_type": "stream",
     "text": [
      "0.987001744003\n",
      "0.997358386706\n"
     ]
    }
   ],
   "source": [
    "reduced_azdias = reduced_dataframe(azdias)\n",
    "reduced_customers = reduced_dataframe(customers)"
   ]
  },
  {
   "cell_type": "code",
   "execution_count": 95,
   "metadata": {},
   "outputs": [
    {
     "name": "stdout",
     "output_type": "stream",
     "text": [
      "The number of rows and columns in the azdias dataset are: 415405 and 220\n"
     ]
    }
   ],
   "source": [
    "print('The number of rows and columns in the azdias dataset are: {} and {}'.format(reduced_azdias.shape[0],reduced_azdias.shape[1]))"
   ]
  },
  {
   "cell_type": "code",
   "execution_count": 96,
   "metadata": {},
   "outputs": [
    {
     "data": {
      "text/html": [
       "<div>\n",
       "<style scoped>\n",
       "    .dataframe tbody tr th:only-of-type {\n",
       "        vertical-align: middle;\n",
       "    }\n",
       "\n",
       "    .dataframe tbody tr th {\n",
       "        vertical-align: top;\n",
       "    }\n",
       "\n",
       "    .dataframe thead th {\n",
       "        text-align: right;\n",
       "    }\n",
       "</style>\n",
       "<table border=\"1\" class=\"dataframe\">\n",
       "  <thead>\n",
       "    <tr style=\"text-align: right;\">\n",
       "      <th></th>\n",
       "      <th>0</th>\n",
       "      <th>1</th>\n",
       "      <th>2</th>\n",
       "      <th>3</th>\n",
       "      <th>4</th>\n",
       "      <th>5</th>\n",
       "      <th>6</th>\n",
       "      <th>7</th>\n",
       "      <th>8</th>\n",
       "      <th>9</th>\n",
       "      <th>...</th>\n",
       "      <th>210</th>\n",
       "      <th>211</th>\n",
       "      <th>212</th>\n",
       "      <th>213</th>\n",
       "      <th>214</th>\n",
       "      <th>215</th>\n",
       "      <th>216</th>\n",
       "      <th>217</th>\n",
       "      <th>218</th>\n",
       "      <th>219</th>\n",
       "    </tr>\n",
       "  </thead>\n",
       "  <tbody>\n",
       "    <tr>\n",
       "      <th>0</th>\n",
       "      <td>2.703529</td>\n",
       "      <td>-1.869862</td>\n",
       "      <td>0.234048</td>\n",
       "      <td>0.154811</td>\n",
       "      <td>2.839287</td>\n",
       "      <td>-3.498354</td>\n",
       "      <td>1.952374</td>\n",
       "      <td>-2.058383</td>\n",
       "      <td>0.264975</td>\n",
       "      <td>-3.260718</td>\n",
       "      <td>...</td>\n",
       "      <td>0.165733</td>\n",
       "      <td>-0.290004</td>\n",
       "      <td>0.668892</td>\n",
       "      <td>-0.012892</td>\n",
       "      <td>-0.115964</td>\n",
       "      <td>0.782114</td>\n",
       "      <td>-0.394768</td>\n",
       "      <td>-0.622937</td>\n",
       "      <td>0.401396</td>\n",
       "      <td>0.455088</td>\n",
       "    </tr>\n",
       "    <tr>\n",
       "      <th>1</th>\n",
       "      <td>2.699462</td>\n",
       "      <td>-0.659331</td>\n",
       "      <td>3.574167</td>\n",
       "      <td>6.091062</td>\n",
       "      <td>-2.722294</td>\n",
       "      <td>-1.430668</td>\n",
       "      <td>-4.725703</td>\n",
       "      <td>-1.651532</td>\n",
       "      <td>-3.282229</td>\n",
       "      <td>-1.046125</td>\n",
       "      <td>...</td>\n",
       "      <td>0.438890</td>\n",
       "      <td>0.233816</td>\n",
       "      <td>-0.005865</td>\n",
       "      <td>-0.805070</td>\n",
       "      <td>-0.165274</td>\n",
       "      <td>0.203340</td>\n",
       "      <td>0.274022</td>\n",
       "      <td>-0.462720</td>\n",
       "      <td>-0.120820</td>\n",
       "      <td>-0.466787</td>\n",
       "    </tr>\n",
       "    <tr>\n",
       "      <th>2</th>\n",
       "      <td>2.707202</td>\n",
       "      <td>-2.135665</td>\n",
       "      <td>-0.741123</td>\n",
       "      <td>-1.438278</td>\n",
       "      <td>2.230685</td>\n",
       "      <td>0.381599</td>\n",
       "      <td>-0.569303</td>\n",
       "      <td>0.063301</td>\n",
       "      <td>-0.880403</td>\n",
       "      <td>-0.937020</td>\n",
       "      <td>...</td>\n",
       "      <td>0.825634</td>\n",
       "      <td>0.137735</td>\n",
       "      <td>-0.051073</td>\n",
       "      <td>-0.228571</td>\n",
       "      <td>-0.747726</td>\n",
       "      <td>-0.194313</td>\n",
       "      <td>1.059833</td>\n",
       "      <td>0.261754</td>\n",
       "      <td>0.351282</td>\n",
       "      <td>0.628428</td>\n",
       "    </tr>\n",
       "    <tr>\n",
       "      <th>3</th>\n",
       "      <td>-1.102197</td>\n",
       "      <td>1.053822</td>\n",
       "      <td>1.677138</td>\n",
       "      <td>-4.591045</td>\n",
       "      <td>-1.175285</td>\n",
       "      <td>-3.472136</td>\n",
       "      <td>0.982781</td>\n",
       "      <td>-0.131532</td>\n",
       "      <td>1.124514</td>\n",
       "      <td>-1.037131</td>\n",
       "      <td>...</td>\n",
       "      <td>1.057576</td>\n",
       "      <td>-0.115895</td>\n",
       "      <td>-0.157873</td>\n",
       "      <td>-0.125420</td>\n",
       "      <td>0.692968</td>\n",
       "      <td>0.481435</td>\n",
       "      <td>-0.125974</td>\n",
       "      <td>0.547159</td>\n",
       "      <td>-0.071598</td>\n",
       "      <td>0.199324</td>\n",
       "    </tr>\n",
       "    <tr>\n",
       "      <th>4</th>\n",
       "      <td>3.538814</td>\n",
       "      <td>-2.874705</td>\n",
       "      <td>-1.118186</td>\n",
       "      <td>-0.881512</td>\n",
       "      <td>2.690290</td>\n",
       "      <td>-1.598570</td>\n",
       "      <td>-1.683284</td>\n",
       "      <td>4.636161</td>\n",
       "      <td>0.355697</td>\n",
       "      <td>-3.284052</td>\n",
       "      <td>...</td>\n",
       "      <td>0.168599</td>\n",
       "      <td>-0.376426</td>\n",
       "      <td>-0.318966</td>\n",
       "      <td>0.177379</td>\n",
       "      <td>0.082538</td>\n",
       "      <td>-0.419281</td>\n",
       "      <td>0.587223</td>\n",
       "      <td>0.557984</td>\n",
       "      <td>0.320383</td>\n",
       "      <td>-0.115744</td>\n",
       "    </tr>\n",
       "    <tr>\n",
       "      <th>5</th>\n",
       "      <td>-4.636283</td>\n",
       "      <td>2.885804</td>\n",
       "      <td>-1.914048</td>\n",
       "      <td>-1.102132</td>\n",
       "      <td>-3.974792</td>\n",
       "      <td>-0.083083</td>\n",
       "      <td>0.756133</td>\n",
       "      <td>-1.523639</td>\n",
       "      <td>-2.804409</td>\n",
       "      <td>-4.017885</td>\n",
       "      <td>...</td>\n",
       "      <td>0.281354</td>\n",
       "      <td>0.254290</td>\n",
       "      <td>0.339954</td>\n",
       "      <td>0.158268</td>\n",
       "      <td>-0.810570</td>\n",
       "      <td>-0.579782</td>\n",
       "      <td>0.212908</td>\n",
       "      <td>-0.451324</td>\n",
       "      <td>-0.312956</td>\n",
       "      <td>0.063408</td>\n",
       "    </tr>\n",
       "    <tr>\n",
       "      <th>6</th>\n",
       "      <td>3.075689</td>\n",
       "      <td>0.915885</td>\n",
       "      <td>5.039853</td>\n",
       "      <td>-2.936347</td>\n",
       "      <td>-0.223363</td>\n",
       "      <td>-0.106600</td>\n",
       "      <td>-1.202533</td>\n",
       "      <td>-2.265801</td>\n",
       "      <td>-0.039178</td>\n",
       "      <td>0.412664</td>\n",
       "      <td>...</td>\n",
       "      <td>0.017311</td>\n",
       "      <td>0.626374</td>\n",
       "      <td>-0.564916</td>\n",
       "      <td>-0.407529</td>\n",
       "      <td>-0.202417</td>\n",
       "      <td>-0.195165</td>\n",
       "      <td>0.328316</td>\n",
       "      <td>0.645106</td>\n",
       "      <td>-0.092232</td>\n",
       "      <td>0.279167</td>\n",
       "    </tr>\n",
       "    <tr>\n",
       "      <th>7</th>\n",
       "      <td>1.355196</td>\n",
       "      <td>-1.306062</td>\n",
       "      <td>2.630764</td>\n",
       "      <td>-5.217800</td>\n",
       "      <td>1.024475</td>\n",
       "      <td>-1.548007</td>\n",
       "      <td>1.032004</td>\n",
       "      <td>-0.170584</td>\n",
       "      <td>1.678625</td>\n",
       "      <td>0.763128</td>\n",
       "      <td>...</td>\n",
       "      <td>0.372664</td>\n",
       "      <td>-0.958086</td>\n",
       "      <td>-0.387446</td>\n",
       "      <td>-0.395049</td>\n",
       "      <td>0.141605</td>\n",
       "      <td>0.526328</td>\n",
       "      <td>0.093576</td>\n",
       "      <td>-0.566299</td>\n",
       "      <td>0.417910</td>\n",
       "      <td>-0.450426</td>\n",
       "    </tr>\n",
       "  </tbody>\n",
       "</table>\n",
       "<p>8 rows × 220 columns</p>\n",
       "</div>"
      ],
      "text/plain": [
       "        0         1         2         3         4         5         6    \\\n",
       "0  2.703529 -1.869862  0.234048  0.154811  2.839287 -3.498354  1.952374   \n",
       "1  2.699462 -0.659331  3.574167  6.091062 -2.722294 -1.430668 -4.725703   \n",
       "2  2.707202 -2.135665 -0.741123 -1.438278  2.230685  0.381599 -0.569303   \n",
       "3 -1.102197  1.053822  1.677138 -4.591045 -1.175285 -3.472136  0.982781   \n",
       "4  3.538814 -2.874705 -1.118186 -0.881512  2.690290 -1.598570 -1.683284   \n",
       "5 -4.636283  2.885804 -1.914048 -1.102132 -3.974792 -0.083083  0.756133   \n",
       "6  3.075689  0.915885  5.039853 -2.936347 -0.223363 -0.106600 -1.202533   \n",
       "7  1.355196 -1.306062  2.630764 -5.217800  1.024475 -1.548007  1.032004   \n",
       "\n",
       "        7         8         9      ...          210       211       212  \\\n",
       "0 -2.058383  0.264975 -3.260718    ...     0.165733 -0.290004  0.668892   \n",
       "1 -1.651532 -3.282229 -1.046125    ...     0.438890  0.233816 -0.005865   \n",
       "2  0.063301 -0.880403 -0.937020    ...     0.825634  0.137735 -0.051073   \n",
       "3 -0.131532  1.124514 -1.037131    ...     1.057576 -0.115895 -0.157873   \n",
       "4  4.636161  0.355697 -3.284052    ...     0.168599 -0.376426 -0.318966   \n",
       "5 -1.523639 -2.804409 -4.017885    ...     0.281354  0.254290  0.339954   \n",
       "6 -2.265801 -0.039178  0.412664    ...     0.017311  0.626374 -0.564916   \n",
       "7 -0.170584  1.678625  0.763128    ...     0.372664 -0.958086 -0.387446   \n",
       "\n",
       "        213       214       215       216       217       218       219  \n",
       "0 -0.012892 -0.115964  0.782114 -0.394768 -0.622937  0.401396  0.455088  \n",
       "1 -0.805070 -0.165274  0.203340  0.274022 -0.462720 -0.120820 -0.466787  \n",
       "2 -0.228571 -0.747726 -0.194313  1.059833  0.261754  0.351282  0.628428  \n",
       "3 -0.125420  0.692968  0.481435 -0.125974  0.547159 -0.071598  0.199324  \n",
       "4  0.177379  0.082538 -0.419281  0.587223  0.557984  0.320383 -0.115744  \n",
       "5  0.158268 -0.810570 -0.579782  0.212908 -0.451324 -0.312956  0.063408  \n",
       "6 -0.407529 -0.202417 -0.195165  0.328316  0.645106 -0.092232  0.279167  \n",
       "7 -0.395049  0.141605  0.526328  0.093576 -0.566299  0.417910 -0.450426  \n",
       "\n",
       "[8 rows x 220 columns]"
      ]
     },
     "execution_count": 96,
     "metadata": {},
     "output_type": "execute_result"
    }
   ],
   "source": [
    "reduced_azdias.head(8)"
   ]
  },
  {
   "cell_type": "code",
   "execution_count": 97,
   "metadata": {},
   "outputs": [
    {
     "name": "stdout",
     "output_type": "stream",
     "text": [
      "The number of rows and columns in the customers dataset are: 100341 and 220\n"
     ]
    }
   ],
   "source": [
    "print('The number of rows and columns in the customers dataset are: {} and {}'.format(reduced_customers.shape[0],reduced_customers.shape[1]))"
   ]
  },
  {
   "cell_type": "code",
   "execution_count": 98,
   "metadata": {},
   "outputs": [
    {
     "data": {
      "text/html": [
       "<div>\n",
       "<style scoped>\n",
       "    .dataframe tbody tr th:only-of-type {\n",
       "        vertical-align: middle;\n",
       "    }\n",
       "\n",
       "    .dataframe tbody tr th {\n",
       "        vertical-align: top;\n",
       "    }\n",
       "\n",
       "    .dataframe thead th {\n",
       "        text-align: right;\n",
       "    }\n",
       "</style>\n",
       "<table border=\"1\" class=\"dataframe\">\n",
       "  <thead>\n",
       "    <tr style=\"text-align: right;\">\n",
       "      <th></th>\n",
       "      <th>0</th>\n",
       "      <th>1</th>\n",
       "      <th>2</th>\n",
       "      <th>3</th>\n",
       "      <th>4</th>\n",
       "      <th>5</th>\n",
       "      <th>6</th>\n",
       "      <th>7</th>\n",
       "      <th>8</th>\n",
       "      <th>9</th>\n",
       "      <th>...</th>\n",
       "      <th>210</th>\n",
       "      <th>211</th>\n",
       "      <th>212</th>\n",
       "      <th>213</th>\n",
       "      <th>214</th>\n",
       "      <th>215</th>\n",
       "      <th>216</th>\n",
       "      <th>217</th>\n",
       "      <th>218</th>\n",
       "      <th>219</th>\n",
       "    </tr>\n",
       "  </thead>\n",
       "  <tbody>\n",
       "    <tr>\n",
       "      <th>0</th>\n",
       "      <td>-8.181604</td>\n",
       "      <td>0.694115</td>\n",
       "      <td>1.677993</td>\n",
       "      <td>0.362250</td>\n",
       "      <td>-1.687850</td>\n",
       "      <td>-1.104060</td>\n",
       "      <td>1.141230</td>\n",
       "      <td>0.255567</td>\n",
       "      <td>-0.651574</td>\n",
       "      <td>0.659817</td>\n",
       "      <td>...</td>\n",
       "      <td>-0.441827</td>\n",
       "      <td>0.338404</td>\n",
       "      <td>0.205419</td>\n",
       "      <td>0.001483</td>\n",
       "      <td>0.048396</td>\n",
       "      <td>-0.055585</td>\n",
       "      <td>-0.039930</td>\n",
       "      <td>-0.002959</td>\n",
       "      <td>-0.004557</td>\n",
       "      <td>-0.004019</td>\n",
       "    </tr>\n",
       "    <tr>\n",
       "      <th>1</th>\n",
       "      <td>9.033657</td>\n",
       "      <td>0.816309</td>\n",
       "      <td>-1.458874</td>\n",
       "      <td>-3.485520</td>\n",
       "      <td>-1.770163</td>\n",
       "      <td>3.204296</td>\n",
       "      <td>-3.097571</td>\n",
       "      <td>1.503054</td>\n",
       "      <td>-3.426780</td>\n",
       "      <td>3.040414</td>\n",
       "      <td>...</td>\n",
       "      <td>-0.715008</td>\n",
       "      <td>0.806506</td>\n",
       "      <td>0.103205</td>\n",
       "      <td>0.237529</td>\n",
       "      <td>0.345069</td>\n",
       "      <td>0.469307</td>\n",
       "      <td>1.144985</td>\n",
       "      <td>-0.161149</td>\n",
       "      <td>-0.138420</td>\n",
       "      <td>-0.098574</td>\n",
       "    </tr>\n",
       "    <tr>\n",
       "      <th>2</th>\n",
       "      <td>10.258838</td>\n",
       "      <td>-6.335922</td>\n",
       "      <td>0.955381</td>\n",
       "      <td>-2.415843</td>\n",
       "      <td>-4.576069</td>\n",
       "      <td>1.143129</td>\n",
       "      <td>-1.803697</td>\n",
       "      <td>0.894611</td>\n",
       "      <td>-0.844607</td>\n",
       "      <td>-0.378673</td>\n",
       "      <td>...</td>\n",
       "      <td>0.357946</td>\n",
       "      <td>-0.167043</td>\n",
       "      <td>0.072852</td>\n",
       "      <td>0.573523</td>\n",
       "      <td>-0.016163</td>\n",
       "      <td>-0.014044</td>\n",
       "      <td>-0.156393</td>\n",
       "      <td>-0.092519</td>\n",
       "      <td>0.351774</td>\n",
       "      <td>-0.130125</td>\n",
       "    </tr>\n",
       "    <tr>\n",
       "      <th>3</th>\n",
       "      <td>12.154975</td>\n",
       "      <td>-1.800788</td>\n",
       "      <td>8.747283</td>\n",
       "      <td>2.581728</td>\n",
       "      <td>-0.098979</td>\n",
       "      <td>-1.315677</td>\n",
       "      <td>-0.624133</td>\n",
       "      <td>1.392404</td>\n",
       "      <td>2.239163</td>\n",
       "      <td>-1.547592</td>\n",
       "      <td>...</td>\n",
       "      <td>-0.250264</td>\n",
       "      <td>0.164489</td>\n",
       "      <td>0.242880</td>\n",
       "      <td>-0.117307</td>\n",
       "      <td>-0.345049</td>\n",
       "      <td>0.855396</td>\n",
       "      <td>-0.101679</td>\n",
       "      <td>0.486674</td>\n",
       "      <td>-0.052985</td>\n",
       "      <td>0.058044</td>\n",
       "    </tr>\n",
       "    <tr>\n",
       "      <th>4</th>\n",
       "      <td>10.531243</td>\n",
       "      <td>2.911606</td>\n",
       "      <td>2.264155</td>\n",
       "      <td>-0.428285</td>\n",
       "      <td>-0.254667</td>\n",
       "      <td>-0.660607</td>\n",
       "      <td>-1.772180</td>\n",
       "      <td>-0.903003</td>\n",
       "      <td>-1.635396</td>\n",
       "      <td>-1.070725</td>\n",
       "      <td>...</td>\n",
       "      <td>-0.046532</td>\n",
       "      <td>0.200544</td>\n",
       "      <td>-0.220023</td>\n",
       "      <td>-0.138808</td>\n",
       "      <td>0.243741</td>\n",
       "      <td>-0.061238</td>\n",
       "      <td>0.120138</td>\n",
       "      <td>0.117874</td>\n",
       "      <td>0.253480</td>\n",
       "      <td>-0.574901</td>\n",
       "    </tr>\n",
       "    <tr>\n",
       "      <th>5</th>\n",
       "      <td>10.773221</td>\n",
       "      <td>6.770362</td>\n",
       "      <td>2.378288</td>\n",
       "      <td>-5.727832</td>\n",
       "      <td>2.563020</td>\n",
       "      <td>-1.876543</td>\n",
       "      <td>-1.096232</td>\n",
       "      <td>1.409062</td>\n",
       "      <td>0.722937</td>\n",
       "      <td>-2.489275</td>\n",
       "      <td>...</td>\n",
       "      <td>0.081292</td>\n",
       "      <td>-0.154457</td>\n",
       "      <td>0.299854</td>\n",
       "      <td>-0.350455</td>\n",
       "      <td>-0.090587</td>\n",
       "      <td>0.140066</td>\n",
       "      <td>0.020808</td>\n",
       "      <td>-0.122277</td>\n",
       "      <td>-0.089637</td>\n",
       "      <td>0.337984</td>\n",
       "    </tr>\n",
       "    <tr>\n",
       "      <th>6</th>\n",
       "      <td>1.809180</td>\n",
       "      <td>4.438844</td>\n",
       "      <td>6.596015</td>\n",
       "      <td>2.192139</td>\n",
       "      <td>4.537154</td>\n",
       "      <td>-2.930931</td>\n",
       "      <td>0.450888</td>\n",
       "      <td>2.892556</td>\n",
       "      <td>-3.347173</td>\n",
       "      <td>1.077494</td>\n",
       "      <td>...</td>\n",
       "      <td>0.260482</td>\n",
       "      <td>0.452040</td>\n",
       "      <td>-0.024008</td>\n",
       "      <td>-0.077405</td>\n",
       "      <td>0.000957</td>\n",
       "      <td>0.204925</td>\n",
       "      <td>-0.592532</td>\n",
       "      <td>-0.008149</td>\n",
       "      <td>-0.129058</td>\n",
       "      <td>0.033518</td>\n",
       "    </tr>\n",
       "    <tr>\n",
       "      <th>7</th>\n",
       "      <td>10.419246</td>\n",
       "      <td>-2.120546</td>\n",
       "      <td>2.143846</td>\n",
       "      <td>2.506598</td>\n",
       "      <td>-1.855386</td>\n",
       "      <td>-3.770007</td>\n",
       "      <td>-4.459892</td>\n",
       "      <td>1.675043</td>\n",
       "      <td>-0.733199</td>\n",
       "      <td>0.496655</td>\n",
       "      <td>...</td>\n",
       "      <td>0.871658</td>\n",
       "      <td>0.178510</td>\n",
       "      <td>0.084223</td>\n",
       "      <td>0.203760</td>\n",
       "      <td>-0.013012</td>\n",
       "      <td>0.050485</td>\n",
       "      <td>-0.269310</td>\n",
       "      <td>-0.363253</td>\n",
       "      <td>-0.228080</td>\n",
       "      <td>0.233485</td>\n",
       "    </tr>\n",
       "  </tbody>\n",
       "</table>\n",
       "<p>8 rows × 220 columns</p>\n",
       "</div>"
      ],
      "text/plain": [
       "         0         1         2         3         4         5         6    \\\n",
       "0  -8.181604  0.694115  1.677993  0.362250 -1.687850 -1.104060  1.141230   \n",
       "1   9.033657  0.816309 -1.458874 -3.485520 -1.770163  3.204296 -3.097571   \n",
       "2  10.258838 -6.335922  0.955381 -2.415843 -4.576069  1.143129 -1.803697   \n",
       "3  12.154975 -1.800788  8.747283  2.581728 -0.098979 -1.315677 -0.624133   \n",
       "4  10.531243  2.911606  2.264155 -0.428285 -0.254667 -0.660607 -1.772180   \n",
       "5  10.773221  6.770362  2.378288 -5.727832  2.563020 -1.876543 -1.096232   \n",
       "6   1.809180  4.438844  6.596015  2.192139  4.537154 -2.930931  0.450888   \n",
       "7  10.419246 -2.120546  2.143846  2.506598 -1.855386 -3.770007 -4.459892   \n",
       "\n",
       "        7         8         9      ...          210       211       212  \\\n",
       "0  0.255567 -0.651574  0.659817    ...    -0.441827  0.338404  0.205419   \n",
       "1  1.503054 -3.426780  3.040414    ...    -0.715008  0.806506  0.103205   \n",
       "2  0.894611 -0.844607 -0.378673    ...     0.357946 -0.167043  0.072852   \n",
       "3  1.392404  2.239163 -1.547592    ...    -0.250264  0.164489  0.242880   \n",
       "4 -0.903003 -1.635396 -1.070725    ...    -0.046532  0.200544 -0.220023   \n",
       "5  1.409062  0.722937 -2.489275    ...     0.081292 -0.154457  0.299854   \n",
       "6  2.892556 -3.347173  1.077494    ...     0.260482  0.452040 -0.024008   \n",
       "7  1.675043 -0.733199  0.496655    ...     0.871658  0.178510  0.084223   \n",
       "\n",
       "        213       214       215       216       217       218       219  \n",
       "0  0.001483  0.048396 -0.055585 -0.039930 -0.002959 -0.004557 -0.004019  \n",
       "1  0.237529  0.345069  0.469307  1.144985 -0.161149 -0.138420 -0.098574  \n",
       "2  0.573523 -0.016163 -0.014044 -0.156393 -0.092519  0.351774 -0.130125  \n",
       "3 -0.117307 -0.345049  0.855396 -0.101679  0.486674 -0.052985  0.058044  \n",
       "4 -0.138808  0.243741 -0.061238  0.120138  0.117874  0.253480 -0.574901  \n",
       "5 -0.350455 -0.090587  0.140066  0.020808 -0.122277 -0.089637  0.337984  \n",
       "6 -0.077405  0.000957  0.204925 -0.592532 -0.008149 -0.129058  0.033518  \n",
       "7  0.203760 -0.013012  0.050485 -0.269310 -0.363253 -0.228080  0.233485  \n",
       "\n",
       "[8 rows x 220 columns]"
      ]
     },
     "execution_count": 98,
     "metadata": {},
     "output_type": "execute_result"
    }
   ],
   "source": [
    "reduced_customers.head(8)"
   ]
  },
  {
   "cell_type": "code",
   "execution_count": 99,
   "metadata": {},
   "outputs": [],
   "source": [
    "#reduced_azdias.to_pickle('reduced_azdias.p')\n",
    "#reduced_customers.to_pickle('reduced_customers.p')"
   ]
  },
  {
   "cell_type": "markdown",
   "metadata": {},
   "source": [
    "### K-means Clustering"
   ]
  },
  {
   "cell_type": "markdown",
   "metadata": {},
   "source": [
    "According to the literature, K-means is an unsupervised classification (clustering) algorithm that groups objects into k groups based on their characteristics. The clustering is performed by minimizing the sum of distances between each object and the centroid of its group or cluster. The quadratic distance is usually used. "
   ]
  },
  {
   "cell_type": "code",
   "execution_count": 100,
   "metadata": {},
   "outputs": [],
   "source": [
    "def score(data, k):\n",
    "    \"\"\"Function to score a dataframe \n",
    "\n",
    "    Parameters:\n",
    "    data (dataframe): Pandas dataframe\n",
    "    k (int): Number of clusters\n",
    "\n",
    "    Returns:\n",
    "    float: The absolute value of the Opposite of the value of X on the K-means objective\n",
    "\n",
    "   \"\"\"\n",
    "    kmeans_k = KMeans(k)\n",
    "    model_k = kmeans_k.fit(data)\n",
    "    return abs(model_k.score(data))"
   ]
  },
  {
   "cell_type": "code",
   "execution_count": 101,
   "metadata": {},
   "outputs": [
    {
     "data": {
      "text/plain": [
       "array([  1.,   2.,   3.,   4.,   5.,   6.,   7.,   8.,   9.,  10.,  11.,\n",
       "        12.,  13.,  14.,  15.,  16.,  17.,  18.,  19.,  20.,  21.])"
      ]
     },
     "execution_count": 101,
     "metadata": {},
     "output_type": "execute_result"
    }
   ],
   "source": [
    "centers = np.linspace(1,21,21)\n",
    "centers"
   ]
  },
  {
   "cell_type": "code",
   "execution_count": 102,
   "metadata": {},
   "outputs": [],
   "source": [
    "# Elbow method\n",
    "scores = []\n",
    "for i in range(1, 21):\n",
    "    scores.append(score(reduced_azdias.sample(20000), i))"
   ]
  },
  {
   "cell_type": "code",
   "execution_count": 103,
   "metadata": {},
   "outputs": [
    {
     "data": {
      "image/png": "[encoded data removed]",
      "text/plain": [
       "<matplotlib.figure.Figure at 0x7f8abd2a6550>"
      ]
     },
     "metadata": {
      "needs_background": "light"
     },
     "output_type": "display_data"
    }
   ],
   "source": [
    "# Elbow graph\n",
    "centers = np.linspace(1,20,20)\n",
    "\n",
    "plt.figure(figsize=(10, 5))\n",
    "plt.plot(centers, scores, linestyle='-', marker='8', color='dodgerblue')\n",
    "plt.title('k-means Clustering Elbow Plot')\n",
    "plt.xlabel(\"Number of clusters k\")\n",
    "plt.ylabel(\"Sum of squared distance\")\n",
    "plt.xticks(list(range(1,22,2)));"
   ]
  },
  {
   "cell_type": "markdown",
   "metadata": {},
   "source": [
    "The inertia or sum of squared distances drops significantly until around 8 or 9 clusters and then primarily flattens out with a few further drops at 14, 20, 23, ... clusters. At 13, inertia increases a bit so 12 clusters are chosen as final number."
   ]
  },
  {
   "cell_type": "code",
   "execution_count": 104,
   "metadata": {},
   "outputs": [],
   "source": [
    "# Set K-means parameters\n",
    "kmeans_clusters = 12"
   ]
  },
  {
   "cell_type": "code",
   "execution_count": 105,
   "metadata": {},
   "outputs": [
    {
     "name": "stdout",
     "output_type": "stream",
     "text": [
      "CPU times: user 6min 40s, sys: 11.4 s, total: 6min 51s\n",
      "Wall time: 7min\n"
     ]
    }
   ],
   "source": [
    "%%time\n",
    "k_means = KMeans(kmeans_clusters)\n",
    "model_kmeans = k_means.fit(reduced_azdias)\n",
    "prediction_azdias = model_kmeans.predict(reduced_azdias)"
   ]
  },
  {
   "cell_type": "code",
   "execution_count": 106,
   "metadata": {},
   "outputs": [],
   "source": [
    "azdias_clustered = pd.DataFrame(prediction_azdias, columns=['Cluster'])"
   ]
  },
  {
   "cell_type": "code",
   "execution_count": 107,
   "metadata": {},
   "outputs": [],
   "source": [
    "prediction_customers = model_kmeans.predict(reduced_customers)"
   ]
  },
  {
   "cell_type": "code",
   "execution_count": 108,
   "metadata": {},
   "outputs": [],
   "source": [
    "customers_clustered = pd.DataFrame(prediction_customers, columns=['Cluster'])"
   ]
  },
  {
   "cell_type": "markdown",
   "metadata": {},
   "source": [
    "### Clustered datasets analysis"
   ]
  },
  {
   "cell_type": "code",
   "execution_count": 109,
   "metadata": {},
   "outputs": [],
   "source": [
    "# Count number of predictions for each customer segment\n",
    "customers_clusters = pd.Series(prediction_customers)\n",
    "cust_clus = customers_clusters.value_counts().sort_index()"
   ]
  },
  {
   "cell_type": "code",
   "execution_count": 110,
   "metadata": {},
   "outputs": [],
   "source": [
    "# Count number in each population segment\n",
    "population_clusters = pd.Series(prediction_azdias)\n",
    "popul_clus = population_clusters.value_counts().sort_index()"
   ]
  },
  {
   "cell_type": "code",
   "execution_count": 111,
   "metadata": {},
   "outputs": [],
   "source": [
    "# Create a dataframe from population and customer segments\n",
    "df_statistics = pd.concat([popul_clus, cust_clus], axis=1).reset_index()\n",
    "df_statistics.columns = ['cluster','population','customer']\n",
    "\n",
    "df_statistics['difference'] = (df_statistics['customer']/df_statistics['customer'].sum()*100) - (df_statistics['population']/df_statistics['population'].sum()*100)"
   ]
  },
  {
   "cell_type": "code",
   "execution_count": 112,
   "metadata": {},
   "outputs": [
    {
     "data": {
      "text/html": [
       "<div>\n",
       "<style scoped>\n",
       "    .dataframe tbody tr th:only-of-type {\n",
       "        vertical-align: middle;\n",
       "    }\n",
       "\n",
       "    .dataframe tbody tr th {\n",
       "        vertical-align: top;\n",
       "    }\n",
       "\n",
       "    .dataframe thead th {\n",
       "        text-align: right;\n",
       "    }\n",
       "</style>\n",
       "<table border=\"1\" class=\"dataframe\">\n",
       "  <thead>\n",
       "    <tr style=\"text-align: right;\">\n",
       "      <th></th>\n",
       "      <th>cluster</th>\n",
       "      <th>population</th>\n",
       "      <th>customer</th>\n",
       "      <th>difference</th>\n",
       "    </tr>\n",
       "  </thead>\n",
       "  <tbody>\n",
       "    <tr>\n",
       "      <th>3</th>\n",
       "      <td>3</td>\n",
       "      <td>34688</td>\n",
       "      <td>65</td>\n",
       "      <td>-8.285626</td>\n",
       "    </tr>\n",
       "    <tr>\n",
       "      <th>5</th>\n",
       "      <td>5</td>\n",
       "      <td>48354</td>\n",
       "      <td>460</td>\n",
       "      <td>-11.181770</td>\n",
       "    </tr>\n",
       "    <tr>\n",
       "      <th>10</th>\n",
       "      <td>10</td>\n",
       "      <td>43437</td>\n",
       "      <td>13668</td>\n",
       "      <td>3.165008</td>\n",
       "    </tr>\n",
       "    <tr>\n",
       "      <th>2</th>\n",
       "      <td>2</td>\n",
       "      <td>34536</td>\n",
       "      <td>707</td>\n",
       "      <td>-7.609217</td>\n",
       "    </tr>\n",
       "    <tr>\n",
       "      <th>9</th>\n",
       "      <td>9</td>\n",
       "      <td>26179</td>\n",
       "      <td>1018</td>\n",
       "      <td>-5.287502</td>\n",
       "    </tr>\n",
       "    <tr>\n",
       "      <th>4</th>\n",
       "      <td>4</td>\n",
       "      <td>12959</td>\n",
       "      <td>5243</td>\n",
       "      <td>2.105576</td>\n",
       "    </tr>\n",
       "    <tr>\n",
       "      <th>7</th>\n",
       "      <td>7</td>\n",
       "      <td>31754</td>\n",
       "      <td>46443</td>\n",
       "      <td>38.641061</td>\n",
       "    </tr>\n",
       "    <tr>\n",
       "      <th>8</th>\n",
       "      <td>8</td>\n",
       "      <td>35720</td>\n",
       "      <td>7641</td>\n",
       "      <td>-0.983805</td>\n",
       "    </tr>\n",
       "    <tr>\n",
       "      <th>0</th>\n",
       "      <td>0</td>\n",
       "      <td>30203</td>\n",
       "      <td>159</td>\n",
       "      <td>-7.112276</td>\n",
       "    </tr>\n",
       "    <tr>\n",
       "      <th>6</th>\n",
       "      <td>6</td>\n",
       "      <td>43610</td>\n",
       "      <td>2635</td>\n",
       "      <td>-7.872143</td>\n",
       "    </tr>\n",
       "    <tr>\n",
       "      <th>11</th>\n",
       "      <td>11</td>\n",
       "      <td>41737</td>\n",
       "      <td>60</td>\n",
       "      <td>-9.987507</td>\n",
       "    </tr>\n",
       "    <tr>\n",
       "      <th>1</th>\n",
       "      <td>1</td>\n",
       "      <td>32228</td>\n",
       "      <td>22242</td>\n",
       "      <td>14.408201</td>\n",
       "    </tr>\n",
       "  </tbody>\n",
       "</table>\n",
       "</div>"
      ],
      "text/plain": [
       "    cluster  population  customer  difference\n",
       "3         3       34688        65   -8.285626\n",
       "5         5       48354       460  -11.181770\n",
       "10       10       43437     13668    3.165008\n",
       "2         2       34536       707   -7.609217\n",
       "9         9       26179      1018   -5.287502\n",
       "4         4       12959      5243    2.105576\n",
       "7         7       31754     46443   38.641061\n",
       "8         8       35720      7641   -0.983805\n",
       "0         0       30203       159   -7.112276\n",
       "6         6       43610      2635   -7.872143\n",
       "11       11       41737        60   -9.987507\n",
       "1         1       32228     22242   14.408201"
      ]
     },
     "execution_count": 112,
     "metadata": {},
     "output_type": "execute_result"
    }
   ],
   "source": [
    "df_statistics.sample(12) "
   ]
  },
  {
   "cell_type": "markdown",
   "metadata": {},
   "source": [
    "Comparing the proportion of data in each cluster for the customer dataset to the proportion of data in each cluster for the general population."
   ]
  },
  {
   "cell_type": "code",
   "execution_count": 113,
   "metadata": {},
   "outputs": [],
   "source": [
    "df_statistics['pop_percent'] = (df_statistics['population']/df_statistics['population'].sum()*100).round(2)\n",
    "df_statistics['cust_percent'] = (df_statistics['customer']/df_statistics['customer'].sum()*100).round(2)"
   ]
  },
  {
   "cell_type": "code",
   "execution_count": 114,
   "metadata": {},
   "outputs": [
    {
     "data": {
      "image/png": "[encoded data removed]",
      "text/plain": [
       "<matplotlib.figure.Figure at 0x7f8aba868c88>"
      ]
     },
     "metadata": {
      "needs_background": "light"
     },
     "output_type": "display_data"
    }
   ],
   "source": [
    "fig = plt.figure(figsize=(12,6))\n",
    "\n",
    "ax = fig.add_subplot(111)\n",
    "ax = df_statistics['pop_percent'].plot(x=df_statistics['cluster'],width=-0.3,align='edge',color='peru',kind='bar',position=0)\n",
    "ax = df_statistics['cust_percent'].plot(kind='bar',color='crimson',width = 0.3, align='edge',position=1)\n",
    "ax.set_xlabel('Clusters', fontsize=8) \n",
    "ax.set_ylabel('Ratio percentage', fontsize=8)\n",
    "ax.xaxis.set(ticklabels=range(20))\n",
    "ax.tick_params(axis = 'x', which = 'major', labelsize = 13)\n",
    "ax.margins(x=0.5,y=0.1)\n",
    "\n",
    "plt.legend(('Population', 'Customer'),fontsize=8)\n",
    "plt.title(('Ratio of Population vs. Customer segments'))\n",
    "plt.show()"
   ]
  },
  {
   "cell_type": "markdown",
   "metadata": {},
   "source": [
    "The plot shows how clusters are distributed across both datasets. Clusters are equally spread across the general population and show only small differences in size. This can be expected from dataset that represents the general population very well.\n",
    "\n",
    "In contrast, the customers dataset exhibits a large imbalance across clusters. Cluster 5 and 6 stand out specifically: More than 50% of customers are mapped to these two clusters."
   ]
  },
  {
   "cell_type": "code",
   "execution_count": 115,
   "metadata": {},
   "outputs": [],
   "source": [
    "# Get cluster sizes in each dataset\n",
    "population_clusters = azdias_clustered['Cluster'].value_counts().sort_index()\n",
    "customer_clusters = customers_clustered['Cluster'].value_counts().sort_index()"
   ]
  },
  {
   "cell_type": "code",
   "execution_count": 116,
   "metadata": {},
   "outputs": [],
   "source": [
    "# Concat both dataframes to one\n",
    "clusters = pd.concat([population_clusters, customer_clusters], axis=1).reset_index()\n",
    "clusters.columns = ['cluster', 'population_count', 'customers_count']\n",
    "clusters['cluster']+=1"
   ]
  },
  {
   "cell_type": "code",
   "execution_count": 117,
   "metadata": {},
   "outputs": [],
   "source": [
    "# Calculate share of each cluster\n",
    "clusters['population_share'] = clusters['population_count']/clusters['population_count'].sum()*100\n",
    "clusters['customers_share'] = clusters['customers_count']/clusters['customers_count'].sum()*100\n",
    "clusters['diff_share'] = clusters['customers_share'] - clusters['population_share']"
   ]
  },
  {
   "cell_type": "code",
   "execution_count": 118,
   "metadata": {},
   "outputs": [
    {
     "data": {
      "image/png": "[encoded data removed]",
      "text/plain": [
       "<matplotlib.figure.Figure at 0x7f8abb867588>"
      ]
     },
     "metadata": {
      "needs_background": "light"
     },
     "output_type": "display_data"
    }
   ],
   "source": [
    "# Plot cluster differences\n",
    "fig, ax = plt.subplots(figsize=(12,6))\n",
    "\n",
    "ind = np.arange(kmeans_clusters)    # the x locations for the groups\n",
    "width = 0.35         # the width of the bars\n",
    "\n",
    "bar_colors = ('grey','grey','grey','grey','steelblue','steelblue','grey','grey','crimson','grey','crimson','grey')\n",
    "\n",
    "p1 = ax.bar(ind, clusters['diff_share'], width, color = bar_colors)\n",
    "\n",
    "ax.set_title('Overrepresentation (blue) and underrepresentation (red) of clusters in Customers vs. Population')\n",
    "ax.set_ylabel('Difference in share (%)')\n",
    "ax.set_xlabel('Cluster')\n",
    "\n",
    "ax.axhline(linewidth=.5, color='black')\n",
    "\n",
    "ax.set_xticks(ind)\n",
    "ax.set_xticklabels(clusters['cluster']);"
   ]
  },
  {
   "cell_type": "markdown",
   "metadata": {},
   "source": [
    "Clusters 5 and 6 are significantly overrepresented in the Customers dataset. These should be the focus of a marketing campaign for the company. On the other hand, clusters 9 and 11 show the largest underrepresentation compared to the general population and are outside of the focus group."
   ]
  },
  {
   "cell_type": "code",
   "execution_count": 119,
   "metadata": {},
   "outputs": [],
   "source": [
    "def weights_pca(principal_component, weight):\n",
    "    \"\"\"Function to show the highest positive and negative weights\n",
    "\n",
    "    Parameters:\n",
    "    principal_component (int): Principal component number\n",
    "    weight (int): Weight \n",
    "\n",
    "    Returns:\n",
    "    The function prints only one result set\n",
    "\n",
    "   \"\"\"\n",
    "    ratio = pd.DataFrame(pca.explained_variance_ratio_,columns = ['EXPLAINED_VARIANCE'])\n",
    "    ratio = ratio.round(3)\n",
    "    weights = pd.DataFrame(pca.components_, columns = azdias.columns.values)\n",
    "    weights = weights.round(3)    \n",
    "    \n",
    "    result = pd.concat([ratio, weights], axis = 1,  join_axes=[ratio.index])\n",
    "    result[:5]\n",
    "    print(\"Principal Component: \", (principal_component))    \n",
    "    print('\\n')\n",
    "    print(\"Highest Positive weights:\")\n",
    "    print(result.iloc[(principal_component)-1].sort_values(ascending=False)[:weight])\n",
    "    print('\\n')\n",
    "    print(\"Highest Negative weights:\")\n",
    "    print(result.iloc[(principal_component)-1].sort_values()[:weight])"
   ]
  },
  {
   "cell_type": "code",
   "execution_count": 120,
   "metadata": {},
   "outputs": [
    {
     "name": "stdout",
     "output_type": "stream",
     "text": [
      "Principal Component:  5\n",
      "\n",
      "\n",
      "Highest Positive weights:\n",
      "KBA13_KMH_210          0.223\n",
      "OST_WEST_KZ_O          0.187\n",
      "KBA13_CCM_1401_2500    0.183\n",
      "KBA13_VORB_0           0.135\n",
      "KBA13_CCM_2000         0.134\n",
      "Name: 4, dtype: float64\n",
      "\n",
      "\n",
      "Highest Negative weights:\n",
      "KBA13_KW_0_60         -0.239\n",
      "KBA13_KMH_180         -0.196\n",
      "KBA13_CCM_0_1400      -0.194\n",
      "OST_WEST_KZ_W         -0.187\n",
      "KBA13_SEG_MINIWAGEN   -0.159\n",
      "Name: 4, dtype: float64\n"
     ]
    }
   ],
   "source": [
    "# First overrepresentation of Customer\n",
    "# Highest positive and negative weights for 5 cluster \n",
    "weights_pca(5,5)"
   ]
  },
  {
   "cell_type": "code",
   "execution_count": 121,
   "metadata": {},
   "outputs": [
    {
     "name": "stdout",
     "output_type": "stream",
     "text": [
      "Principal Component:  4\n",
      "\n",
      "\n",
      "Highest Positive weights:\n",
      "EWDICHTE             0.167\n",
      "D19_GESAMT_ANZ_12    0.150\n",
      "D19_BUCH_CD          0.136\n",
      "D19_SONSTIGE         0.135\n",
      "D19_VOLLSORTIMENT    0.134\n",
      "Name: 3, dtype: float64\n",
      "\n",
      "\n",
      "Highest Negative weights:\n",
      "KBA13_AUTOQUOTE            -0.155\n",
      "D19_GESAMT_OFFLINE_DATUM   -0.150\n",
      "KBA13_ALTERHALTER_60       -0.135\n",
      "AKT_DAT_KL                 -0.134\n",
      "KBA13_ANTG1                -0.129\n",
      "Name: 3, dtype: float64\n"
     ]
    }
   ],
   "source": [
    "# Second overrepresentation of Customer\n",
    "# Highest positive and negative weights for 4 cluster \n",
    "weights_pca(4,5)"
   ]
  },
  {
   "cell_type": "code",
   "execution_count": 122,
   "metadata": {},
   "outputs": [
    {
     "name": "stdout",
     "output_type": "stream",
     "text": [
      "Principal Component:  10\n",
      "\n",
      "\n",
      "Highest Positive weights:\n",
      "KBA05_MAXSEG     0.272\n",
      "KBA05_KRSOBER    0.208\n",
      "KBA05_CCM3       0.186\n",
      "KBA05_HERST1     0.165\n",
      "KBA05_KW2        0.163\n",
      "Name: 9, dtype: float64\n",
      "\n",
      "\n",
      "Highest Negative weights:\n",
      "KBA05_CCM1        -0.235\n",
      "KBA05_MODTEMP     -0.210\n",
      "KBA05_HERST3      -0.162\n",
      "OST_WEST_KZ_W     -0.148\n",
      "KBA05_HERSTTEMP   -0.137\n",
      "Name: 9, dtype: float64\n"
     ]
    }
   ],
   "source": [
    "# First underrepresentation of Customer\n",
    "# Lowest positive and negative weights for 10 cluster \n",
    "weights_pca(10,5)"
   ]
  },
  {
   "cell_type": "code",
   "execution_count": 123,
   "metadata": {},
   "outputs": [
    {
     "name": "stdout",
     "output_type": "stream",
     "text": [
      "Principal Component:  8\n",
      "\n",
      "\n",
      "Highest Positive weights:\n",
      "SEMIO_FAM              0.276\n",
      "SEMIO_SOZ              0.257\n",
      "KBA13_KMH_140_210      0.178\n",
      "KBA13_CCM_1401_2500    0.161\n",
      "RT_SCHNAEPPCHEN        0.146\n",
      "Name: 7, dtype: float64\n",
      "\n",
      "\n",
      "Highest Negative weights:\n",
      "SEMIO_KRIT       -0.266\n",
      "SEMIO_ERL        -0.256\n",
      "SEMIO_DOM        -0.234\n",
      "KBA13_CCM_2501   -0.130\n",
      "SHOPPER_TYP      -0.128\n",
      "Name: 7, dtype: float64\n"
     ]
    }
   ],
   "source": [
    "# Second underrepresentation of Customer\n",
    "# Lowest positive and negative weights for 8 cluster\n",
    "weights_pca(8,5)"
   ]
  },
  {
   "cell_type": "code",
   "execution_count": 124,
   "metadata": {},
   "outputs": [
    {
     "name": "stdout",
     "output_type": "stream",
     "text": [
      "2     4.146974\n",
      "5     3.068295\n",
      "4     1.294663\n",
      "10    0.733070\n",
      "12    0.503545\n",
      "dtype: float64\n"
     ]
    }
   ],
   "source": [
    "# Analysis of principal components of cluster 2 with over-representation in customer segment.\n",
    "customer_segment = model_kmeans.cluster_centers_[2]\n",
    "customer_segment = pd.Series(customer_segment)\n",
    "customer_segment.index = customer_segment.index +1\n",
    "print(customer_segment.sort_values(ascending=False).head(5))"
   ]
  },
  {
   "cell_type": "code",
   "execution_count": 125,
   "metadata": {},
   "outputs": [
    {
     "name": "stdout",
     "output_type": "stream",
     "text": [
      "<class 'pandas.core.frame.DataFrame'>\n"
     ]
    }
   ],
   "source": [
    "print(type(reduced_azdias))"
   ]
  },
  {
   "cell_type": "markdown",
   "metadata": {},
   "source": [
    "## Part 2: Supervised Learning Model\n",
    "\n",
    "Now that you've found which parts of the population are more likely to be customers of the mail-order company, it's time to build a prediction model. Each of the rows in the \"MAILOUT\" data files represents an individual that was targeted for a mailout campaign. Ideally, we should be able to use the demographic information from each individual to decide whether or not it will be worth it to include that person in the campaign.\n",
    "\n",
    "The \"MAILOUT\" data has been split into two approximately equal parts, each with almost 43 000 data rows. In this part, you can verify your model with the \"TRAIN\" partition, which includes a column, \"RESPONSE\", that states whether or not a person became a customer of the company following the campaign. In the next part, you'll need to create predictions on the \"TEST\" partition, where the \"RESPONSE\" column has been withheld."
   ]
  },
  {
   "cell_type": "code",
   "execution_count": 126,
   "metadata": {},
   "outputs": [
    {
     "name": "stderr",
     "output_type": "stream",
     "text": [
      "/opt/conda/lib/python3.6/site-packages/IPython/core/interactiveshell.py:2785: DtypeWarning: Columns (18,19) have mixed types. Specify dtype option on import or set low_memory=False.\n",
      "  interactivity=interactivity, compiler=compiler, result=result)\n"
     ]
    }
   ],
   "source": [
    "mailout_train = pd.read_csv('../../data/Term2/capstone/arvato_data/Udacity_MAILOUT_052018_TRAIN.csv', sep=';')"
   ]
  },
  {
   "cell_type": "code",
   "execution_count": 127,
   "metadata": {},
   "outputs": [
    {
     "name": "stdout",
     "output_type": "stream",
     "text": [
      "The number of rows and columns in the mailout dataset are: 42962 and 367\n"
     ]
    }
   ],
   "source": [
    "print('The number of rows and columns in the mailout dataset are: {} and {}'.format(mailout_train.shape[0],mailout_train.shape[1]))"
   ]
  },
  {
   "cell_type": "code",
   "execution_count": 128,
   "metadata": {},
   "outputs": [],
   "source": [
    "X = mailout_train.drop('RESPONSE',axis=1)\n",
    "y = mailout_train['RESPONSE']"
   ]
  },
  {
   "cell_type": "code",
   "execution_count": 129,
   "metadata": {},
   "outputs": [
    {
     "name": "stdout",
     "output_type": "stream",
     "text": [
      "Shape of dataframe after correlation analysis (42962, 253)\n",
      "Shape of dataframe after One Hot Encoding (42962, 300)\n",
      "Shape of dataframe after impute (42962, 300)\n",
      "Shape of dataframe after scaling (42962, 300)\n"
     ]
    }
   ],
   "source": [
    "# Preprocess data\n",
    "df_mailout_train = data_preprocess(X, False)"
   ]
  },
  {
   "cell_type": "code",
   "execution_count": 130,
   "metadata": {},
   "outputs": [
    {
     "name": "stdout",
     "output_type": "stream",
     "text": [
      "The number of rows and columns in the df mailout train dataset are: 42962 and 299\n"
     ]
    }
   ],
   "source": [
    "print('The number of rows and columns in the df mailout train dataset are: {} and {}'.format(df_mailout_train.shape[0],df_mailout_train.shape[1]))"
   ]
  },
  {
   "cell_type": "code",
   "execution_count": 131,
   "metadata": {},
   "outputs": [
    {
     "name": "stdout",
     "output_type": "stream",
     "text": [
      "The y size is: (42962,)\n"
     ]
    }
   ],
   "source": [
    "print('The y size is: {}'.format(y.shape))"
   ]
  },
  {
   "cell_type": "code",
   "execution_count": 132,
   "metadata": {},
   "outputs": [
    {
     "data": {
      "text/html": [
       "<div>\n",
       "<style scoped>\n",
       "    .dataframe tbody tr th:only-of-type {\n",
       "        vertical-align: middle;\n",
       "    }\n",
       "\n",
       "    .dataframe tbody tr th {\n",
       "        vertical-align: top;\n",
       "    }\n",
       "\n",
       "    .dataframe thead th {\n",
       "        text-align: right;\n",
       "    }\n",
       "</style>\n",
       "<table border=\"1\" class=\"dataframe\">\n",
       "  <thead>\n",
       "    <tr style=\"text-align: right;\">\n",
       "      <th></th>\n",
       "      <th>AGER_TYP</th>\n",
       "      <th>AKT_DAT_KL</th>\n",
       "      <th>ALTER_HH</th>\n",
       "      <th>ALTERSKATEGORIE_FEIN</th>\n",
       "      <th>ANZ_HAUSHALTE_AKTIV</th>\n",
       "      <th>ANZ_HH_TITEL</th>\n",
       "      <th>ANZ_KINDER</th>\n",
       "      <th>ANZ_PERSONEN</th>\n",
       "      <th>ANZ_TITEL</th>\n",
       "      <th>ARBEIT</th>\n",
       "      <th>...</th>\n",
       "      <th>CAMEO_DEU_2015_8D</th>\n",
       "      <th>CAMEO_DEU_2015_9A</th>\n",
       "      <th>CAMEO_DEU_2015_9B</th>\n",
       "      <th>CAMEO_DEU_2015_9C</th>\n",
       "      <th>CAMEO_DEU_2015_9D</th>\n",
       "      <th>CAMEO_DEU_2015_9E</th>\n",
       "      <th>CAMEO_DEU_2015_XX</th>\n",
       "      <th>OST_WEST_KZ_-1</th>\n",
       "      <th>OST_WEST_KZ_O</th>\n",
       "      <th>OST_WEST_KZ_W</th>\n",
       "    </tr>\n",
       "    <tr>\n",
       "      <th>LNR</th>\n",
       "      <th></th>\n",
       "      <th></th>\n",
       "      <th></th>\n",
       "      <th></th>\n",
       "      <th></th>\n",
       "      <th></th>\n",
       "      <th></th>\n",
       "      <th></th>\n",
       "      <th></th>\n",
       "      <th></th>\n",
       "      <th></th>\n",
       "      <th></th>\n",
       "      <th></th>\n",
       "      <th></th>\n",
       "      <th></th>\n",
       "      <th></th>\n",
       "      <th></th>\n",
       "      <th></th>\n",
       "      <th></th>\n",
       "      <th></th>\n",
       "      <th></th>\n",
       "    </tr>\n",
       "  </thead>\n",
       "  <tbody>\n",
       "    <tr>\n",
       "      <th>-1.656309</th>\n",
       "      <td>1.031262</td>\n",
       "      <td>-0.545883</td>\n",
       "      <td>-0.371726</td>\n",
       "      <td>-0.428455</td>\n",
       "      <td>0.573402</td>\n",
       "      <td>-0.499090</td>\n",
       "      <td>-0.204857</td>\n",
       "      <td>-0.752038</td>\n",
       "      <td>-0.083831</td>\n",
       "      <td>-0.459891</td>\n",
       "      <td>...</td>\n",
       "      <td>-0.167172</td>\n",
       "      <td>-0.104604</td>\n",
       "      <td>-0.110149</td>\n",
       "      <td>-0.100902</td>\n",
       "      <td>-0.125771</td>\n",
       "      <td>-0.094216</td>\n",
       "      <td>-0.016003</td>\n",
       "      <td>-0.470140</td>\n",
       "      <td>-0.494196</td>\n",
       "      <td>0.778419</td>\n",
       "    </tr>\n",
       "    <tr>\n",
       "      <th>-1.655987</th>\n",
       "      <td>0.323502</td>\n",
       "      <td>0.396516</td>\n",
       "      <td>0.523127</td>\n",
       "      <td>0.837103</td>\n",
       "      <td>-0.445506</td>\n",
       "      <td>-0.499090</td>\n",
       "      <td>-0.204857</td>\n",
       "      <td>-0.402222</td>\n",
       "      <td>-0.083831</td>\n",
       "      <td>-0.860749</td>\n",
       "      <td>...</td>\n",
       "      <td>-0.167172</td>\n",
       "      <td>-0.104604</td>\n",
       "      <td>-0.110149</td>\n",
       "      <td>-0.100902</td>\n",
       "      <td>-0.125771</td>\n",
       "      <td>-0.094216</td>\n",
       "      <td>-0.016003</td>\n",
       "      <td>-0.470140</td>\n",
       "      <td>-0.494196</td>\n",
       "      <td>0.778419</td>\n",
       "    </tr>\n",
       "    <tr>\n",
       "      <th>-1.655785</th>\n",
       "      <td>0.323502</td>\n",
       "      <td>-0.545883</td>\n",
       "      <td>-0.192755</td>\n",
       "      <td>-0.681567</td>\n",
       "      <td>-0.518285</td>\n",
       "      <td>2.042255</td>\n",
       "      <td>-0.204857</td>\n",
       "      <td>-1.101855</td>\n",
       "      <td>-0.083831</td>\n",
       "      <td>-0.059034</td>\n",
       "      <td>...</td>\n",
       "      <td>-0.167172</td>\n",
       "      <td>-0.104604</td>\n",
       "      <td>-0.110149</td>\n",
       "      <td>-0.100902</td>\n",
       "      <td>-0.125771</td>\n",
       "      <td>-0.094216</td>\n",
       "      <td>-0.016003</td>\n",
       "      <td>-0.470140</td>\n",
       "      <td>2.023489</td>\n",
       "      <td>-1.284655</td>\n",
       "    </tr>\n",
       "    <tr>\n",
       "      <th>-1.668538</th>\n",
       "      <td>1.031262</td>\n",
       "      <td>-0.545883</td>\n",
       "      <td>-0.729667</td>\n",
       "      <td>-0.934679</td>\n",
       "      <td>-0.227168</td>\n",
       "      <td>-0.499090</td>\n",
       "      <td>-0.204857</td>\n",
       "      <td>-0.402222</td>\n",
       "      <td>-0.083831</td>\n",
       "      <td>-0.059034</td>\n",
       "      <td>...</td>\n",
       "      <td>-0.167172</td>\n",
       "      <td>-0.104604</td>\n",
       "      <td>-0.110149</td>\n",
       "      <td>-0.100902</td>\n",
       "      <td>-0.125771</td>\n",
       "      <td>-0.094216</td>\n",
       "      <td>-0.016003</td>\n",
       "      <td>-0.470140</td>\n",
       "      <td>-0.494196</td>\n",
       "      <td>0.778419</td>\n",
       "    </tr>\n",
       "    <tr>\n",
       "      <th>-1.655502</th>\n",
       "      <td>1.031262</td>\n",
       "      <td>-0.545883</td>\n",
       "      <td>-0.192755</td>\n",
       "      <td>-0.175344</td>\n",
       "      <td>3.339007</td>\n",
       "      <td>-0.499090</td>\n",
       "      <td>-0.204857</td>\n",
       "      <td>-0.752038</td>\n",
       "      <td>-0.083831</td>\n",
       "      <td>-0.459891</td>\n",
       "      <td>...</td>\n",
       "      <td>-0.167172</td>\n",
       "      <td>-0.104604</td>\n",
       "      <td>-0.110149</td>\n",
       "      <td>-0.100902</td>\n",
       "      <td>-0.125771</td>\n",
       "      <td>-0.094216</td>\n",
       "      <td>-0.016003</td>\n",
       "      <td>-0.470140</td>\n",
       "      <td>-0.494196</td>\n",
       "      <td>0.778419</td>\n",
       "    </tr>\n",
       "    <tr>\n",
       "      <th>-1.655260</th>\n",
       "      <td>1.739023</td>\n",
       "      <td>-0.545883</td>\n",
       "      <td>0.344156</td>\n",
       "      <td>0.583992</td>\n",
       "      <td>0.718960</td>\n",
       "      <td>-0.499090</td>\n",
       "      <td>-0.204857</td>\n",
       "      <td>-0.752038</td>\n",
       "      <td>-0.083831</td>\n",
       "      <td>-0.059034</td>\n",
       "      <td>...</td>\n",
       "      <td>-0.167172</td>\n",
       "      <td>-0.104604</td>\n",
       "      <td>-0.110149</td>\n",
       "      <td>-0.100902</td>\n",
       "      <td>-0.125771</td>\n",
       "      <td>-0.094216</td>\n",
       "      <td>-0.016003</td>\n",
       "      <td>-0.470140</td>\n",
       "      <td>-0.494196</td>\n",
       "      <td>0.778419</td>\n",
       "    </tr>\n",
       "    <tr>\n",
       "      <th>-1.655018</th>\n",
       "      <td>0.323502</td>\n",
       "      <td>-0.545883</td>\n",
       "      <td>-0.371726</td>\n",
       "      <td>-0.428455</td>\n",
       "      <td>-0.372726</td>\n",
       "      <td>-0.499090</td>\n",
       "      <td>-0.204857</td>\n",
       "      <td>-0.752038</td>\n",
       "      <td>-0.083831</td>\n",
       "      <td>-0.459891</td>\n",
       "      <td>...</td>\n",
       "      <td>-0.167172</td>\n",
       "      <td>-0.104604</td>\n",
       "      <td>-0.110149</td>\n",
       "      <td>-0.100902</td>\n",
       "      <td>-0.125771</td>\n",
       "      <td>-0.094216</td>\n",
       "      <td>-0.016003</td>\n",
       "      <td>-0.470140</td>\n",
       "      <td>-0.494196</td>\n",
       "      <td>0.778419</td>\n",
       "    </tr>\n",
       "    <tr>\n",
       "      <th>-1.667206</th>\n",
       "      <td>1.031262</td>\n",
       "      <td>-0.545883</td>\n",
       "      <td>0.523127</td>\n",
       "      <td>0.837103</td>\n",
       "      <td>-0.445506</td>\n",
       "      <td>-0.499090</td>\n",
       "      <td>-0.204857</td>\n",
       "      <td>-0.402222</td>\n",
       "      <td>-0.083831</td>\n",
       "      <td>-1.261606</td>\n",
       "      <td>...</td>\n",
       "      <td>-0.167172</td>\n",
       "      <td>-0.104604</td>\n",
       "      <td>-0.110149</td>\n",
       "      <td>-0.100902</td>\n",
       "      <td>-0.125771</td>\n",
       "      <td>-0.094216</td>\n",
       "      <td>-0.016003</td>\n",
       "      <td>-0.470140</td>\n",
       "      <td>-0.494196</td>\n",
       "      <td>0.778419</td>\n",
       "    </tr>\n",
       "    <tr>\n",
       "      <th>-1.654776</th>\n",
       "      <td>-1.092019</td>\n",
       "      <td>1.967183</td>\n",
       "      <td>-0.192755</td>\n",
       "      <td>-0.175344</td>\n",
       "      <td>0.136727</td>\n",
       "      <td>2.042255</td>\n",
       "      <td>-0.204857</td>\n",
       "      <td>2.046495</td>\n",
       "      <td>-0.083831</td>\n",
       "      <td>1.945252</td>\n",
       "      <td>...</td>\n",
       "      <td>-0.167172</td>\n",
       "      <td>-0.104604</td>\n",
       "      <td>-0.110149</td>\n",
       "      <td>-0.100902</td>\n",
       "      <td>-0.125771</td>\n",
       "      <td>-0.094216</td>\n",
       "      <td>-0.016003</td>\n",
       "      <td>2.127026</td>\n",
       "      <td>-0.494196</td>\n",
       "      <td>-1.284655</td>\n",
       "    </tr>\n",
       "    <tr>\n",
       "      <th>-1.653444</th>\n",
       "      <td>-1.092019</td>\n",
       "      <td>1.967183</td>\n",
       "      <td>-0.192755</td>\n",
       "      <td>-0.175344</td>\n",
       "      <td>0.136727</td>\n",
       "      <td>2.042255</td>\n",
       "      <td>-0.204857</td>\n",
       "      <td>2.046495</td>\n",
       "      <td>-0.083831</td>\n",
       "      <td>1.945252</td>\n",
       "      <td>...</td>\n",
       "      <td>-0.167172</td>\n",
       "      <td>-0.104604</td>\n",
       "      <td>-0.110149</td>\n",
       "      <td>-0.100902</td>\n",
       "      <td>-0.125771</td>\n",
       "      <td>-0.094216</td>\n",
       "      <td>-0.016003</td>\n",
       "      <td>2.127026</td>\n",
       "      <td>-0.494196</td>\n",
       "      <td>-1.284655</td>\n",
       "    </tr>\n",
       "    <tr>\n",
       "      <th>-1.653283</th>\n",
       "      <td>-1.092019</td>\n",
       "      <td>1.967183</td>\n",
       "      <td>-0.192755</td>\n",
       "      <td>-0.175344</td>\n",
       "      <td>0.136727</td>\n",
       "      <td>2.042255</td>\n",
       "      <td>-0.204857</td>\n",
       "      <td>2.046495</td>\n",
       "      <td>-0.083831</td>\n",
       "      <td>1.945252</td>\n",
       "      <td>...</td>\n",
       "      <td>-0.167172</td>\n",
       "      <td>-0.104604</td>\n",
       "      <td>-0.110149</td>\n",
       "      <td>-0.100902</td>\n",
       "      <td>-0.125771</td>\n",
       "      <td>-0.094216</td>\n",
       "      <td>-0.016003</td>\n",
       "      <td>2.127026</td>\n",
       "      <td>-0.494196</td>\n",
       "      <td>-1.284655</td>\n",
       "    </tr>\n",
       "    <tr>\n",
       "      <th>-1.626081</th>\n",
       "      <td>1.031262</td>\n",
       "      <td>-0.545883</td>\n",
       "      <td>-0.371726</td>\n",
       "      <td>-0.428455</td>\n",
       "      <td>-0.372726</td>\n",
       "      <td>-0.499090</td>\n",
       "      <td>-0.204857</td>\n",
       "      <td>-0.402222</td>\n",
       "      <td>-0.083831</td>\n",
       "      <td>-0.860749</td>\n",
       "      <td>...</td>\n",
       "      <td>-0.167172</td>\n",
       "      <td>-0.104604</td>\n",
       "      <td>-0.110149</td>\n",
       "      <td>-0.100902</td>\n",
       "      <td>-0.125771</td>\n",
       "      <td>-0.094216</td>\n",
       "      <td>-0.016003</td>\n",
       "      <td>-0.470140</td>\n",
       "      <td>2.023489</td>\n",
       "      <td>-1.284655</td>\n",
       "    </tr>\n",
       "  </tbody>\n",
       "</table>\n",
       "<p>12 rows × 299 columns</p>\n",
       "</div>"
      ],
      "text/plain": [
       "           AGER_TYP  AKT_DAT_KL  ALTER_HH  ALTERSKATEGORIE_FEIN  \\\n",
       "LNR                                                               \n",
       "-1.656309  1.031262   -0.545883 -0.371726             -0.428455   \n",
       "-1.655987  0.323502    0.396516  0.523127              0.837103   \n",
       "-1.655785  0.323502   -0.545883 -0.192755             -0.681567   \n",
       "-1.668538  1.031262   -0.545883 -0.729667             -0.934679   \n",
       "-1.655502  1.031262   -0.545883 -0.192755             -0.175344   \n",
       "-1.655260  1.739023   -0.545883  0.344156              0.583992   \n",
       "-1.655018  0.323502   -0.545883 -0.371726             -0.428455   \n",
       "-1.667206  1.031262   -0.545883  0.523127              0.837103   \n",
       "-1.654776 -1.092019    1.967183 -0.192755             -0.175344   \n",
       "-1.653444 -1.092019    1.967183 -0.192755             -0.175344   \n",
       "-1.653283 -1.092019    1.967183 -0.192755             -0.175344   \n",
       "-1.626081  1.031262   -0.545883 -0.371726             -0.428455   \n",
       "\n",
       "           ANZ_HAUSHALTE_AKTIV  ANZ_HH_TITEL  ANZ_KINDER  ANZ_PERSONEN  \\\n",
       "LNR                                                                      \n",
       "-1.656309             0.573402     -0.499090   -0.204857     -0.752038   \n",
       "-1.655987            -0.445506     -0.499090   -0.204857     -0.402222   \n",
       "-1.655785            -0.518285      2.042255   -0.204857     -1.101855   \n",
       "-1.668538            -0.227168     -0.499090   -0.204857     -0.402222   \n",
       "-1.655502             3.339007     -0.499090   -0.204857     -0.752038   \n",
       "-1.655260             0.718960     -0.499090   -0.204857     -0.752038   \n",
       "-1.655018            -0.372726     -0.499090   -0.204857     -0.752038   \n",
       "-1.667206            -0.445506     -0.499090   -0.204857     -0.402222   \n",
       "-1.654776             0.136727      2.042255   -0.204857      2.046495   \n",
       "-1.653444             0.136727      2.042255   -0.204857      2.046495   \n",
       "-1.653283             0.136727      2.042255   -0.204857      2.046495   \n",
       "-1.626081            -0.372726     -0.499090   -0.204857     -0.402222   \n",
       "\n",
       "           ANZ_TITEL    ARBEIT      ...        CAMEO_DEU_2015_8D  \\\n",
       "LNR                                 ...                            \n",
       "-1.656309  -0.083831 -0.459891      ...                -0.167172   \n",
       "-1.655987  -0.083831 -0.860749      ...                -0.167172   \n",
       "-1.655785  -0.083831 -0.059034      ...                -0.167172   \n",
       "-1.668538  -0.083831 -0.059034      ...                -0.167172   \n",
       "-1.655502  -0.083831 -0.459891      ...                -0.167172   \n",
       "-1.655260  -0.083831 -0.059034      ...                -0.167172   \n",
       "-1.655018  -0.083831 -0.459891      ...                -0.167172   \n",
       "-1.667206  -0.083831 -1.261606      ...                -0.167172   \n",
       "-1.654776  -0.083831  1.945252      ...                -0.167172   \n",
       "-1.653444  -0.083831  1.945252      ...                -0.167172   \n",
       "-1.653283  -0.083831  1.945252      ...                -0.167172   \n",
       "-1.626081  -0.083831 -0.860749      ...                -0.167172   \n",
       "\n",
       "           CAMEO_DEU_2015_9A  CAMEO_DEU_2015_9B  CAMEO_DEU_2015_9C  \\\n",
       "LNR                                                                  \n",
       "-1.656309          -0.104604          -0.110149          -0.100902   \n",
       "-1.655987          -0.104604          -0.110149          -0.100902   \n",
       "-1.655785          -0.104604          -0.110149          -0.100902   \n",
       "-1.668538          -0.104604          -0.110149          -0.100902   \n",
       "-1.655502          -0.104604          -0.110149          -0.100902   \n",
       "-1.655260          -0.104604          -0.110149          -0.100902   \n",
       "-1.655018          -0.104604          -0.110149          -0.100902   \n",
       "-1.667206          -0.104604          -0.110149          -0.100902   \n",
       "-1.654776          -0.104604          -0.110149          -0.100902   \n",
       "-1.653444          -0.104604          -0.110149          -0.100902   \n",
       "-1.653283          -0.104604          -0.110149          -0.100902   \n",
       "-1.626081          -0.104604          -0.110149          -0.100902   \n",
       "\n",
       "           CAMEO_DEU_2015_9D  CAMEO_DEU_2015_9E  CAMEO_DEU_2015_XX  \\\n",
       "LNR                                                                  \n",
       "-1.656309          -0.125771          -0.094216          -0.016003   \n",
       "-1.655987          -0.125771          -0.094216          -0.016003   \n",
       "-1.655785          -0.125771          -0.094216          -0.016003   \n",
       "-1.668538          -0.125771          -0.094216          -0.016003   \n",
       "-1.655502          -0.125771          -0.094216          -0.016003   \n",
       "-1.655260          -0.125771          -0.094216          -0.016003   \n",
       "-1.655018          -0.125771          -0.094216          -0.016003   \n",
       "-1.667206          -0.125771          -0.094216          -0.016003   \n",
       "-1.654776          -0.125771          -0.094216          -0.016003   \n",
       "-1.653444          -0.125771          -0.094216          -0.016003   \n",
       "-1.653283          -0.125771          -0.094216          -0.016003   \n",
       "-1.626081          -0.125771          -0.094216          -0.016003   \n",
       "\n",
       "           OST_WEST_KZ_-1  OST_WEST_KZ_O  OST_WEST_KZ_W  \n",
       "LNR                                                      \n",
       "-1.656309       -0.470140      -0.494196       0.778419  \n",
       "-1.655987       -0.470140      -0.494196       0.778419  \n",
       "-1.655785       -0.470140       2.023489      -1.284655  \n",
       "-1.668538       -0.470140      -0.494196       0.778419  \n",
       "-1.655502       -0.470140      -0.494196       0.778419  \n",
       "-1.655260       -0.470140      -0.494196       0.778419  \n",
       "-1.655018       -0.470140      -0.494196       0.778419  \n",
       "-1.667206       -0.470140      -0.494196       0.778419  \n",
       "-1.654776        2.127026      -0.494196      -1.284655  \n",
       "-1.653444        2.127026      -0.494196      -1.284655  \n",
       "-1.653283        2.127026      -0.494196      -1.284655  \n",
       "-1.626081       -0.470140       2.023489      -1.284655  \n",
       "\n",
       "[12 rows x 299 columns]"
      ]
     },
     "execution_count": 132,
     "metadata": {},
     "output_type": "execute_result"
    }
   ],
   "source": [
    "df_mailout_train.head(12)"
   ]
  },
  {
   "cell_type": "code",
   "execution_count": 133,
   "metadata": {},
   "outputs": [],
   "source": [
    "### Train/Test Split into random train and test subsets\n",
    "X_train, X_test, y_train, y_test = train_test_split(df_mailout_train, y, stratify=y, test_size=0.2, random_state=42)"
   ]
  },
  {
   "cell_type": "code",
   "execution_count": 134,
   "metadata": {},
   "outputs": [
    {
     "name": "stdout",
     "output_type": "stream",
     "text": [
      "(34369, 299) (34369,) (8593, 299) (8593,)\n"
     ]
    }
   ],
   "source": [
    "print(X_train.shape, y_train.shape, X_test.shape, y_test.shape)"
   ]
  },
  {
   "cell_type": "code",
   "execution_count": 135,
   "metadata": {},
   "outputs": [],
   "source": [
    "imp = Imputer(strategy = 'mean')"
   ]
  },
  {
   "cell_type": "code",
   "execution_count": 136,
   "metadata": {},
   "outputs": [],
   "source": [
    "sc = StandardScaler()"
   ]
  },
  {
   "cell_type": "code",
   "execution_count": 137,
   "metadata": {},
   "outputs": [],
   "source": [
    "rs = 42\n",
    "pca = PCA(random_state = rs)"
   ]
  },
  {
   "cell_type": "code",
   "execution_count": 138,
   "metadata": {},
   "outputs": [],
   "source": [
    "## define function to transform the predictors\n",
    "def transform_X(X):\n",
    "    \"\"\"\n",
    "    INPUT: Training set of predictors in the original scale without imputations\n",
    "    OUTPUT: Training set transformed to the PCA scale according to last section's parameters\n",
    "    \"\"\"\n",
    "    \n",
    "    ## Impute\n",
    "    X_imp = imp.fit_transform(X)\n",
    "\n",
    "    ## standardize\n",
    "    X_sc = sc.fit_transform(X_imp)\n",
    "\n",
    "    ## PCA Reduction\n",
    "    X_pca = pca.fit_transform(X_sc)\n",
    "    \n",
    "    return X_pca"
   ]
  },
  {
   "cell_type": "code",
   "execution_count": 139,
   "metadata": {},
   "outputs": [
    {
     "data": {
      "text/plain": [
       "(34369, 299)"
      ]
     },
     "execution_count": 139,
     "metadata": {},
     "output_type": "execute_result"
    }
   ],
   "source": [
    "# Scaling Split Training Set\n",
    "## training set\n",
    "Xtrain_pca = transform_X(X_train)\n",
    "Xtrain_pca.shape"
   ]
  },
  {
   "cell_type": "code",
   "execution_count": 140,
   "metadata": {},
   "outputs": [
    {
     "data": {
      "text/plain": [
       "(8593, 299)"
      ]
     },
     "execution_count": 140,
     "metadata": {},
     "output_type": "execute_result"
    }
   ],
   "source": [
    "# Scaling Split Test Set\n",
    "## testing set\n",
    "Xtest_pca = transform_X(X_test)\n",
    "Xtest_pca.shape"
   ]
  },
  {
   "cell_type": "markdown",
   "metadata": {},
   "source": [
    "### Model evaluation"
   ]
  },
  {
   "cell_type": "markdown",
   "metadata": {},
   "source": [
    "According to the problem presented, it is possible to use different evaluation metrics such as accuracy, precision, recall and F-score; however, it is important to note that the problem presents a high degree of imbalance with one class much larger than the other, which in general negatively affects the performance of Machine Learning algorithms, being the previous metrics not a good way to measure the performance of the algorithm. \n",
    "\n",
    "The decision is made to use the ROC (Receiver Operating Characteristic) and AUC (Area Under The Curve) metrics as evaluation metrics for this case. "
   ]
  },
  {
   "cell_type": "code",
   "execution_count": 141,
   "metadata": {},
   "outputs": [],
   "source": [
    "def train_predict(learner, X_train, y_train, X_test, y_test): \n",
    "    \"\"\"Function to compute Area Under the Receiver Operating Characteristic Curve (ROC AUC) from prediction scores.\n",
    "\n",
    "    Parameters:\n",
    "    learner: the learning algorithm to be trained and predicted on\n",
    "    sample_size: the size of samples (number) to be drawn from training set\n",
    "    X_train: features training set\n",
    "    y_train: income training set\n",
    "    X_test: features testing set\n",
    "    y_test: income testing set\n",
    "    \n",
    "    Returns:\n",
    "    roc: A float with the performance measurement of the classification problem\n",
    "\n",
    "   \"\"\"\n",
    "    results = {}\n",
    "    \n",
    "    # Fit the learner to the training data using slicing with 'sample_size' using .fit(training_features[:], training_labels[:])\n",
    "    start = time() # Get start time\n",
    "    learner = learner.fit(X_train, y_train)\n",
    "    end = time() # Get end time\n",
    "        \n",
    "    # Get the predictions on the test set(X_test),\n",
    "    # then get predictions on the first 300 training samples(X_train) using .predict()\n",
    "    start = time() # Get start time\n",
    "    predictions_test = learner.predict(X_test)\n",
    "    predictions_train = learner.predict(X_train)\n",
    "    end = time() # Get end time\n",
    "\n",
    "    roc = roc_auc_score(y_test, predictions_test)\n",
    "        \n",
    "    # Return the results\n",
    "    return roc"
   ]
  },
  {
   "cell_type": "code",
   "execution_count": 142,
   "metadata": {},
   "outputs": [
    {
     "data": {
      "text/plain": [
       "3"
      ]
     },
     "execution_count": 142,
     "metadata": {},
     "output_type": "execute_result"
    }
   ],
   "source": [
    "# Initialize 5 stratified folds\n",
    "skf = StratifiedKFold(n_splits=3, random_state=42)\n",
    "skf.get_n_splits(X, y)"
   ]
  },
  {
   "cell_type": "code",
   "execution_count": 143,
   "metadata": {},
   "outputs": [],
   "source": [
    "def prediction_tests(mod, train_x = Xtrain_pca, test_x = Xtest_pca, train_y = y_train, test_y = y_test):\n",
    "    \"\"\"Function to predict \n",
    "\n",
    "    Parameters:\n",
    "    mod: Model of Machine Learning\n",
    "    train_X: Pandas Dataframe features training set\n",
    "    test_x: Pandas Dataframe features testing set\n",
    "    train_y: Series income training set\n",
    "    test_y: Series income testing set\n",
    "\n",
    "    Returns:\n",
    "    reduced_data: Returning a report summarizing the main evolution metrics applied to the model\n",
    "\n",
    "   \"\"\"\n",
    "    ## fit model\n",
    "    start = time()\n",
    "    mod.fit(train_x, train_y)\n",
    "    end = time()\n",
    "    \n",
    "    ## predict by training\n",
    "    pred_train = mod.predict(train_x)\n",
    "\n",
    "    ## predict by testing set\n",
    "    pred_test = mod.predict(test_x)\n",
    "\n",
    "    \n",
    "    ## timing\n",
    "    timing = end - start\n",
    "    print('Timing: {} s'.format(timing))\n",
    "    \n",
    "    accuracy_train = accuracy_score(train_y, pred_train)\n",
    "    roc_train = roc_auc_score(train_y, pred_train)\n",
    "    report_train = classification_report(train_y, pred_train)\n",
    "\n",
    "    \n",
    "    print('Training Accuracy: {}, Training ROC: {}'.format(accuracy_train, roc_train))\n",
    "    print(report_train)\n",
    "\n",
    "    accuracy_test = accuracy_score(test_y, pred_test)\n",
    "    roc_test = roc_auc_score(test_y, pred_test)\n",
    "    report_test = classification_report(test_y, pred_test)\n",
    "    print('Testing Accuracy: {}, Testing ROC: {}'.format(accuracy_test, roc_test))\n",
    "    print(report_test)\n",
    "    \n",
    "    ## ROC Curves\n",
    "    \n",
    "    ## training\n",
    "    probs_tr = mod.predict_proba(train_x)[:, 1]\n",
    "\n",
    "    fpr_tr, tpr_tr, threshold_tr = roc_curve(train_y, probs_tr)\n",
    "    auc_tr = auc(fpr_tr, tpr_tr)\n",
    "    \n",
    "    ## testing\n",
    "    probs_t = mod.predict_proba(test_x)[:, 1]\n",
    "\n",
    "    fpr_t, tpr_t, threshold_t = roc_curve(test_y, probs_t)\n",
    "    auc_t = auc(fpr_t, tpr_t)\n",
    "    \n",
    "    plt.figure(figsize = (18, 7))\n",
    "    plt.subplot(1, 2, 1)\n",
    "    plt.plot(fpr_tr, tpr_tr, 'b', label = 'AUC Training: %0.2f' % auc_tr)\n",
    "    plt.plot([0, 1], [0, 1],'r--')\n",
    "    plt.legend()\n",
    "    plt.title('Training Data ROC Curve')\n",
    "        \n",
    "    plt.subplot(1, 2, 2)\n",
    "    plt.plot(fpr_t, tpr_t, 'b', label = 'AUC Testing: %0.2f' % auc_t)\n",
    "    plt.plot([0, 1], [0, 1],'r--')\n",
    "    plt.legend()\n",
    "    plt.title('Testing Data ROC Curve')"
   ]
  },
  {
   "cell_type": "markdown",
   "metadata": {},
   "source": [
    "The following algorithms were selected:\n",
    "- LogisticRegression\n",
    "- AdaBoostClassifier\n",
    "- GradientBoostingClassifier\n",
    "- RandomForestClassifier"
   ]
  },
  {
   "cell_type": "code",
   "execution_count": 144,
   "metadata": {},
   "outputs": [
    {
     "name": "stdout",
     "output_type": "stream",
     "text": [
      "Timing: 11.194934844970703 s\n",
      "Training Accuracy: 0.9876051092554337, Training ROC: 0.5\n",
      "             precision    recall  f1-score   support\n",
      "\n",
      "          0       0.99      1.00      0.99     33943\n",
      "          1       0.00      0.00      0.00       426\n",
      "\n",
      "avg / total       0.98      0.99      0.98     34369\n",
      "\n",
      "Testing Accuracy: 0.9873152566042127, Testing ROC: 0.49982325910215625\n",
      "             precision    recall  f1-score   support\n",
      "\n",
      "          0       0.99      1.00      0.99      8487\n",
      "          1       0.00      0.00      0.00       106\n",
      "\n",
      "avg / total       0.98      0.99      0.98      8593\n",
      "\n"
     ]
    },
    {
     "name": "stderr",
     "output_type": "stream",
     "text": [
      "/opt/conda/lib/python3.6/site-packages/sklearn/metrics/classification.py:1135: UndefinedMetricWarning: Precision and F-score are ill-defined and being set to 0.0 in labels with no predicted samples.\n",
      "  'precision', 'predicted', average, warn_for)\n"
     ]
    },
    {
     "data": {
      "image/png": "[encoded data removed]",
      "text/plain": [
       "<matplotlib.figure.Figure at 0x7f8aba1f3278>"
      ]
     },
     "metadata": {
      "needs_background": "light"
     },
     "output_type": "display_data"
    }
   ],
   "source": [
    "prediction_tests(LogisticRegression(random_state = rs))"
   ]
  },
  {
   "cell_type": "code",
   "execution_count": 145,
   "metadata": {},
   "outputs": [
    {
     "name": "stdout",
     "output_type": "stream",
     "text": [
      "Timing: 70.17277431488037 s\n",
      "Training Accuracy: 0.987634205243097, Training ROC: 0.5011737089201878\n",
      "             precision    recall  f1-score   support\n",
      "\n",
      "          0       0.99      1.00      0.99     33943\n",
      "          1       1.00      0.00      0.00       426\n",
      "\n",
      "avg / total       0.99      0.99      0.98     34369\n",
      "\n",
      "Testing Accuracy: 0.9874316303968347, Testing ROC: 0.4998821727347708\n",
      "             precision    recall  f1-score   support\n",
      "\n",
      "          0       0.99      1.00      0.99      8487\n",
      "          1       0.00      0.00      0.00       106\n",
      "\n",
      "avg / total       0.98      0.99      0.98      8593\n",
      "\n"
     ]
    },
    {
     "data": {
      "image/png": "[encoded data removed]",
      "text/plain": [
       "<matplotlib.figure.Figure at 0x7f8ab96d8588>"
      ]
     },
     "metadata": {
      "needs_background": "light"
     },
     "output_type": "display_data"
    }
   ],
   "source": [
    "prediction_tests(AdaBoostClassifier(random_state = rs))"
   ]
  },
  {
   "cell_type": "code",
   "execution_count": 146,
   "metadata": {},
   "outputs": [
    {
     "name": "stdout",
     "output_type": "stream",
     "text": [
      "Timing: 108.29686117172241 s\n",
      "Training Accuracy: 0.9927841950595013, Training ROC: 0.7100791661358817\n",
      "             precision    recall  f1-score   support\n",
      "\n",
      "          0       0.99      1.00      1.00     33943\n",
      "          1       0.99      0.42      0.59       426\n",
      "\n",
      "avg / total       0.99      0.99      0.99     34369\n",
      "\n",
      "Testing Accuracy: 0.9821948097288491, Testing ROC: 0.4972310592671144\n",
      "             precision    recall  f1-score   support\n",
      "\n",
      "          0       0.99      0.99      0.99      8487\n",
      "          1       0.00      0.00      0.00       106\n",
      "\n",
      "avg / total       0.98      0.98      0.98      8593\n",
      "\n"
     ]
    },
    {
     "data": {
      "image/png": "[encoded data removed]",
      "text/plain": [
       "<matplotlib.figure.Figure at 0x7f8aba3fff28>"
      ]
     },
     "metadata": {
      "needs_background": "light"
     },
     "output_type": "display_data"
    }
   ],
   "source": [
    "prediction_tests(GradientBoostingClassifier(random_state=rs))"
   ]
  },
  {
   "cell_type": "code",
   "execution_count": 147,
   "metadata": {},
   "outputs": [
    {
     "name": "stdout",
     "output_type": "stream",
     "text": [
      "Timing: 16.572309970855713 s\n",
      "Training Accuracy: 0.9955483138875149, Training ROC: 0.8204225352112676\n",
      "             precision    recall  f1-score   support\n",
      "\n",
      "          0       1.00      1.00      1.00     33943\n",
      "          1       1.00      0.64      0.78       426\n",
      "\n",
      "avg / total       1.00      1.00      1.00     34369\n",
      "\n",
      "Testing Accuracy: 0.9876643779820784, Testing ROC: 0.5\n",
      "             precision    recall  f1-score   support\n",
      "\n",
      "          0       0.99      1.00      0.99      8487\n",
      "          1       0.00      0.00      0.00       106\n",
      "\n",
      "avg / total       0.98      0.99      0.98      8593\n",
      "\n"
     ]
    },
    {
     "name": "stderr",
     "output_type": "stream",
     "text": [
      "/opt/conda/lib/python3.6/site-packages/sklearn/metrics/classification.py:1135: UndefinedMetricWarning: Precision and F-score are ill-defined and being set to 0.0 in labels with no predicted samples.\n",
      "  'precision', 'predicted', average, warn_for)\n"
     ]
    },
    {
     "data": {
      "image/png": "[encoded data removed]",
      "text/plain": [
       "<matplotlib.figure.Figure at 0x7f8ab9db77f0>"
      ]
     },
     "metadata": {
      "needs_background": "light"
     },
     "output_type": "display_data"
    }
   ],
   "source": [
    "prediction_tests(RandomForestClassifier(random_state=rs))"
   ]
  },
  {
   "cell_type": "code",
   "execution_count": 148,
   "metadata": {},
   "outputs": [
    {
     "name": "stdout",
     "output_type": "stream",
     "text": [
      "{'algorithm_name': 'LogisticRegression', 'fold': 1, 'roc': 0.49996464932126694}\n",
      "{'algorithm_name': 'LogisticRegression', 'fold': 2, 'roc': 0.5}\n",
      "{'algorithm_name': 'LogisticRegression', 'fold': 3, 'roc': 0.5}\n",
      "{'algorithm_name': 'AdaBoostClassifier', 'fold': 1, 'roc': 0.5}\n",
      "{'algorithm_name': 'AdaBoostClassifier', 'fold': 2, 'roc': 0.5}\n",
      "{'algorithm_name': 'AdaBoostClassifier', 'fold': 3, 'roc': 0.5}\n",
      "{'algorithm_name': 'GradientBoostingClassifier', 'fold': 1, 'roc': 0.49992929864253394}\n",
      "{'algorithm_name': 'GradientBoostingClassifier', 'fold': 2, 'roc': 0.50243597379630422}\n",
      "{'algorithm_name': 'GradientBoostingClassifier', 'fold': 3, 'roc': 0.49985858728699711}\n",
      "{'algorithm_name': 'RandomForestClassifier', 'fold': 1, 'roc': 0.5}\n",
      "{'algorithm_name': 'RandomForestClassifier', 'fold': 2, 'roc': 0.49996464682174929}\n",
      "{'algorithm_name': 'RandomForestClassifier', 'fold': 3, 'roc': 0.5}\n",
      "result_list:  [{'algorithm_name': 'LogisticRegression', 'fold': 1, 'roc': 0.49996464932126694}, {'algorithm_name': 'LogisticRegression', 'fold': 2, 'roc': 0.5}, {'algorithm_name': 'LogisticRegression', 'fold': 3, 'roc': 0.5}, {'algorithm_name': 'AdaBoostClassifier', 'fold': 1, 'roc': 0.5}, {'algorithm_name': 'AdaBoostClassifier', 'fold': 2, 'roc': 0.5}, {'algorithm_name': 'AdaBoostClassifier', 'fold': 3, 'roc': 0.5}, {'algorithm_name': 'GradientBoostingClassifier', 'fold': 1, 'roc': 0.49992929864253394}, {'algorithm_name': 'GradientBoostingClassifier', 'fold': 2, 'roc': 0.50243597379630422}, {'algorithm_name': 'GradientBoostingClassifier', 'fold': 3, 'roc': 0.49985858728699711}, {'algorithm_name': 'RandomForestClassifier', 'fold': 1, 'roc': 0.5}, {'algorithm_name': 'RandomForestClassifier', 'fold': 2, 'roc': 0.49996464682174929}, {'algorithm_name': 'RandomForestClassifier', 'fold': 3, 'roc': 0.5}]\n"
     ]
    }
   ],
   "source": [
    "alg_lgr = LogisticRegression(random_state = rs)\n",
    "alg_abc = AdaBoostClassifier(random_state=rs)\n",
    "alg_gbc = GradientBoostingClassifier(random_state=rs)\n",
    "alg_rfc = RandomForestClassifier(random_state=rs)\n",
    "\n",
    "result_list = []\n",
    "for alg in [alg_lgr, alg_abc, alg_gbc, alg_rfc]:\n",
    "    alg_name = alg.__class__.__name__\n",
    "    \n",
    "    j=0\n",
    "    for train_index, val_index in skf.split(df_mailout_train, y):\n",
    "    \n",
    "        j+=1\n",
    "        result = {}  \n",
    "        result['algorithm_name'] = alg_name\n",
    "        result['fold']  =  j\n",
    "        # Split the data into training and test sets\n",
    "        X_train, X_val = df_mailout_train.iloc[train_index], df_mailout_train.iloc[val_index]\n",
    "        y_train, y_val = y.iloc[train_index], y.iloc[val_index]\n",
    "        \n",
    "        result['roc'] = train_predict(alg, X_train, y_train, X_val, y_val)\n",
    "        result_list.append(result)\n",
    "        print (result)  \n",
    "\n",
    "print('result_list: ', result_list)"
   ]
  },
  {
   "cell_type": "code",
   "execution_count": 149,
   "metadata": {},
   "outputs": [],
   "source": [
    "df_scores = pd.DataFrame(result_list)"
   ]
  },
  {
   "cell_type": "code",
   "execution_count": 150,
   "metadata": {},
   "outputs": [
    {
     "data": {
      "text/html": [
       "<div>\n",
       "<style scoped>\n",
       "    .dataframe tbody tr th:only-of-type {\n",
       "        vertical-align: middle;\n",
       "    }\n",
       "\n",
       "    .dataframe tbody tr th {\n",
       "        vertical-align: top;\n",
       "    }\n",
       "\n",
       "    .dataframe thead th {\n",
       "        text-align: right;\n",
       "    }\n",
       "</style>\n",
       "<table border=\"1\" class=\"dataframe\">\n",
       "  <thead>\n",
       "    <tr style=\"text-align: right;\">\n",
       "      <th></th>\n",
       "      <th>algorithm_name</th>\n",
       "      <th>fold</th>\n",
       "      <th>roc</th>\n",
       "    </tr>\n",
       "  </thead>\n",
       "  <tbody>\n",
       "    <tr>\n",
       "      <th>0</th>\n",
       "      <td>LogisticRegression</td>\n",
       "      <td>1</td>\n",
       "      <td>0.499965</td>\n",
       "    </tr>\n",
       "    <tr>\n",
       "      <th>1</th>\n",
       "      <td>LogisticRegression</td>\n",
       "      <td>2</td>\n",
       "      <td>0.500000</td>\n",
       "    </tr>\n",
       "    <tr>\n",
       "      <th>2</th>\n",
       "      <td>LogisticRegression</td>\n",
       "      <td>3</td>\n",
       "      <td>0.500000</td>\n",
       "    </tr>\n",
       "    <tr>\n",
       "      <th>3</th>\n",
       "      <td>AdaBoostClassifier</td>\n",
       "      <td>1</td>\n",
       "      <td>0.500000</td>\n",
       "    </tr>\n",
       "    <tr>\n",
       "      <th>4</th>\n",
       "      <td>AdaBoostClassifier</td>\n",
       "      <td>2</td>\n",
       "      <td>0.500000</td>\n",
       "    </tr>\n",
       "    <tr>\n",
       "      <th>5</th>\n",
       "      <td>AdaBoostClassifier</td>\n",
       "      <td>3</td>\n",
       "      <td>0.500000</td>\n",
       "    </tr>\n",
       "    <tr>\n",
       "      <th>6</th>\n",
       "      <td>GradientBoostingClassifier</td>\n",
       "      <td>1</td>\n",
       "      <td>0.499929</td>\n",
       "    </tr>\n",
       "    <tr>\n",
       "      <th>7</th>\n",
       "      <td>GradientBoostingClassifier</td>\n",
       "      <td>2</td>\n",
       "      <td>0.502436</td>\n",
       "    </tr>\n",
       "    <tr>\n",
       "      <th>8</th>\n",
       "      <td>GradientBoostingClassifier</td>\n",
       "      <td>3</td>\n",
       "      <td>0.499859</td>\n",
       "    </tr>\n",
       "    <tr>\n",
       "      <th>9</th>\n",
       "      <td>RandomForestClassifier</td>\n",
       "      <td>1</td>\n",
       "      <td>0.500000</td>\n",
       "    </tr>\n",
       "    <tr>\n",
       "      <th>10</th>\n",
       "      <td>RandomForestClassifier</td>\n",
       "      <td>2</td>\n",
       "      <td>0.499965</td>\n",
       "    </tr>\n",
       "    <tr>\n",
       "      <th>11</th>\n",
       "      <td>RandomForestClassifier</td>\n",
       "      <td>3</td>\n",
       "      <td>0.500000</td>\n",
       "    </tr>\n",
       "  </tbody>\n",
       "</table>\n",
       "</div>"
      ],
      "text/plain": [
       "                algorithm_name  fold       roc\n",
       "0           LogisticRegression     1  0.499965\n",
       "1           LogisticRegression     2  0.500000\n",
       "2           LogisticRegression     3  0.500000\n",
       "3           AdaBoostClassifier     1  0.500000\n",
       "4           AdaBoostClassifier     2  0.500000\n",
       "5           AdaBoostClassifier     3  0.500000\n",
       "6   GradientBoostingClassifier     1  0.499929\n",
       "7   GradientBoostingClassifier     2  0.502436\n",
       "8   GradientBoostingClassifier     3  0.499859\n",
       "9       RandomForestClassifier     1  0.500000\n",
       "10      RandomForestClassifier     2  0.499965\n",
       "11      RandomForestClassifier     3  0.500000"
      ]
     },
     "execution_count": 150,
     "metadata": {},
     "output_type": "execute_result"
    }
   ],
   "source": [
    "df_scores"
   ]
  },
  {
   "cell_type": "code",
   "execution_count": 151,
   "metadata": {},
   "outputs": [
    {
     "data": {
      "text/plain": [
       "algorithm_name\n",
       "RandomForestClassifier        0.499988\n",
       "LogisticRegression            0.499988\n",
       "AdaBoostClassifier            0.500000\n",
       "GradientBoostingClassifier    0.500741\n",
       "Name: roc, dtype: float64"
      ]
     },
     "execution_count": 151,
     "metadata": {},
     "output_type": "execute_result"
    }
   ],
   "source": [
    "df_scores.groupby('algorithm_name')['roc'].mean().sort_values()"
   ]
  },
  {
   "cell_type": "markdown",
   "metadata": {},
   "source": [
    "- Based on the classification reports above, all of the four algorithms display a precision or recall scores of 0 for RESPONSE = 1 in contrast to scores near 1 for RESPONSE = 0 in the testing data.\n",
    "\n",
    "\n",
    "- The AdaBoost Classifier and Gradient Boosting Classifier on the other hand show better performance. They demonstrate a decrease of model bias with increasing sample size.\n",
    "\n",
    "\n",
    "- Since the data is extremely unbalanced, it is hard for any algorithm to distinguish between a positive or negative response from a customer.\n",
    "\n",
    "\n",
    "- The testing data ROC scores of 0.5 suggest that they can perfectly predict RESPONSE = 0 but not RESPONSE = 1. In this way, a good way to approach to make this data somewhat balanced is using an over-sampling technique such as SMOTE. "
   ]
  },
  {
   "cell_type": "markdown",
   "metadata": {},
   "source": [
    "### Gradient Boosting Classifier tunning"
   ]
  },
  {
   "cell_type": "code",
   "execution_count": 152,
   "metadata": {},
   "outputs": [],
   "source": [
    "grid = dict()\n",
    "grid['n_estimators'] = [50, 100]\n",
    "grid['learning_rate'] = [0.2, 0.5]"
   ]
  },
  {
   "cell_type": "code",
   "execution_count": 169,
   "metadata": {},
   "outputs": [],
   "source": [
    "# Define the evaluation procedure\n",
    "#cv = RepeatedStratifiedKFold(n_splits=2, shuffle=True, random_state=1)\n",
    "\n",
    "# Define the grid search procedure\n",
    "grid_search = GridSearchCV(estimator=alg_abc, param_grid=grid, n_jobs=-1, scoring='roc_auc')\n",
    "\n",
    "# Execute the grid search\n",
    "grid_result = grid_search.fit(X_train, y_train)"
   ]
  },
  {
   "cell_type": "code",
   "execution_count": 170,
   "metadata": {},
   "outputs": [
    {
     "name": "stdout",
     "output_type": "stream",
     "text": [
      "Best: 0.767088 using {'learning_rate': 0.2, 'n_estimators': 50}\n",
      "0.767088 (0.001038) with: {'learning_rate': 0.2, 'n_estimators': 50}\n",
      "0.761362 (0.009618) with: {'learning_rate': 0.2, 'n_estimators': 100}\n",
      "0.763288 (0.009510) with: {'learning_rate': 0.5, 'n_estimators': 50}\n",
      "0.754448 (0.009978) with: {'learning_rate': 0.5, 'n_estimators': 100}\n"
     ]
    }
   ],
   "source": [
    "# summarize the best score and configuration\n",
    "print(\"Best: %f using %s\" % (grid_result.best_score_, grid_result.best_params_))\n",
    "# summarize all scores that were evaluated\n",
    "means = grid_result.cv_results_['mean_test_score']\n",
    "stds = grid_result.cv_results_['std_test_score']\n",
    "params = grid_result.cv_results_['params']\n",
    "for mean, stdev, param in zip(means, stds, params):\n",
    "    print(\"%f (%f) with: %r\" % (mean, stdev, param))"
   ]
  },
  {
   "cell_type": "code",
   "execution_count": 171,
   "metadata": {},
   "outputs": [],
   "source": [
    "# Get the estimator and predict\n",
    "best_clf = grid_result.best_estimator_\n",
    "#predictions = (best_clf.fit(X_train, y_train)).predict(X_test)\n",
    "\n",
    "best_predictions = best_clf.predict(X_test)"
   ]
  },
  {
   "cell_type": "code",
   "execution_count": 172,
   "metadata": {},
   "outputs": [
    {
     "name": "stdout",
     "output_type": "stream",
     "text": [
      "Final ROC score: 0.5000\n"
     ]
    }
   ],
   "source": [
    "print(\"Final ROC score: {:.4f}\".format(roc_auc_score(y_test, best_predictions)))"
   ]
  },
  {
   "cell_type": "markdown",
   "metadata": {},
   "source": [
    "### Model interpretation"
   ]
  },
  {
   "cell_type": "markdown",
   "metadata": {},
   "source": [
    "Among the features that the classifier uses to predict customer response, D19_SOZIALES is by far the most important one. Unfortunately, the attribute is not described by the accompanying data guide."
   ]
  },
  {
   "cell_type": "code",
   "execution_count": 220,
   "metadata": {},
   "outputs": [],
   "source": [
    "feat_importance = best_clf.feature_importances_"
   ]
  },
  {
   "cell_type": "code",
   "execution_count": 222,
   "metadata": {},
   "outputs": [
    {
     "name": "stdout",
     "output_type": "stream",
     "text": [
      "['D19_SOZIALES' 'EINGEZOGENAM_HH_JAHR' 'KBA05_CCM1' 'KBA13_CCM_2500'\n",
      " 'KBA05_HERST3']\n",
      "[ 0.52  0.06  0.04  0.04  0.04]\n"
     ]
    },
    {
     "data": {
      "image/png": "[encoded data removed]",
      "text/plain": [
       "<matplotlib.figure.Figure at 0x7f8abc4285f8>"
      ]
     },
     "metadata": {
      "needs_background": "light"
     },
     "output_type": "display_data"
    }
   ],
   "source": [
    "num_feat = 5\n",
    "\n",
    "indices = np.argsort(feat_importance)[::-1]\n",
    "columns = X_train.columns.values[indices[:num_feat]]\n",
    "values = feat_importance[indices][:num_feat]\n",
    "\n",
    "#print((indices))\n",
    "print(columns)\n",
    "print(values)\n",
    "\n",
    "plt.title('Feature Importances')\n",
    "plt.barh(np.arange(num_feat), values, color='dodgerblue', align='center', label = \"Feature Weight\")\n",
    "#plt.barh(np.arange(num_feat), np.cumsum(values), color='b', align='center',label = \"Cumsum Weight\")\n",
    "\n",
    "\n",
    "plt.yticks(np.arange(num_feat), columns)\n",
    "plt.xlabel('Relative Importance')\n",
    "plt.show()"
   ]
  },
  {
   "cell_type": "code",
   "execution_count": 218,
   "metadata": {},
   "outputs": [
    {
     "data": {
      "image/png": "[encoded data removed]",
      "text/plain": [
       "<matplotlib.figure.Figure at 0x7f8abb70a6d8>"
      ]
     },
     "metadata": {
      "needs_background": "light"
     },
     "output_type": "display_data"
    }
   ],
   "source": [
    "feature_importances = best_clf.feature_importances_\n",
    "pd.Series(feature_importances).sort_values()[-10:].plot(kind='barh', figsize=(8,10))\n",
    "plt.xlabel('Feature importance');"
   ]
  },
  {
   "cell_type": "markdown",
   "metadata": {},
   "source": [
    "Looking at the distribution of the D19_SOZIALES attribute in our focus clusters, we see a clear characteristic in these groups:"
   ]
  },
  {
   "cell_type": "code",
   "execution_count": 176,
   "metadata": {},
   "outputs": [
    {
     "data": {
      "image/png": "[encoded data removed]",
      "text/plain": [
       "<matplotlib.figure.Figure at 0x7f8abae73780>"
      ]
     },
     "metadata": {
      "needs_background": "light"
     },
     "output_type": "display_data"
    }
   ],
   "source": [
    "# Plot D19_SOZIALES distribution in relevant clusters\n",
    "x1=customers.iloc[customers_clustered[customers_clustered['Cluster'] == 4].index]['D19_SOZIALES']\n",
    "x2=customers.iloc[customers_clustered[customers_clustered['Cluster'] == 5].index]['D19_SOZIALES']\n",
    "\n",
    "fig, ax = plt.subplots(figsize=(15,5))\n",
    "\n",
    "width = 0.35 \n",
    "\n",
    "p1 = plt.hist(x1, width=width, label='Cluster 4')\n",
    "p2 = plt.hist(x2, width=width, label='Cluster 5')\n",
    "\n",
    "plt.title('Distribution of D19_SOZIALES among interested clusters')\n",
    "plt.ylabel('Count')\n",
    "plt.xlabel('Attribute value')\n",
    "plt.legend();"
   ]
  },
  {
   "cell_type": "markdown",
   "metadata": {},
   "source": [
    "From quick comparison of above chart, we can see drastic difference in the distribution of the most important feature \"D19_SOZIALES\". In Cluster 5 the over represented cluster of customer, there is a single bar and in Cluster 10 under represented cluster of customer there is a distribution and not a consolidation in 1 particular value."
   ]
  },
  {
   "cell_type": "markdown",
   "metadata": {},
   "source": [
    "## Part 3: Kaggle Competition\n",
    "\n",
    "Now that you've created a model to predict which individuals are most likely to respond to a mailout campaign, it's time to test that model in competition through Kaggle. If you click on the link [here](http://www.kaggle.com/t/21e6d45d4c574c7fa2d868f0e8c83140), you'll be taken to the competition page where, if you have a Kaggle account, you can enter.\n",
    "\n",
    "Your entry to the competition should be a CSV file with two columns. The first column should be a copy of \"LNR\", which acts as an ID number for each individual in the \"TEST\" partition. The second column, \"RESPONSE\", should be some measure of how likely each individual became a customer – this might not be a straightforward probability. As you should have found in Part 2, there is a large output class imbalance, where most individuals did not respond to the mailout. Thus, predicting individual classes and using accuracy does not seem to be an appropriate performance evaluation method. Instead, the competition will be using AUC to evaluate performance. The exact values of the \"RESPONSE\" column do not matter as much: only that the higher values try to capture as many of the actual customers as possible, early in the ROC curve sweep."
   ]
  },
  {
   "cell_type": "code",
   "execution_count": 177,
   "metadata": {},
   "outputs": [
    {
     "name": "stderr",
     "output_type": "stream",
     "text": [
      "/opt/conda/lib/python3.6/site-packages/IPython/core/interactiveshell.py:2785: DtypeWarning: Columns (18,19) have mixed types. Specify dtype option on import or set low_memory=False.\n",
      "  interactivity=interactivity, compiler=compiler, result=result)\n"
     ]
    }
   ],
   "source": [
    "mailout_test = pd.read_csv('../../data/Term2/capstone/arvato_data/Udacity_MAILOUT_052018_TEST.csv', sep=';')"
   ]
  },
  {
   "cell_type": "code",
   "execution_count": 178,
   "metadata": {},
   "outputs": [
    {
     "name": "stdout",
     "output_type": "stream",
     "text": [
      "The number of rows and columns in the df mailout test dataset are: 42833 and 366\n"
     ]
    }
   ],
   "source": [
    "print('The number of rows and columns in the df mailout test dataset are: {} and {}'.format(mailout_test.shape[0],mailout_test.shape[1]))"
   ]
  },
  {
   "cell_type": "code",
   "execution_count": 179,
   "metadata": {},
   "outputs": [
    {
     "data": {
      "text/plain": [
       "['RESPONSE']"
      ]
     },
     "execution_count": 179,
     "metadata": {},
     "output_type": "execute_result"
    }
   ],
   "source": [
    "# Checking this dataset is not different\n",
    "missing = list(np.setdiff1d(mailout_train.columns, mailout_test.columns))\n",
    "missing"
   ]
  },
  {
   "cell_type": "code",
   "execution_count": 180,
   "metadata": {},
   "outputs": [
    {
     "name": "stdout",
     "output_type": "stream",
     "text": [
      "Before preprocessing mailout_test.shape:  (42833, 366)\n",
      "Shape of dataframe after correlation analysis (42833, 253)\n",
      "Shape of dataframe after One Hot Encoding (42833, 300)\n",
      "Shape of dataframe after impute (42833, 300)\n",
      "Shape of dataframe after scaling (42833, 300)\n",
      "After preprocessing mailout_test_clean.shape:  (42833, 299)\n"
     ]
    }
   ],
   "source": [
    "print('Before preprocessing mailout_test.shape: ', mailout_test.shape)\n",
    "mailout_test_clean = data_preprocess(mailout_test, False)\n",
    "print('After preprocessing mailout_test_clean.shape: ', mailout_test_clean.shape)"
   ]
  },
  {
   "cell_type": "code",
   "execution_count": 181,
   "metadata": {},
   "outputs": [],
   "source": [
    "kaggle_competition = best_clf.predict(mailout_test_clean)"
   ]
  },
  {
   "cell_type": "code",
   "execution_count": 182,
   "metadata": {},
   "outputs": [],
   "source": [
    "df_kaggle = pd.DataFrame(index=mailout_test['LNR'].astype('int32'), data=kaggle_competition)\n",
    "df_kaggle.rename(columns={0: \"RESPONSE\"}, inplace=True)"
   ]
  },
  {
   "cell_type": "code",
   "execution_count": 183,
   "metadata": {},
   "outputs": [
    {
     "data": {
      "text/html": [
       "<div>\n",
       "<style scoped>\n",
       "    .dataframe tbody tr th:only-of-type {\n",
       "        vertical-align: middle;\n",
       "    }\n",
       "\n",
       "    .dataframe tbody tr th {\n",
       "        vertical-align: top;\n",
       "    }\n",
       "\n",
       "    .dataframe thead th {\n",
       "        text-align: right;\n",
       "    }\n",
       "</style>\n",
       "<table border=\"1\" class=\"dataframe\">\n",
       "  <thead>\n",
       "    <tr style=\"text-align: right;\">\n",
       "      <th></th>\n",
       "      <th>RESPONSE</th>\n",
       "    </tr>\n",
       "    <tr>\n",
       "      <th>LNR</th>\n",
       "      <th></th>\n",
       "    </tr>\n",
       "  </thead>\n",
       "  <tbody>\n",
       "    <tr>\n",
       "      <th>58198</th>\n",
       "      <td>0</td>\n",
       "    </tr>\n",
       "    <tr>\n",
       "      <th>45667</th>\n",
       "      <td>0</td>\n",
       "    </tr>\n",
       "    <tr>\n",
       "      <th>633</th>\n",
       "      <td>0</td>\n",
       "    </tr>\n",
       "    <tr>\n",
       "      <th>24773</th>\n",
       "      <td>0</td>\n",
       "    </tr>\n",
       "    <tr>\n",
       "      <th>49503</th>\n",
       "      <td>0</td>\n",
       "    </tr>\n",
       "    <tr>\n",
       "      <th>73049</th>\n",
       "      <td>0</td>\n",
       "    </tr>\n",
       "    <tr>\n",
       "      <th>82697</th>\n",
       "      <td>0</td>\n",
       "    </tr>\n",
       "    <tr>\n",
       "      <th>2609</th>\n",
       "      <td>0</td>\n",
       "    </tr>\n",
       "    <tr>\n",
       "      <th>9890</th>\n",
       "      <td>0</td>\n",
       "    </tr>\n",
       "    <tr>\n",
       "      <th>60045</th>\n",
       "      <td>0</td>\n",
       "    </tr>\n",
       "    <tr>\n",
       "      <th>17559</th>\n",
       "      <td>0</td>\n",
       "    </tr>\n",
       "    <tr>\n",
       "      <th>16378</th>\n",
       "      <td>0</td>\n",
       "    </tr>\n",
       "    <tr>\n",
       "      <th>79158</th>\n",
       "      <td>0</td>\n",
       "    </tr>\n",
       "    <tr>\n",
       "      <th>66760</th>\n",
       "      <td>0</td>\n",
       "    </tr>\n",
       "    <tr>\n",
       "      <th>69338</th>\n",
       "      <td>0</td>\n",
       "    </tr>\n",
       "  </tbody>\n",
       "</table>\n",
       "</div>"
      ],
      "text/plain": [
       "       RESPONSE\n",
       "LNR            \n",
       "58198         0\n",
       "45667         0\n",
       "633           0\n",
       "24773         0\n",
       "49503         0\n",
       "73049         0\n",
       "82697         0\n",
       "2609          0\n",
       "9890          0\n",
       "60045         0\n",
       "17559         0\n",
       "16378         0\n",
       "79158         0\n",
       "66760         0\n",
       "69338         0"
      ]
     },
     "execution_count": 183,
     "metadata": {},
     "output_type": "execute_result"
    }
   ],
   "source": [
    "df_kaggle.sample(15)"
   ]
  },
  {
   "cell_type": "code",
   "execution_count": 184,
   "metadata": {},
   "outputs": [],
   "source": [
    "df_kaggle.to_csv('kaggle_submission.csv', index=False)"
   ]
  },
  {
   "cell_type": "code",
   "execution_count": 186,
   "metadata": {},
   "outputs": [
    {
     "name": "stdout",
     "output_type": "stream",
     "text": [
      "Hello world\n"
     ]
    }
   ],
   "source": [
    "print(\"Hello world\")"
   ]
  }
 ],
 "metadata": {
  "kernelspec": {
   "display_name": "Python 3",
   "language": "python",
   "name": "python3"
  },
  "language_info": {
   "codemirror_mode": {
    "name": "ipython",
    "version": 3
   },
   "file_extension": ".py",
   "mimetype": "text/x-python",
   "name": "python",
   "nbconvert_exporter": "python",
   "pygments_lexer": "ipython3",
   "version": "3.6.3"
  }
 },
 "nbformat": 4,
 "nbformat_minor": 2
}
